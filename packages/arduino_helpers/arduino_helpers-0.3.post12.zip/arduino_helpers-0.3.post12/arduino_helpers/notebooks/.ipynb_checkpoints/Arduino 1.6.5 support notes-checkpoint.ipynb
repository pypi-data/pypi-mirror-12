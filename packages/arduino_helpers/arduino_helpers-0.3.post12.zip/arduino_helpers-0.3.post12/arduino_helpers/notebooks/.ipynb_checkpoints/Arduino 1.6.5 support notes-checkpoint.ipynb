{
 "metadata": {
  "name": "",
  "signature": "sha256:f8d4bc5a6a26f25d47bc578906508e4d421d4a607b44b1c455736dfcef309bf5"
 },
 "nbformat": 3,
 "nbformat_minor": 0,
 "worksheets": [
  {
   "cells": [
    {
     "cell_type": "code",
     "collapsed": false,
     "input": [
      "import arduino_helpers.context as ah\n",
      "import pandas as pd"
     ],
     "language": "python",
     "metadata": {},
     "outputs": [],
     "prompt_number": 1
    },
    {
     "cell_type": "code",
     "collapsed": false,
     "input": [
      "context = pd.Series([ah.ArduinoContext(p)\n",
      "                     for p in [r'c:\\arduino-1.6.5-r2',\n",
      "                               r'c:\\Program Files (x86)\\Arduino']],\n",
      "                     index=['one_six', 'one_zero'])\n",
      "board = context.map(lambda v: ah.Board(v, 'uno'))\n",
      "uploader = board.map(lambda v: ah.Uploader(v))\n",
      "#  Uploader.upload(self, bitstream_file, port, verify=True)\n",
      "compiler = board.map(lambda v: ah.Compiler(v))"
     ],
     "language": "python",
     "metadata": {},
     "outputs": [
      {
       "output_type": "stream",
       "stream": "stdout",
       "text": [
        "[warning] Conflict at name\n"
       ]
      }
     ],
     "prompt_number": 2
    },
    {
     "cell_type": "markdown",
     "metadata": {},
     "source": [
      "## `ARDUINO_CORE` ##\n",
      "\n",
      "For example:\n",
      "  - 1.0.5: `'Arduino\\hardware\\arduino\\cores\\arduino'`\n",
      "  - 1.6.5: `'arduino-1.6.5-r2\\hardware\\arduino\\avr\\cores\\arduino'`\n",
      "  \n",
      "Used in `ArduinoBuildContext`:\n",
      "\n",
      " - [392] `get_core_sources`: Gather C/C++ sources from core directory\n",
      "   (except for `main.cpp`)\n",
      " - [585] `build`: Use SCons `VariantDir` support to build core files into\n",
      "   `self.core_root`"
     ]
    },
    {
     "cell_type": "code",
     "collapsed": false,
     "input": [
      "def test_core(board):\n",
      "    result = board.get_core_dir()\n",
      "    assert(result.isdir())\n",
      "    return result\n",
      "    \n",
      "board.map(test_core)"
     ],
     "language": "python",
     "metadata": {},
     "outputs": [
      {
       "metadata": {},
       "output_type": "pyout",
       "prompt_number": 4,
       "text": [
        "one_six     c:\\arduino-1.6.5-r2\\hardware\\arduino\\avr\\cores...\n",
        "one_zero    c:\\Program Files (x86)\\Arduino\\hardware\\arduin...\n",
        "dtype: object"
       ]
      }
     ],
     "prompt_number": 4
    },
    {
     "cell_type": "markdown",
     "metadata": {},
     "source": [
      "## `ARDUINO_SKEL` ##\n",
      "\n",
      "For example:\n",
      "  - 1.0.5: `'Arduino\\hardware\\arduino\\cores\\arduino\\main.cpp'`\n",
      "  - 1.6.5: `'arduino-1.6.5-r2\\hardware\\arduino\\avr\\cores\\arduino\\main.cpp'`"
     ]
    },
    {
     "cell_type": "code",
     "collapsed": false,
     "input": [
      "def test_skel(board):\n",
      "    assert(board.get_core_dir().joinpath('main.cpp').isfile())\n",
      "    \n",
      "board.map(test_skel)"
     ],
     "language": "python",
     "metadata": {},
     "outputs": [
      {
       "metadata": {},
       "output_type": "pyout",
       "prompt_number": 5,
       "text": [
        "one_six     None\n",
        "one_zero    None\n",
        "dtype: object"
       ]
      }
     ],
     "prompt_number": 5
    },
    {
     "cell_type": "markdown",
     "metadata": {},
     "source": [
      "## `ARDUINO_CONF` ##\n",
      "\n",
      "For example:\n",
      "  - 1.0.5: `'Arduino\\hardware\\arduino\\boards.txt'`\n",
      "  - 1.6.5: `'arduino-1.6.5-r2\\hardware\\arduino\\avr\\boards.txt'`\n",
      "  \n",
      "Used in `ArduinoBuildContext`:\n",
      "\n",
      " - [196] Parent directory of `ARDUINO_CONF` is used to find `ARDUINO_CORE` dir.\n",
      " - [306] `get_board_conf` checks each line of `boards.txt` for match to \n",
      "   `<board name>.<config key>=<value>` to look up config value for board.\n",
      "   * `get_board_conf` is used for the following keys:\n",
      "     - `'build.core'`\n",
      "     - `'build.mcu'`\n",
      "     - `'build.f_cpu'`\n",
      "     - `'build.vid'`\n",
      "     - `'build.pid'`\n",
      "     - `'build.variant'`\n",
      "     - `'upload.protocol'`\n",
      "     - `'upload.speed'`\n",
      "     - `'upload.maximum_size'`"
     ]
    },
    {
     "cell_type": "code",
     "collapsed": false,
     "input": [
      "def test_board_conf(board):\n",
      "    print '%s:' % board.name\n",
      "    print 4 * ' ',\n",
      "    print [board.combined_config['build'].get(k, None)\n",
      "           for k in ['core', 'mcu', 'f_cpu', 'pid', 'vid', 'variant']]\n",
      "    print 4 * ' ',\n",
      "    print [board.combined_config['upload'].get(k, None)\n",
      "           for k in ['protocol', 'speed', 'maximum_size']]"
     ],
     "language": "python",
     "metadata": {},
     "outputs": [],
     "prompt_number": 6
    },
    {
     "cell_type": "code",
     "collapsed": false,
     "input": [
      "board.map(test_board_conf)"
     ],
     "language": "python",
     "metadata": {},
     "outputs": [
      {
       "output_type": "stream",
       "stream": "stdout",
       "text": [
        "uno:\n",
        "     ['arduino', 'atmega328p', '16000000L', None, None, 'standard']\n",
        "     ['arduino', '115200', '32256']\n",
        "uno:\n",
        "     ['arduino', 'atmega328p', '16000000L', None, None, 'standard']\n",
        "     ['arduino', '115200', '32256']\n"
       ]
      },
      {
       "metadata": {},
       "output_type": "pyout",
       "prompt_number": 7,
       "text": [
        "one_six     None\n",
        "one_zero    None\n",
        "dtype: object"
       ]
      }
     ],
     "prompt_number": 7
    },
    {
     "cell_type": "markdown",
     "metadata": {},
     "source": [
      "## `ARDUINO_LIBS` ##\n",
      "\n",
      "For example:\n",
      "  - 1.0.5: `['Arduino\\libraries']`\n",
      "  - 1.6.5: `['arduino-1.6.5-r2\\libraries']`\n",
      "  \n",
      "The `libraries` in sketchbook home directory (if present) is also included.\n",
      "  \n",
      "Used in `ArduinoBuildContext`:\n",
      "\n",
      " - [410] Scan sketch to find included library headers and search libs paths\n",
      "   for matching library.  If found, process to add headers to include path and\n",
      "   add sources to build list."
     ]
    },
    {
     "cell_type": "code",
     "collapsed": false,
     "input": [
      "def test_libs(board):\n",
      "    assert(board.get_libraries_dir().isdir())\n",
      "    \n",
      "board.map(test_libs)"
     ],
     "language": "python",
     "metadata": {},
     "outputs": [
      {
       "metadata": {},
       "output_type": "pyout",
       "prompt_number": 8,
       "text": [
        "one_six     None\n",
        "one_zero    None\n",
        "dtype: object"
       ]
      }
     ],
     "prompt_number": 8
    },
    {
     "cell_type": "markdown",
     "metadata": {},
     "source": [
      "## `ARDUINO_BOARD` ##\n",
      "\n",
      "For example: `uno`, `mega2560`, `leonardo`, etc.\n",
      "\n",
      "Used in `ArduinoBuildContext`:\n",
      "\n",
      " - [193] Find `boards.txt` containing `ARDUINO_BOARD`\n",
      " - [309] In discovered `boards.txt`, check for `ARDUINO_BOARD` config value\n",
      " - **[331]** If board is `leonardo`, add `-DUSB_VID` and `-DUSB_PID` to C flags"
     ]
    },
    {
     "cell_type": "code",
     "collapsed": false,
     "input": [
      "# b = ah.Board(context.one_zero, 'mega', cpu='atmega1280')\n",
      "b = ah.Board(context.one_zero, 'mega2560')\n",
      "# b = ah.Board(context.one_six, 'mega', cpu='atmega2560')\n",
      "# b = ah.Board(context.one_six, 'uno')\n",
      "# b = ah.Board(context.one_six, 'leonardo')"
     ],
     "language": "python",
     "metadata": {},
     "outputs": [],
     "prompt_number": 16
    },
    {
     "cell_type": "code",
     "collapsed": false,
     "input": [
      "b['{compiler.path}']"
     ],
     "language": "python",
     "metadata": {},
     "outputs": [
      {
       "metadata": {},
       "output_type": "pyout",
       "prompt_number": 17,
       "text": [
        "(u'c:\\\\Program Files (x86)\\\\Arduino\\\\hardware\\\\tools\\\\avr\\\\bin\\\\', [])"
       ]
      }
     ],
     "prompt_number": 17
    },
    {
     "cell_type": "code",
     "collapsed": false,
     "input": [
      "b['{recipe.c.o.pattern}']"
     ],
     "language": "python",
     "metadata": {},
     "outputs": [
      {
       "metadata": {},
       "output_type": "pyout",
       "prompt_number": 18,
       "text": [
        "('{recipe.c.o.pattern}', ['{recipe.c.o.pattern}'])"
       ]
      }
     ],
     "prompt_number": 18
    },
    {
     "cell_type": "code",
     "collapsed": false,
     "input": [
      "b = ah.Board(context.one_six, 'leonardo')\n",
      "b['{build.extra_flags}']"
     ],
     "language": "python",
     "metadata": {},
     "outputs": [
      {
       "output_type": "stream",
       "stream": "stdout",
       "text": [
        "[warning] Conflict at name\n",
        "[warning] Conflict at build.extra_flags\n"
       ]
      },
      {
       "metadata": {},
       "output_type": "pyout",
       "prompt_number": 19,
       "text": [
        "('-DUSB_VID=0x2341 -DUSB_PID=0x8036 -DUSB_MANUFACTURER=\"Unknown\" -DUSB_PRODUCT=\"Arduino Leonardo\"',\n",
        " [])"
       ]
      }
     ],
     "prompt_number": 19
    }
   ],
   "metadata": {}
  }
 ]
}