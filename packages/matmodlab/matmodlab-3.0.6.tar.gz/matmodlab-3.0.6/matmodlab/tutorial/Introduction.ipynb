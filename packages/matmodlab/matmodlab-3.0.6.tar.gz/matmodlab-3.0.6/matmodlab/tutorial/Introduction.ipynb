{
 "cells": [
  {
   "cell_type": "markdown",
   "metadata": {},
   "source": [
    "# Introduction to Matmodlab\n",
    "\n",
    "The Material Model Laboratory (Matmodlab) is a suite of tools designed for the development of material models intended for deployment in finite element codes.  Matmodlab can be thought of as a tool to drive a single material point of a finite element simulation through specific user defined deformation paths. This permits exercising material models in ways not possible in finite element calculations, desgning verification and validation tests of the material response, among others.\n",
    "\n",
    "Complete documentation for Matmodlab can be found at https://tjfulle.github.io/matmodlab."
   ]
  },
  {
   "cell_type": "markdown",
   "metadata": {},
   "source": [
    "<a name='contents'></a>\n",
    "## Contents\n",
    "\n",
    "1. [Getting Started](getting_started.ipynb)\n",
    "2. [User Defined Material Models: Introduction](user_materials.ipynb)\n",
    "3. [User Defined Material Models: Nonhardening $J_2$ Plasticity](user_materials_plastic.ipynb)\n",
    "3. [Material Parameter Optimization](param_opt.ipynb)"
   ]
  },
  {
   "cell_type": "code",
   "execution_count": null,
   "metadata": {
    "collapsed": true
   },
   "outputs": [],
   "source": []
  }
 ],
 "metadata": {
  "kernelspec": {
   "display_name": "Python 2",
   "language": "python",
   "name": "python2"
  },
  "language_info": {
   "codemirror_mode": {
    "name": "ipython",
    "version": 2
   },
   "file_extension": ".py",
   "mimetype": "text/x-python",
   "name": "python",
   "nbconvert_exporter": "python",
   "pygments_lexer": "ipython2",
   "version": "2.7.10"
  }
 },
 "nbformat": 4,
 "nbformat_minor": 0
}
