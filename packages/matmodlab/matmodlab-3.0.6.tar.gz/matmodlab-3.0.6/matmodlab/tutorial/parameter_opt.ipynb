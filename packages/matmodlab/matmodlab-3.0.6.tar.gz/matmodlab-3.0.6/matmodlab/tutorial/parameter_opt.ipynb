{
 "cells": [
  {
   "cell_type": "markdown",
   "metadata": {},
   "source": [
    "# Material Parameter Optimization\n",
    "\n",
    "In the following example, optimized values of Young's modulus, yield strength, and linear hardening parameters for a linear hardening Von Mises material model are determined using data from a standard uniaxial tension test. The data represents the response of Aluminum, alloy unkown.\n",
    "\n",
    "The strategy is to read read data from an excel file and use the axial strain to drive the simulation. Optimization is performed by minimizing the area between the stress-strain curve calculated and the measured stress-strain curve."
   ]
  },
  {
   "cell_type": "markdown",
   "metadata": {},
   "source": [
    "<a name='contents'></a>\n",
    "## Contents\n"
   ]
  },
  {
   "cell_type": "code",
   "execution_count": 1,
   "metadata": {
    "collapsed": false
   },
   "outputs": [
    {
     "name": "stderr",
     "output_type": "stream",
     "text": [
      "ERROR: Line magic function `%matmodlab` not found.\n"
     ]
    }
   ],
   "source": [
    "%matmodlab"
   ]
  },
  {
   "cell_type": "code",
   "execution_count": null,
   "metadata": {
    "collapsed": true
   },
   "outputs": [],
   "source": [
    "# get the experimental stress and strain\n",
    "filename = os.path.join(_dh[0], 'optimize.xls')\n",
    "assert os.path.isfile(filename)\n",
    "data = loadfile(filename, sheet='MML', disp=0, columns=['E.XX', 'S.XX'])"
   ]
  },
  {
   "cell_type": "code",
   "execution_count": null,
   "metadata": {
    "collapsed": true
   },
   "outputs": [],
   "source": [
    "def runjob(job, names, x):\n",
    "    \"\"\"Run a specific MaterialPointSimulator job for parameters in x\"\"\"\n",
    "    xp = dict(zip(names, x))\n",
    "    NU = 0.32  # poisson's ratio for aluminum\n",
    "    parameters = {'K': xp['E']/3.0/(1.0-2.0*NU), \n",
    "                  'G': xp['E']/2.0/(1.0+NU),\n",
    "                  'Y0': xp['Y0'], \n",
    "                  'H': xp['H'], \n",
    "                  'BETA': 0.0}\n",
    "    mps = MaterialPointSimulator(job)\n",
    "    mps.Material('vonmises', parameters)\n",
    "    mps.DataSteps(filename, steps=30, sheet='MML',\n",
    "                  columns=('E.XX',), descriptors='ESS')\n",
    "    mps.run()\n",
    "    return mps"
   ]
  },
  {
   "cell_type": "code",
   "execution_count": null,
   "metadata": {
    "collapsed": true
   },
   "outputs": [],
   "source": [
    "def func(x, names, evald, job, *args):\n",
    "    \"\"\"The objective function\"\"\"\n",
    "    mps = runjob(job, names, x)\n",
    "    if not mps.ran():\n",
    "        return 1.0e9\n",
    "    xd = mps.get('E.XX', 'S.XX')\n",
    "    error = calculate_bounded_area(data[:,0], data[:,1], xd[:,0], xd[:,1])\n",
    "    return error\n",
    "\n",
    "# set the variables to be optimized\n",
    "E = OptimizeVariable('E',  2.0e6, bounds=(1.0e5, 1.0e7))\n",
    "Y0= OptimizeVariable('Y0', 0.3e5, bounds=(1.0e4, 1.0e6))\n",
    "H = OptimizeVariable('H',  1.0e6, bounds=(1.0e4, 1.0e7))\n",
    "xinit = [E, Y0, H]\n",
    "\n",
    "# the optimzer object\n",
    "optimizer = Optimizer('optimize', func, xinit, method=SIMPLEX,\n",
    "                      maxiter=200, tolerance=1.e-3)\n",
    "\n",
    "# run the job\n",
    "optimizer.run()"
   ]
  },
  {
   "cell_type": "code",
   "execution_count": null,
   "metadata": {
    "collapsed": true
   },
   "outputs": [],
   "source": [
    "mps = runjob('Optimized', optimizer.names, optimizer.xopt)\n",
    "plot = create_figure(x_axis_label='E.XX', y_axis_label='S.XX')\n",
    "plot.scatter(data[:,0], data[:,1], marker='x', color='red', legend='Experimental data')\n",
    "mps.plot('E.XX', 'S.XX', legend='Simulation', color='black', plot=plot, line_width=3)\n",
    "show(plot)"
   ]
  }
 ],
 "metadata": {
  "kernelspec": {
   "display_name": "Python 2",
   "language": "python",
   "name": "python2"
  },
  "language_info": {
   "codemirror_mode": {
    "name": "ipython",
    "version": 2
   },
   "file_extension": ".py",
   "mimetype": "text/x-python",
   "name": "python",
   "nbconvert_exporter": "python",
   "pygments_lexer": "ipython2",
   "version": "2.7.10"
  }
 },
 "nbformat": 4,
 "nbformat_minor": 0
}
