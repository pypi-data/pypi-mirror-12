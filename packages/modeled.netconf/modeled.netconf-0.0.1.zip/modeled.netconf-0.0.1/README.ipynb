{
 "cells": [
  {
   "cell_type": "markdown",
   "metadata": {},
   "source": [
    "# modeled.netconf"
   ]
  },
  {
   "cell_type": "markdown",
   "metadata": {},
   "source": [
    "* https://bitbucket.org/userzimmermann/python-modeled.netconf\n",
    "* https://github.com/userzimmermann/python-modeled.netconf\n",
    "* https://gitlab.com/userzimmermann/python-modeled.netconf\n",
    "* https://www.openhub.net/p/python-modeled_netconf"
   ]
  },
  {
   "cell_type": "markdown",
   "metadata": {},
   "source": [
    "[![](http://www.gnu.org/graphics/lgplv3-88x31.png)](\n",
    "  https://gnu.org/licenses/lgpl.html)"
   ]
  },
  {
   "cell_type": "markdown",
   "metadata": {},
   "source": [
    "[![](https://travis-ci.org/userzimmermann/python-modeled.netconf.svg?branch=master)](\n",
    "  https://travis-ci.org/userzimmermann/python-modeled.netconf)\n",
    "[![](https://ci.appveyor.com/api/projects/status/nqymmsa76qo90gdi?svg=true)](\n",
    "  https://ci.appveyor.com/project/userzimmermann/python-modeled-netconf)"
   ]
  },
  {
   "cell_type": "markdown",
   "metadata": {},
   "source": [
    "## Highly Pythonized NETCONF and YANG"
   ]
  },
  {
   "cell_type": "markdown",
   "metadata": {},
   "source": [
    "* Automagically create [YANG](http://www.yang-central.org)\n",
    "  modules and data containers from\n",
    "  [modeled](https://pypi.python.org/pypi/modeled) Python classes\n",
    "* Simply turn Python methods into\n",
    "  [NETCONF](http://www.netconfcentral.org)/YANG RPC methods\n",
    "  using decorators\n",
    "* Directly start NETCONF servers from modeled YANG modules\n",
    "\n",
    "\n",
    "* **TODO**:\n",
    "    * Proper RPC namespace handling\n",
    "    * Handle default NETCONF RPC methods like `<get>` or `<get-config>`\n",
    "    * Create NETCONF servers with multiple modeled YANG modules\n",
    "    * Automagically create Pythonic NETCONF clients from YANG definitions"
   ]
  },
  {
   "cell_type": "markdown",
   "metadata": {},
   "source": [
    "**Below you will find setup instructions and a tutorial.**"
   ]
  },
  {
   "cell_type": "markdown",
   "metadata": {},
   "source": [
    "**WARNING**: This project is in an early alpha state\n",
    "and not ready for productive use yet."
   ]
  },
  {
   "cell_type": "markdown",
   "metadata": {},
   "source": [
    "**If you are reading a static document:**\n",
    "It was automatically created from the\n",
    "[IPython](http://ipython.org) notebook **README.ipynb**\n",
    "in the **modeled.netconf** repository.\n",
    "You can also view it online (and download it) [here]()."
   ]
  },
  {
   "cell_type": "markdown",
   "metadata": {},
   "source": [
    "## 0. Setup"
   ]
  },
  {
   "cell_type": "markdown",
   "metadata": {},
   "source": [
    "Just use [pip](http://www.pip-installer.org/)\n",
    "to install the latest release from [PyPI](https://pypi.python.org):\n",
    "\n",
    "    pip install modeled.netconf\n",
    "\n",
    "It automatically installs all runtime requirements:"
   ]
  },
  {
   "cell_type": "code",
   "execution_count": 1,
   "metadata": {
    "collapsed": false
   },
   "outputs": [
    {
     "data": {
      "text/plain": [
       "zetup>=0.2.27\n",
       "backports.socketpair>=3.5.0\n",
       "moretools>=0.1.7\n",
       "modeled>=0.1.8\n",
       "netconf>=0.3.1\n",
       "pyang>=1.6"
      ]
     },
     "execution_count": 1,
     "metadata": {},
     "output_type": "execute_result"
    }
   ],
   "source": [
    "import modeled.netconf\n",
    "modeled.netconf.__requires__"
   ]
  },
  {
   "cell_type": "markdown",
   "metadata": {},
   "source": [
    "To install in development mode:\n",
    "\n",
    "    pip install -e /path/to/repository/"
   ]
  },
  {
   "cell_type": "markdown",
   "metadata": {},
   "source": [
    "## 1. From a modeled class to a YANG module"
   ]
  },
  {
   "cell_type": "markdown",
   "metadata": {},
   "source": [
    "**modeled.netconf** is based on my\n",
    "[modeled](https://pypi.python.org/pypi/modeled) framework,\n",
    "which provides tools for defining Python classes\n",
    "with typed members and methods,\n",
    "quite similar to [Django]() database models\n",
    "but with a more general approach.\n",
    "Those modeled classes can then automagically be mapped\n",
    "to data serialization formats, databases,\n",
    "GUI frameworks, web frameworks, or whatever,\n",
    "using the integrated `modeled.Adapter` system.\n",
    "The **modeled** framework is still in a late alpha stage,\n",
    "needs some internal refactoring, and lacks documentation,\n",
    "but I am actively working on this.\n",
    "The basic principles should nevertheless become visible during the following example."
   ]
  },
  {
   "cell_type": "markdown",
   "metadata": {},
   "source": [
    "### A modeled Turing Machine"
   ]
  },
  {
   "cell_type": "markdown",
   "metadata": {},
   "source": [
    "Since **modeled.netconf** uses [pyang](https://pypi.python.org/pypi/pyang)\n",
    "for auto-generating YANG definitions from modeled classes,\n",
    "I decided to resemble the Turing Machine example from the\n",
    "**pyang** [tutorial](https://github.com/mbj4668/pyang/wiki/Tutorial)...\n",
    "a bit more simplified and with some little structural and naming changes...\n",
    "however... let's create a modeled Turing Machine\n",
    "(which really works):"
   ]
  },
  {
   "cell_type": "code",
   "execution_count": 2,
   "metadata": {
    "collapsed": false
   },
   "outputs": [],
   "source": [
    "import modeled\n",
    "from modeled import member"
   ]
  },
  {
   "cell_type": "code",
   "execution_count": 3,
   "metadata": {
    "collapsed": false
   },
   "outputs": [],
   "source": [
    "class Input(modeled.object):\n",
    "    \"\"\"The input part of a Turing Machine program rule.\n",
    "    \"\"\"\n",
    "    state = member[int]()\n",
    "    symbol = member[str]()"
   ]
  },
  {
   "cell_type": "code",
   "execution_count": 4,
   "metadata": {
    "collapsed": true
   },
   "outputs": [],
   "source": [
    "class Output(modeled.object):\n",
    "    \"\"\"The output part of a Turing Machine program rule.\n",
    "    \"\"\"\n",
    "    state = member[int]()\n",
    "    symbol = member[str]()\n",
    "    head_move = member[str]['L', 'R']()"
   ]
  },
  {
   "cell_type": "code",
   "execution_count": 5,
   "metadata": {
    "collapsed": true
   },
   "outputs": [],
   "source": [
    "class Rule(modeled.object):\n",
    "    \"\"\"A Turing Machine program rule.\n",
    "    \"\"\"\n",
    "    input = member[Input]()\n",
    "    output = member[Output]()\n",
    "\n",
    "    def __init__(self, input, output):\n",
    "        \"\"\"Expects both `input` and `output` as mappings.\n",
    "        \"\"\"\n",
    "        self.input = Input(\n",
    "            # modeled.object.__init__ supports **kwargs\n",
    "            # for initializing modeled.member values\n",
    "            **dict(input))\n",
    "        self.output = Output(**dict(output))"
   ]
  },
  {
   "cell_type": "code",
   "execution_count": 6,
   "metadata": {
    "collapsed": false
   },
   "outputs": [],
   "source": [
    "class TuringMachine(modeled.object):\n",
    "    state = member[int]()\n",
    "    head_position = member[int]()\n",
    "\n",
    "    # the list of symbols on the input/output tape\n",
    "    tape = member.list[str](indexname='cell', itemname='symbol')\n",
    "\n",
    "    # the machine program as named rules\n",
    "    program = member.dict[str, Rule](keyname='name')\n",
    "\n",
    "    def __init__(self, program):\n",
    "        \"\"\"Create a Turing Machine with the given `program`.\n",
    "        \"\"\"\n",
    "        program = dict(program)\n",
    "        for name, (input, output) in program.items():\n",
    "            self.program[name] = Rule(input, output)\n",
    "\n",
    "    def run(self):\n",
    "        \"\"\"Start the Turing Machine.\n",
    "        \n",
    "        - Runs until no matching input part for current state and tape symbol\n",
    "          can be found in the program rules.\n",
    "        \"\"\"\n",
    "        self.log = \" %s  %d\\n\" % (''.join(self.tape), self.state)\n",
    "        while True:\n",
    "            pos = self.head_position\n",
    "            if 0 <= pos < len(self.tape):\n",
    "                symbol = self.tape[pos]\n",
    "            else:\n",
    "                symbol = None\n",
    "            for name, rule in self.program.items():\n",
    "                if (self.state, symbol) == (rule.input.state, rule.input.symbol):\n",
    "                    self.log += \"%s^%s --> %s\\n\" % (\n",
    "                        ' ' * (pos + 1),\n",
    "                        ' ' * (len(self.tape) - pos),\n",
    "                        name)\n",
    "                    if rule.output.state is not None:\n",
    "                        self.state = rule.output.state\n",
    "                    if rule.output.symbol is not None:\n",
    "                        self.tape[pos] = rule.output.symbol\n",
    "                    self.head_position += {'L': -1, 'R': 1}[rule.output.head_move]\n",
    "                    self.log += \" %s  %d\\n\" % (''.join(self.tape), self.state)\n",
    "                    break\n",
    "            else:\n",
    "                break"
   ]
  },
  {
   "cell_type": "markdown",
   "metadata": {},
   "source": [
    "To check if the Turing Machine works, it needs an actual program.\n",
    "I took it from the **pyang** tutorial again.\n",
    "It's a very simple program for adding to numbers in unary notation\n",
    "separated by a **0**.\n",
    "\n",
    "Let's define it in [YAML](http://yaml.org)\n",
    "If you haven't installed [pyyaml]() yet:\n",
    "\n",
    "    pip install pyyaml\n",
    "\n",
    "`%%file` is an IPython magic function:"
   ]
  },
  {
   "cell_type": "code",
   "execution_count": 7,
   "metadata": {
    "collapsed": false
   },
   "outputs": [
    {
     "name": "stdout",
     "output_type": "stream",
     "text": [
      "Writing turing-machine-program.yaml\n"
     ]
    }
   ],
   "source": [
    "%%file turing-machine-program.yaml\n",
    "\n",
    "left summand:\n",
    "  - {state:    0, symbol:    1}\n",
    "  - {state: null, symbol: null, head_move: R}\n",
    "separator:\n",
    "  - {state:    0, symbol:    0}\n",
    "  - {state:    1, symbol:    1, head_move: R}\n",
    "right summand:\n",
    "  - {state:    1, symbol:    1}\n",
    "  - {state: null, symbol: null, head_move: R}\n",
    "right end:\n",
    "  - {state:    1, symbol: null}\n",
    "  - {state:    2, symbol: null, head_move: L}\n",
    "write separator:\n",
    "  - {state:    2, symbol:    1}\n",
    "  - {state:    3, symbol:    0, head_move: L}\n",
    "go home:\n",
    "  - {state:    3, symbol:    1}\n",
    "  - {state: null, symbol: null, head_move: L}\n",
    "final step:\n",
    "  - {state:    3, symbol: null}\n",
    "  - {state:    4, symbol: null, head_move: R}"
   ]
  },
  {
   "cell_type": "code",
   "execution_count": 8,
   "metadata": {
    "collapsed": false
   },
   "outputs": [],
   "source": [
    "import yaml\n",
    "with open('turing-machine-program.yaml') as f:\n",
    "    TM_PROGRAM = yaml.load(f)"
   ]
  },
  {
   "cell_type": "markdown",
   "metadata": {},
   "source": [
    "Instantiate the Turing Machine with the loaded program..."
   ]
  },
  {
   "cell_type": "code",
   "execution_count": 9,
   "metadata": {
    "collapsed": false
   },
   "outputs": [],
   "source": [
    "tm = TuringMachine(TM_PROGRAM)"
   ]
  },
  {
   "cell_type": "markdown",
   "metadata": {},
   "source": [
    "... and set the initial state for computing unary **1 + 2**:"
   ]
  },
  {
   "cell_type": "code",
   "execution_count": 10,
   "metadata": {
    "collapsed": true
   },
   "outputs": [],
   "source": [
    "tm.state = 0\n",
    "tm.head_position = 0\n",
    "tm.tape = '1011'"
   ]
  },
  {
   "cell_type": "markdown",
   "metadata": {},
   "source": [
    "The tape string gets automatically converted to a list,\n",
    "becaues `TuringMachine.tape` is defined as a `list` member:"
   ]
  },
  {
   "cell_type": "code",
   "execution_count": 11,
   "metadata": {
    "collapsed": false
   },
   "outputs": [
    {
     "data": {
      "text/plain": [
       "['1', '0', '1', '1']"
      ]
     },
     "execution_count": 11,
     "metadata": {},
     "output_type": "execute_result"
    }
   ],
   "source": [
    "tm.tape"
   ]
  },
  {
   "cell_type": "markdown",
   "metadata": {},
   "source": [
    "Ready for turning on the Turing Machine:"
   ]
  },
  {
   "cell_type": "code",
   "execution_count": 12,
   "metadata": {
    "collapsed": false
   },
   "outputs": [],
   "source": [
    "tm.run()"
   ]
  },
  {
   "cell_type": "code",
   "execution_count": 13,
   "metadata": {
    "collapsed": false
   },
   "outputs": [
    {
     "name": "stdout",
     "output_type": "stream",
     "text": [
      " 1011  0\n",
      " ^     --> left summand\n",
      " 1011  0\n",
      "  ^    --> separator\n",
      " 1111  1\n",
      "   ^   --> right summand\n",
      " 1111  1\n",
      "    ^  --> right summand\n",
      " 1111  1\n",
      "     ^ --> right end\n",
      " 1111  2\n",
      "    ^  --> write separator\n",
      " 1110  3\n",
      "   ^   --> go home\n",
      " 1110  3\n",
      "  ^    --> go home\n",
      " 1110  3\n",
      " ^     --> go home\n",
      " 1110  3\n",
      "^      --> final step\n",
      " 1110  4\n",
      "\n"
     ]
    }
   ],
   "source": [
    "print(tm.log)"
   ]
  },
  {
   "cell_type": "markdown",
   "metadata": {},
   "source": [
    "Final state is reached. Result is unary **3**. Seems to work!"
   ]
  },
  {
   "cell_type": "markdown",
   "metadata": {},
   "source": [
    "### YANGifying the Turing Machine"
   ]
  },
  {
   "cell_type": "markdown",
   "metadata": {},
   "source": [
    "Creating a YANG module from our modeled `TuringMachine` class\n",
    "is now as simple as importing the modeled `YANG` module adapter class..."
   ]
  },
  {
   "cell_type": "code",
   "execution_count": 14,
   "metadata": {
    "collapsed": true
   },
   "outputs": [],
   "source": [
    "from modeled.netconf import YANG"
   ]
  },
  {
   "cell_type": "markdown",
   "metadata": {},
   "source": [
    "... and plug it to the `TuringMachine`.\n",
    "This will create a new class which will be derived\n",
    "from both the `YANG` module adapter and the `TuringMachine` class..."
   ]
  },
  {
   "cell_type": "code",
   "execution_count": 15,
   "metadata": {
    "collapsed": false
   },
   "outputs": [
    {
     "data": {
      "text/plain": [
       "[modeled.netconf.yang.YANG[TuringMachine],\n",
       " modeled.netconf.yang.YANG,\n",
       " modeled.netconf.yang.container.YANGContainer,\n",
       " modeled.Adapter,\n",
       " __main__.TuringMachine,\n",
       " modeled.object,\n",
       " modeled.base.base,\n",
       " zetup.object.object,\n",
       " object]"
      ]
     },
     "execution_count": 15,
     "metadata": {},
     "output_type": "execute_result"
    }
   ],
   "source": [
    "YANG[TuringMachine].mro()"
   ]
  },
  {
   "cell_type": "markdown",
   "metadata": {},
   "source": [
    "... and holds a reference to the adapted modeled class:"
   ]
  },
  {
   "cell_type": "code",
   "execution_count": 16,
   "metadata": {
    "collapsed": false
   },
   "outputs": [
    {
     "data": {
      "text/plain": [
       "__main__.TuringMachine"
      ]
     },
     "execution_count": 16,
     "metadata": {},
     "output_type": "execute_result"
    }
   ],
   "source": [
    "YANG[TuringMachine].mclass"
   ]
  },
  {
   "cell_type": "markdown",
   "metadata": {},
   "source": [
    "BTW: the class adaption will be cached,\n",
    "so every `YANG[TuringMachine]` operation\n",
    "will return the same class object:"
   ]
  },
  {
   "cell_type": "code",
   "execution_count": 17,
   "metadata": {
    "collapsed": false
   },
   "outputs": [
    {
     "data": {
      "text/plain": [
       "True"
      ]
     },
     "execution_count": 17,
     "metadata": {},
     "output_type": "execute_result"
    }
   ],
   "source": [
    "YANG[TuringMachine] is YANG[TuringMachine]"
   ]
  },
  {
   "cell_type": "markdown",
   "metadata": {},
   "source": [
    "But let's take look at the really useful features now.\n",
    "The adapted class dynamically provides `.to_...()` methods\n",
    "for every **pyang** output format plugin\n",
    "which you could pass to the **pyang** command's **-f** flag.\n",
    "Calling such a method will programmatically\n",
    "create a `pyang.statement.Statement` tree\n",
    "(which **pyang** does internally on loading an input file)\n",
    "according to the typed members of the adapted modeled class.\n",
    "\n",
    "The adapted class will be mapped to a YANG module\n",
    "and its main data container definition.\n",
    "Module and container name will be generated from the name\n",
    "of the adapted modeled class\n",
    "by decapitalizing and joining its name parts with hyphens.\n",
    "YANG leaf names will be generated from modeled member names\n",
    "by replacing underscores with hyphens.\n",
    "\n",
    "The result is a complete module definition text in the given format,\n",
    "like the default YANG format..."
   ]
  },
  {
   "cell_type": "code",
   "execution_count": 18,
   "metadata": {
    "collapsed": false
   },
   "outputs": [
    {
     "name": "stdout",
     "output_type": "stream",
     "text": [
      "module turing-machine {\n",
      "  namespace \"http://modeled.netconf/turing-machine\";\n",
      "  prefix tm;\n",
      "\n",
      "  revision 2015-10-29;\n",
      "\n",
      "  container turing-machine {\n",
      "    leaf state {\n",
      "      type int64;\n",
      "    }\n",
      "    leaf head-position {\n",
      "      type int64;\n",
      "    }\n",
      "    list tape {\n",
      "      key \"cell\";\n",
      "      leaf cell {\n",
      "        type int64;\n",
      "      }\n",
      "      leaf symbol {\n",
      "        type string;\n",
      "      }\n",
      "    }\n",
      "    list program {\n",
      "      key \"name\";\n",
      "      leaf name {\n",
      "        type string;\n",
      "      }\n",
      "      container rule {\n",
      "        container input {\n",
      "          leaf state {\n",
      "            type int64;\n",
      "          }\n",
      "          leaf symbol {\n",
      "            type string;\n",
      "          }\n",
      "        }\n",
      "        container output {\n",
      "          leaf state {\n",
      "            type int64;\n",
      "          }\n",
      "          leaf symbol {\n",
      "            type string;\n",
      "          }\n",
      "          leaf head-move {\n",
      "            type string;\n",
      "          }\n",
      "        }\n",
      "      }\n",
      "    }\n",
      "  }\n",
      "}\n",
      "\n"
     ]
    }
   ],
   "source": [
    "print(YANG[TuringMachine].to_yang(\n",
    "    prefix='tm', namespace='http://modeled.netconf/turing-machine'))"
   ]
  },
  {
   "cell_type": "markdown",
   "metadata": {},
   "source": [
    "... or the XMLified YIN format:"
   ]
  },
  {
   "cell_type": "code",
   "execution_count": 19,
   "metadata": {
    "collapsed": false
   },
   "outputs": [
    {
     "name": "stdout",
     "output_type": "stream",
     "text": [
      "<?xml version=\"1.0\" encoding=\"UTF-8\"?>\n",
      "<module name=\"turing-machine\"\n",
      "        xmlns=\"urn:ietf:params:xml:ns:yang:yin:1\"\n",
      "        xmlns:tm=\"http://modeled.netconf/turing-machine\">\n",
      "  <namespace uri=\"http://modeled.netconf/turing-machine\"/>\n",
      "  <prefix value=\"tm\"/>\n",
      "  <revision date=\"2015-10-29\"/>\n",
      "  <container name=\"turing-machine\">\n",
      "    <leaf name=\"state\">\n",
      "      <type name=\"int64\"/>\n",
      "    </leaf>\n",
      "    <leaf name=\"head-position\">\n",
      "      <type name=\"int64\"/>\n",
      "    </leaf>\n",
      "    <list name=\"tape\">\n",
      "      <key value=\"cell\"/>\n",
      "      <leaf name=\"cell\">\n",
      "        <type name=\"int64\"/>\n",
      "      </leaf>\n",
      "      <leaf name=\"symbol\">\n",
      "        <type name=\"string\"/>\n",
      "      </leaf>\n",
      "    </list>\n",
      "    <list name=\"program\">\n",
      "      <key value=\"name\"/>\n",
      "      <leaf name=\"name\">\n",
      "        <type name=\"string\"/>\n",
      "      </leaf>\n",
      "      <container name=\"rule\">\n",
      "        <container name=\"input\">\n",
      "          <leaf name=\"state\">\n",
      "            <type name=\"int64\"/>\n",
      "          </leaf>\n",
      "          <leaf name=\"symbol\">\n",
      "            <type name=\"string\"/>\n",
      "          </leaf>\n",
      "        </container>\n",
      "        <container name=\"output\">\n",
      "          <leaf name=\"state\">\n",
      "            <type name=\"int64\"/>\n",
      "          </leaf>\n",
      "          <leaf name=\"symbol\">\n",
      "            <type name=\"string\"/>\n",
      "          </leaf>\n",
      "          <leaf name=\"head-move\">\n",
      "            <type name=\"string\"/>\n",
      "          </leaf>\n",
      "        </container>\n",
      "      </container>\n",
      "    </list>\n",
      "  </container>\n",
      "</module>\n",
      "\n"
     ]
    }
   ],
   "source": [
    "print(YANG[TuringMachine].to_yin(\n",
    "    prefix='tm', namespace='http://modeled.netconf/turing-machine'))"
   ]
  },
  {
   "cell_type": "markdown",
   "metadata": {},
   "source": [
    "Since the modeled YANG module\n",
    "is derived from the adapted `TuringMachine` class,\n",
    "it can still be instantiated and used in the same way:"
   ]
  },
  {
   "cell_type": "code",
   "execution_count": 20,
   "metadata": {
    "collapsed": true
   },
   "outputs": [],
   "source": [
    "tm = YANG[TuringMachine](TM_PROGRAM)"
   ]
  },
  {
   "cell_type": "code",
   "execution_count": 21,
   "metadata": {
    "collapsed": true
   },
   "outputs": [],
   "source": [
    "tm.state = 0\n",
    "tm.head_position = 0\n",
    "tm.tape = '1011'"
   ]
  },
  {
   "cell_type": "code",
   "execution_count": 22,
   "metadata": {
    "collapsed": false
   },
   "outputs": [],
   "source": [
    "tm.run()"
   ]
  },
  {
   "cell_type": "code",
   "execution_count": 23,
   "metadata": {
    "collapsed": false
   },
   "outputs": [
    {
     "data": {
      "text/plain": [
       "(4, ['1', '1', '1', '0'])"
      ]
     },
     "execution_count": 23,
     "metadata": {},
     "output_type": "execute_result"
    }
   ],
   "source": [
    "tm.state, tm.tape"
   ]
  },
  {
   "cell_type": "markdown",
   "metadata": {},
   "source": [
    "### Adding RPC methods"
   ]
  },
  {
   "cell_type": "markdown",
   "metadata": {},
   "source": [
    "Our modeled YANG module is not very useful\n",
    "without some RPC methods for controlling the Turing Machine via NETCONF.\n",
    "**modeled.netconf** offers a simple `@rpc` decorator\n",
    "for defining them:"
   ]
  },
  {
   "cell_type": "code",
   "execution_count": 24,
   "metadata": {
    "collapsed": true
   },
   "outputs": [],
   "source": [
    "from modeled.netconf import rpc"
   ]
  },
  {
   "cell_type": "markdown",
   "metadata": {},
   "source": [
    "The following RPC definitions are again designed\n",
    "according to the **pyang** tutorial.\n",
    "\n",
    "Since those RPC methods are NETCONF/YANG specific,\n",
    "they are defined after the modeled YANG adaption.\n",
    "The simplest way is to derive a new class for that purpose:"
   ]
  },
  {
   "cell_type": "code",
   "execution_count": 25,
   "metadata": {
    "collapsed": false
   },
   "outputs": [],
   "source": [
    "class TM(YANG[TuringMachine]):\n",
    "\n",
    "    @rpc(argtypes={'tape_content': str})\n",
    "    # in Python 3 you can also use function annotations\n",
    "    # and write (self, tape_content: str) below\n",
    "    # instead of argtypes= above\n",
    "    def initialize(self, tape_content):\n",
    "        \"\"\"Initialize the Turing Machine.\n",
    "        \"\"\"\n",
    "        self.state = 0\n",
    "        self.head_position = 0\n",
    "        self.tape = tape_content\n",
    "\n",
    "    @rpc(argtypes={})\n",
    "    def run(self):\n",
    "        \"\"\"Start the Turing Machine operation.\n",
    "        \"\"\"\n",
    "        TuringMachine.run(self)"
   ]
  },
  {
   "cell_type": "markdown",
   "metadata": {},
   "source": [
    "Now the `.to_yang()` conversion also includes the **rpc** definitions,\n",
    "with descriptions taken from the Python methods' `__doc__` strings,\n",
    "and **rpc** and **input** leaf names automatically\n",
    "created from the Python method and argument names\n",
    "by replacing underscores with hyphens again:"
   ]
  },
  {
   "cell_type": "code",
   "execution_count": 26,
   "metadata": {
    "collapsed": false
   },
   "outputs": [
    {
     "name": "stdout",
     "output_type": "stream",
     "text": [
      "module turing-machine {\n",
      "  namespace \"http://modeled.netconf/turing-machine\";\n",
      "  prefix tm;\n",
      "\n",
      "  revision 2015-10-29;\n",
      "\n",
      "  container turing-machine {\n",
      "    leaf state {\n",
      "      type int64;\n",
      "    }\n",
      "    leaf head-position {\n",
      "      type int64;\n",
      "    }\n",
      "    list tape {\n",
      "      key \"cell\";\n",
      "      leaf cell {\n",
      "        type int64;\n",
      "      }\n",
      "      leaf symbol {\n",
      "        type string;\n",
      "      }\n",
      "    }\n",
      "    list program {\n",
      "      key \"name\";\n",
      "      leaf name {\n",
      "        type string;\n",
      "      }\n",
      "      container rule {\n",
      "        container input {\n",
      "          leaf state {\n",
      "            type int64;\n",
      "          }\n",
      "          leaf symbol {\n",
      "            type string;\n",
      "          }\n",
      "        }\n",
      "        container output {\n",
      "          leaf state {\n",
      "            type int64;\n",
      "          }\n",
      "          leaf symbol {\n",
      "            type string;\n",
      "          }\n",
      "          leaf head-move {\n",
      "            type string;\n",
      "          }\n",
      "        }\n",
      "      }\n",
      "    }\n",
      "  }\n",
      "  rpc initialize {\n",
      "    description\n",
      "      \"Initialize the Turing Machine.\";\n",
      "    input {\n",
      "      leaf tape-content {\n",
      "        type string;\n",
      "      }\n",
      "    }\n",
      "  }\n",
      "  rpc run {\n",
      "    description\n",
      "      \"Start the Turing Machine operation.\";\n",
      "  }\n",
      "}\n",
      "\n"
     ]
    }
   ],
   "source": [
    "TM_YANG = TM.to_yang(\n",
    "    prefix='tm', namespace='http://modeled.netconf/turing-machine')\n",
    "print(TM_YANG)"
   ]
  },
  {
   "cell_type": "markdown",
   "metadata": {},
   "source": [
    "Now is a good time to verify if that's really correct YANG.\n",
    "Just write it to a file..."
   ]
  },
  {
   "cell_type": "code",
   "execution_count": 27,
   "metadata": {
    "collapsed": true
   },
   "outputs": [],
   "source": [
    "with open('turing-machine.yang', 'w') as f:\n",
    "    f.write(TM_YANG)"
   ]
  },
  {
   "cell_type": "markdown",
   "metadata": {},
   "source": [
    "...  and feed it to the **pyang** command.\n",
    "Since the **pyang** turorial also produces\n",
    "a tree format output from its YANG Turing Machine,\n",
    "I also do it here for comparison.\n",
    "The leading exclamation mark is IPython syntax\n",
    "for running an external command:"
   ]
  },
  {
   "cell_type": "code",
   "execution_count": 28,
   "metadata": {
    "collapsed": false
   },
   "outputs": [
    {
     "name": "stdout",
     "output_type": "stream",
     "text": [
      "module: turing-machine\n",
      "   +--rw turing-machine\n",
      "      +--rw state?           int64\n",
      "      +--rw head-position?   int64\n",
      "      +--rw tape* [cell]\n",
      "      |  +--rw cell      int64\n",
      "      |  +--rw symbol?   string\n",
      "      +--rw program* [name]\n",
      "         +--rw name    string\n",
      "         +--rw rule\n",
      "            +--rw input\n",
      "            |  +--rw state?    int64\n",
      "            |  +--rw symbol?   string\n",
      "            +--rw output\n",
      "               +--rw state?       int64\n",
      "               +--rw symbol?      string\n",
      "               +--rw head-move?   string\n",
      "rpcs:\n",
      "   +---x initialize\n",
      "   |  +---w input\n",
      "   |     +---w tape-content?   string\n",
      "   +---x run\n"
     ]
    }
   ],
   "source": [
    "!pyang -f tree turing-machine.yang"
   ]
  },
  {
   "cell_type": "markdown",
   "metadata": {},
   "source": [
    "No errors. Great!"
   ]
  },
  {
   "cell_type": "markdown",
   "metadata": {},
   "source": [
    "## 2. From modeled YANG modules to a NETCONF service"
   ]
  },
  {
   "cell_type": "markdown",
   "metadata": {},
   "source": [
    "Finally! Let's run a Turing Machine NETCONF server...\n",
    "\n",
    "First create an instance of our final Turing Machine class\n",
    "with RPC method definitions:"
   ]
  },
  {
   "cell_type": "code",
   "execution_count": 29,
   "metadata": {
    "collapsed": false
   },
   "outputs": [],
   "source": [
    "tm = TM(TM_PROGRAM)"
   ]
  },
  {
   "cell_type": "markdown",
   "metadata": {},
   "source": [
    "Currently only serving NETCONF over\n",
    "[SSH](https://en.wikipedia.org/wiki/Secure_Shell) is supported.\n",
    "We need to specify a network port and user authentication credentials:"
   ]
  },
  {
   "cell_type": "code",
   "execution_count": 30,
   "metadata": {
    "collapsed": true
   },
   "outputs": [],
   "source": [
    "PORT = 12345\n",
    "USERNAME = 'user'\n",
    "PASSWORD = 'password'"
   ]
  },
  {
   "cell_type": "markdown",
   "metadata": {},
   "source": [
    "We also need an SSH key.\n",
    "If you don't have any key lying around,\n",
    "the UNIX tool **ssh-keygen** from\n",
    "[OpenSSH](http://www.openssh.com)\n",
    "(or Windows tools like\n",
    "[PuTTY](http://www.chiark.greenend.org.uk/~sgtatham/putty))\n",
    "can generate one for you.\n",
    "Just name the file **key**:\n",
    "\n",
    "    ssh-keygen -f key"
   ]
  },
  {
   "cell_type": "code",
   "execution_count": 31,
   "metadata": {
    "collapsed": false
   },
   "outputs": [],
   "source": [
    "server = tm.serve_netconf_ssh(\n",
    "    port=PORT, host_key='key', username=USERNAME, password=PASSWORD)"
   ]
  },
  {
   "cell_type": "markdown",
   "metadata": {},
   "source": [
    "And that's it! The created `server` is an instance of Python\n",
    "[netconf](https://pypi.python.org/pypi/netconf) project's\n",
    "`NetconfSSHServer` class.\n",
    "The server's internals run in a separate thread,\n",
    "so it doesn't block the Python script.\n",
    "We can just continue with creating a NETCONF client\n",
    "which talks to the server.\n",
    "Let's directly use `NetconfSSHSession`\n",
    "from the **netconf** project for now.\n",
    "The Pythonic client features of **modeled.netconf** are not implemented yet,\n",
    "but they will also be based on **netconf**."
   ]
  },
  {
   "cell_type": "code",
   "execution_count": 32,
   "metadata": {
    "collapsed": false
   },
   "outputs": [],
   "source": [
    "from netconf.client import NetconfSSHSession"
   ]
  },
  {
   "cell_type": "code",
   "execution_count": 33,
   "metadata": {
    "collapsed": false
   },
   "outputs": [],
   "source": [
    "client = NetconfSSHSession(\n",
    "    'localhost', port=PORT, username=USERNAME, password=PASSWORD)"
   ]
  },
  {
   "cell_type": "markdown",
   "metadata": {},
   "source": [
    "Now the Turing Machine can be remotely initialized\n",
    "with a NETCONF RPC call.\n",
    "Let's compute unary **2 + 3** this time.\n",
    "Normally this would also need the Turing Machine's XML namespace,\n",
    "but namspace handling is not properly supported yet\n",
    "by **modeled.netconf**:"
   ]
  },
  {
   "cell_type": "code",
   "execution_count": 34,
   "metadata": {
    "collapsed": false
   },
   "outputs": [],
   "source": [
    "reply = client.send_rpc(\n",
    "    '<initialize><tape-content>110111</tape-content></initialize>')"
   ]
  },
  {
   "cell_type": "markdown",
   "metadata": {},
   "source": [
    "The tape will be set accordingly:"
   ]
  },
  {
   "cell_type": "code",
   "execution_count": 35,
   "metadata": {
    "collapsed": false
   },
   "outputs": [
    {
     "data": {
      "text/plain": [
       "['1', '1', '0', '1', '1', '1']"
      ]
     },
     "execution_count": 35,
     "metadata": {},
     "output_type": "execute_result"
    }
   ],
   "source": [
    "tm.tape"
   ]
  },
  {
   "cell_type": "markdown",
   "metadata": {},
   "source": [
    "Now run the Turing Machine via RPC:"
   ]
  },
  {
   "cell_type": "code",
   "execution_count": 36,
   "metadata": {
    "collapsed": false
   },
   "outputs": [],
   "source": [
    "reply = client.send_rpc('<run/>')"
   ]
  },
  {
   "cell_type": "code",
   "execution_count": 37,
   "metadata": {
    "collapsed": false
   },
   "outputs": [
    {
     "data": {
      "text/plain": [
       "(4, ['1', '1', '1', '1', '1', '0'])"
      ]
     },
     "execution_count": 37,
     "metadata": {},
     "output_type": "execute_result"
    }
   ],
   "source": [
    "tm.state, tm.tape"
   ]
  },
  {
   "cell_type": "markdown",
   "metadata": {},
   "source": [
    "As expected!"
   ]
  }
 ],
 "metadata": {
  "kernelspec": {
   "display_name": "Python 3",
   "language": "python",
   "name": "python3"
  },
  "language_info": {
   "codemirror_mode": {
    "name": "ipython",
    "version": 3
   },
   "file_extension": ".py",
   "mimetype": "text/x-python",
   "name": "python",
   "nbconvert_exporter": "python",
   "pygments_lexer": "ipython3",
   "version": "3.4.3"
  }
 },
 "nbformat": 4,
 "nbformat_minor": 0
}
