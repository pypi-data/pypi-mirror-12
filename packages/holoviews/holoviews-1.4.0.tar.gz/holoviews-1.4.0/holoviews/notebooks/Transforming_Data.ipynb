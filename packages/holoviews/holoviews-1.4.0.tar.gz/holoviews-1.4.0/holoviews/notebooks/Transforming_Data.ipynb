{
 "cells": [
  {
   "cell_type": "markdown",
   "metadata": {},
   "source": [
    "In the [Exploring Data](Exploring_Data) tutorial, you can see how to wrap your data into sparse multi-dimensional data structures that let you organize, select, slice, and combine your data flexibly. The [Sampling Data](Sampling_Data) tutorial on the other hand explored how to access subsets of your data and displaying it in different ways.\n",
    "\n",
    "In this tutorial, we will see how to transform the data in these large-scale structures, combining not just the visualizations but individual data elements. For instance, you can calculate the mean, standard deviation, and other statistical measures along any dimension, collapsing the data into another form useful for analysis.  "
   ]
  }
 ],
 "metadata": {
  "kernelspec": {
   "display_name": "Python 2",
   "language": "python",
   "name": "python2"
  },
  "language_info": {
   "codemirror_mode": {
    "name": "ipython",
    "version": 2
   },
   "file_extension": ".py",
   "mimetype": "text/x-python",
   "name": "python",
   "nbconvert_exporter": "python",
   "pygments_lexer": "ipython2",
   "version": "2.7.10"
  }
 },
 "nbformat": 4,
 "nbformat_minor": 0
}
