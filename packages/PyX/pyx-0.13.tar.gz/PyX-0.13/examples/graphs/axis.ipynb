{
 "metadata": {},
 "nbformat": 3,
 "nbformat_minor": 0,
 "worksheets": [
  {
   "cells": [
    {
     "cell_type": "heading",
     "level": 1,
     "metadata": {},
     "source": [
      "Using a logarithmic axis and defining the axis range and its label"
     ]
    },
    {
     "cell_type": "code",
     "collapsed": false,
     "input": [
      "from pyx import *\n",
      "\n",
      "g = graph.graphxy(width=8,\n",
      "                  x=graph.axis.log(min=1e-1, max=1e4, title=r\"$x$-axis\"),\n",
      "                  y=graph.axis.lin(max=5, title=r\"$y$-axis\"))\n",
      "g.plot(graph.data.function(\"y(x)=tan(log(1/x))**2\"))\n",
      "g"
     ],
     "language": "python",
     "metadata": {},
     "outputs": [
      {
       "metadata": {},
       "output_type": "pyout",
       "png": "[encoded data removed]"
      }
     ]
    },
    {
     "cell_type": "markdown",
     "metadata": {},
     "source": [
      "Sometimes, you have to visualize rather pathological funtions containing\n",
      "divergencies and/or varying over a large parameter range. This is best done\n",
      "using an appropriate axis. Here, we show a simple example how to do\n",
      "this with PyX. \n",
      "\n",
      "In order to change the properties of the graph axes, we have to create\n",
      "appropriate instances of an axis class and pass them as keyword arguments to\n",
      "the `graph.graphxy` constructor. A number of predefined axes is contained in\n",
      "the `graph.axis` module. Here, we use a linear (abbreviated as\n",
      "`graph.axis.lin`) and a logarithmic (abbreviated as `graph.axis.log`) axis. In\n",
      "both cases, we pass a minimal and maximal value for the axis range. Whereas for\n",
      "the x-axis this is not strictly necessary (we could as well tell the\n",
      "`graph.data.function` instance to emit data in a certain x-range), it is\n",
      "important for the y-axis because the function diverges for certain x values. If\n",
      "we do not set the y range manually, we would obtain a rather compressed display\n",
      "of the function in the y-direction, which, moreover, would strongly depend on\n",
      "the sampling points choosen by PyX along the x-direction. Since the function only\n",
      "diverges towards positive y-values, we only need to set the maximal value of\n",
      "the y-axis (using the `max`-argument). Of course, you can also fix the lower end\n",
      "of the axis range by providing a `min`-argument. In order to introduce the\n",
      "`title` keyword, we give names to the axes.\n",
      "\n",
      "![bend](http://pyx.sourceforge.net/bend.png) Note how PyX changes the way the x-axis is drawn. Instead of simple decimal\n",
      "numbers, an exponential notation is used. This happens automatically by\n",
      "default, if at least one of the values to be shown becomes 10,000 or bigger\n",
      "smaller than 0.001. This behaviour can be altered by using a different axis\n",
      "texter."
     ]
    }
   ],
   "metadata": {}
  }
 ]
}