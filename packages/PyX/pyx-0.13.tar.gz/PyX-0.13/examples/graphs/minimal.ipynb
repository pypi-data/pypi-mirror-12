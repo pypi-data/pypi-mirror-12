{
 "metadata": {},
 "nbformat": 3,
 "nbformat_minor": 0,
 "worksheets": [
  {
   "cells": [
    {
     "cell_type": "heading",
     "level": 1,
     "metadata": {},
     "source": [
      "Plotting data contained in a file"
     ]
    },
    {
     "cell_type": "code",
     "collapsed": false,
     "input": [
      "from pyx import *\n",
      "\n",
      "g = graph.graphxy(width=8)\n",
      "g.plot(graph.data.file(\"minimal.dat\", x=1, y=2))\n",
      "g"
     ],
     "language": "python",
     "metadata": {},
     "outputs": [
      {
       "metadata": {},
       "output_type": "pyout",
       "png": "[encoded data removed]"
      }
     ]
    },
    {
     "cell_type": "markdown",
     "metadata": {},
     "source": [
      "This example shows how to draw a graph representing data stored in a file. \n",
      "We assume that the data is arranged in the file `minimal.dat` in a whitespace-separated\n",
      "two-column form:\n",
      "  # minimal.dat\n",
      "  1  2\n",
      "  2  3\n",
      "  3  8\n",
      "  4  13\n",
      "  5  18\n",
      "  6  21\n",
      "\n",
      "The first step is to create an instance of the `graphxy` class which can be\n",
      "found in the `graph` module. By convention, we call it `g`. The constructor\n",
      "expects at least some information about the desired size of the graph. Here, we\n",
      "specify a width of 8 cm.\n",
      "\n",
      "![bend](http://pyx.sourceforge.net/bend.png) If we only specify one dimension of the graph size, PyX calculates the other\n",
      "automatically, assuming a ratio corresponding to the golden ratio.\n",
      "\n",
      "Next, we add some data to the yet empty graph. In order to do so, we first\n",
      "create a `graph.data.file` instance, which reads the file with the name given\n",
      "as the first argument, i.e., in the present case, `\"minimal.dat\"`. In addition,\n",
      "we have to specify, how the data is organized in the file. To this end, we use\n",
      "the keyword arguments `x=1` and `y=2`, which tell PyX that the first (second)\n",
      "column of the file contains the x (y) values. The `graph.data.file` instance is\n",
      "then directly passed to the `plot` method of the graph `g`.\n",
      "\n",
      "![bend](http://pyx.sourceforge.net/bend.png) Note that PyX by default ignores comments starting by a # sign when reading\n",
      "in the data from the file.\n",
      "\n",
      "![bend](http://pyx.sourceforge.net/bend.png)![bend](http://pyx.sourceforge.net/bend.png) The previous statement is actually not completely correct, as PyX\n",
      "uses the last comment preceding the actual data to give names to the columns.\n",
      "Thus, for a file looking like\n",
      "  # my data (this line is ignored by PyX, but not the following)\n",
      "  # x y\n",
      "  1 2\n",
      "  \n",
      "you wouldn't need to label the columns in the `graph.data.file` call at all.\n",
      "\n",
      "Finally, we write the graph to an EPS and PDF file. Here, we use that every\n",
      "graph is (by inheritance) an instance of the `canvas` class, as well, such that\n",
      "we can directly write it into a file.\n",
      "\n",
      "![bend](http://pyx.sourceforge.net/bend.png) Of course, you can also insert a graph into another canvas and write this\n",
      "canvas later to a file. This way, you can, for instance, easily arrange more\n",
      "than one graph on a page. Later examples will make use of this fact.\n",
      "\n",
      "In PyX, the way data is plotted in a graph is defined by a so-called graph\n",
      "style. A couple of standard graph styles are contained in the module\n",
      "`graph.style`. Depending on the data source, PyX chooses a default style. Here,\n",
      "we are taking the data from a file and PyX assumes that the values represent a\n",
      "discrete set of data points. Hence, it chooses the symbol style\n",
      "`graph.style.symbol` to plot the data. To override this default behaviour, you\n",
      "can pass a list of styles as second argument to the `plot` method. For instance,\n",
      "to have PyX drawing a line through the data points, you can use\n",
      "\n",
      "    g.plot(graph.data.file(\"minimal.dat\", x=1, y=2), [graph.style.line()])"
     ]
    }
   ],
   "metadata": {}
  }
 ]
}