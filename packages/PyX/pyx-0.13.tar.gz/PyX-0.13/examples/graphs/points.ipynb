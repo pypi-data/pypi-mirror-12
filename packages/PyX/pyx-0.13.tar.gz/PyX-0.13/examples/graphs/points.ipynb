{
 "metadata": {},
 "nbformat": 3,
 "nbformat_minor": 0,
 "worksheets": [
  {
   "cells": [
    {
     "cell_type": "heading",
     "level": 1,
     "metadata": {},
     "source": [
      "Plotting data contained in one or more lists"
     ]
    },
    {
     "cell_type": "code",
     "collapsed": false,
     "input": [
      "# suggested by Chris Spencer\n",
      "\n",
      "from pyx import *\n",
      "\n",
      "g = graph.graphxy(width=8)\n",
      "# either provide lists of the individual coordinates\n",
      "g.plot(graph.data.values(x=list(range(10)), y=list(range(10))))\n",
      "# or provide one list containing the whole points\n",
      "g.plot(graph.data.points(list(zip(list(range(10)), list(range(10)))), x=1, y=2))\n",
      "g"
     ],
     "language": "python",
     "metadata": {},
     "outputs": [
      {
       "metadata": {},
       "output_type": "pyout",
       "png": "[encoded data removed]"
      }
     ]
    },
    {
     "cell_type": "markdown",
     "metadata": {},
     "source": [
      "Here, we explain how to plot data which has been calculated before and which is\n",
      "available in a list. \n",
      "\n",
      "The procedure is quite the same as for plotting a data file or a function in\n",
      "the above examples. It differs in that we use an instance of\n",
      "`graph.data.values` or `graph.data.points` in the `plot` method of the graph.\n",
      "The choice of one or the other variant depends on convenience and how the data\n",
      "has been generated: In `graph.data.values` the coordinate values are provided\n",
      "as individual lists. Alternatively, `graph.data.points` takes a list of data\n",
      "points which come as coordinate tuples. You will then have to say something\n",
      "like `x=1, y=2` to specify which entry in your tuples is to be used on which\n",
      "axis.\n",
      "\n",
      "Similarly to the plotting of a data file, the default plotting style here are\n",
      "symbols.\n",
      "\n",
      "Caution: This feature has been renamed/introduced between versions 0.9 and\n",
      "0.10. In versions 0.9 and before the functionality of `graph.data.points` was\n",
      "provided by `graph.data.list`."
     ]
    }
   ],
   "metadata": {}
  }
 ]
}