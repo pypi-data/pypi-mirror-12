{
 "metadata": {},
 "nbformat": 3,
 "nbformat_minor": 0,
 "worksheets": [
  {
   "cells": [
    {
     "cell_type": "heading",
     "level": 1,
     "metadata": {},
     "source": [
      "Plotting a function graph"
     ]
    },
    {
     "cell_type": "code",
     "collapsed": false,
     "input": [
      "from pyx import *\n",
      "\n",
      "g = graph.graphxy(width=8)\n",
      "g.plot(graph.data.function(\"y(x)=sin(x)/x\", min=-15, max=15))\n",
      "g"
     ],
     "language": "python",
     "metadata": {},
     "outputs": [
      {
       "metadata": {},
       "output_type": "pyout",
       "png": "[encoded data removed]"
      }
     ]
    },
    {
     "cell_type": "markdown",
     "metadata": {},
     "source": [
      "Here, we explain how to plot the graph of a real-valued mathematical function of\n",
      "a single real parameter. \n",
      "\n",
      "As in the previous example, we first create a `graph.graphxy` instance passing\n",
      "the width as argument. We then pass a `graph.data.function` instance to the\n",
      "`plot` method of the graph. As first argument, we pass the function in the form\n",
      "\"y(x) = f(x)\". Here, the left-hand side of the equation defines which parameter\n",
      "is independent (here: `x`) and which one is dependent (here: `y`). We also need\n",
      "to inform PyX about the range of the independent variable. This is done by passing\n",
      "the parameters `min` and `max`.\n",
      "\n",
      "![bend](http://pyx.sourceforge.net/bend.png) In order to increase the resolution of the function graph, you can use the\n",
      "parameter `points` of the `graph.data.function` class to increase the number of\n",
      "sampling points from its default value of `100`.\n",
      "\n",
      "Note that the default graph style for function data is `graph.style.line` since\n",
      "PyX assumes a continuous x-range. \n",
      "\n",
      "![bend](http://pyx.sourceforge.net/bend.png) You only need to pass the `min` and `max` parameters to the\n",
      "`graph.data.function` class, if PyX cannot figure out an axis range by itself.\n",
      "Thus, an alternative way to achieve the above result would look like\n",
      "    g = graph.graphxy(width=8, x=graph.axis.linear(min=-15, max=15))\n",
      "    g.plot(graph.data.function(\"y(x)=sin(x)/x\"))\n",
      "Here, we explicitely define an x-axis range by passing an appropriate\n",
      "argument to the `x` parameter of the `graph.graphxy` class.\n",
      "\n",
      "![bend](http://pyx.sourceforge.net/bend.png) For PyX it does not matter, whether you plot a function of a parameter `x` or\n",
      "a parameter `y`. Thus, you may as well write\n",
      "    g.plot(graph.data.function(\"x(y)=sin(y)/y\", min=-15, max=15))\n",
      "to obtain a plot where the y-coordinate is the independent one."
     ]
    }
   ],
   "metadata": {}
  }
 ]
}