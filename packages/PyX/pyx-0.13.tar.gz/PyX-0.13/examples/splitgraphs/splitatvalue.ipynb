{
 "metadata": {},
 "nbformat": 3,
 "nbformat_minor": 0,
 "worksheets": [
  {
   "cells": [
    {
     "cell_type": "heading",
     "level": 1,
     "metadata": {},
     "source": [
      "Split axis at certain values"
     ]
    },
    {
     "cell_type": "code",
     "collapsed": false,
     "input": [
      "from pyx import *\n",
      "\n",
      "pf = graph.data.paramfunction\n",
      "\n",
      "g = graph.graphxy(width=8, x=graph.axis.split())\n",
      "g.plot(pf(\"k\", -1, 1,\n",
      "          \"x, y = splitatvalue(k, -0.9, 0.9), k**100\",\n",
      "          points=1000))\n",
      "g"
     ],
     "language": "python",
     "metadata": {},
     "outputs": [
      {
       "metadata": {},
       "output_type": "pyout",
       "png": "[encoded data removed]"
      }
     ]
    },
    {
     "cell_type": "markdown",
     "metadata": {},
     "source": [
      "A typical use-case for a split axis is to use some special positions on the\n",
      "axis to mark the axis breaks.  For that the `splitatvalue` function is\n",
      "available in all places, where expressions are evaluated in the `graph.data`\n",
      "classes. Here we create a special parametric function where split positions for\n",
      "the x axis are added by the `splitatvalue` function and the y function is a\n",
      "simple polynomial of high order. Note that you can set several split positions\n",
      "by additional parameters of the `splitatvalue` function. In that case\n",
      "the `splitatvalue` function marks odd regions to be a \"None\", by which those\n",
      "data values are ignored by the `splitaxis` instance."
     ]
    }
   ],
   "metadata": {}
  }
 ]
}