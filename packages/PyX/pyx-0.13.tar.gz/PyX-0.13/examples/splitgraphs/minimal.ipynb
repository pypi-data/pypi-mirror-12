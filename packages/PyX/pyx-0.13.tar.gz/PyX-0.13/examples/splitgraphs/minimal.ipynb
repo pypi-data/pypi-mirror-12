{
 "metadata": {},
 "nbformat": 3,
 "nbformat_minor": 0,
 "worksheets": [
  {
   "cells": [
    {
     "cell_type": "heading",
     "level": 1,
     "metadata": {},
     "source": [
      "Minimal split-axis example"
     ]
    },
    {
     "cell_type": "code",
     "collapsed": false,
     "input": [
      "from pyx import *\n",
      "\n",
      "g = graph.graphxy(width=8, x=graph.axis.split())\n",
      "g.plot(graph.data.points([((0, 0.1), 0.1),\n",
      "                          ((0, 0.5), 0.2),\n",
      "                          ((0, 0.9), 0.3),\n",
      "                          ((1, 101), 0.7),\n",
      "                          ((1, 105), 0.8),\n",
      "                          ((1, 109), 0.9)], x=1, y=2))\n",
      "g"
     ],
     "language": "python",
     "metadata": {},
     "outputs": [
      {
       "metadata": {},
       "output_type": "pyout",
       "png": "[encoded data removed]"
      }
     ]
    },
    {
     "cell_type": "markdown",
     "metadata": {},
     "source": [
      "This minimal example creates a split-axis by two simple modifications. \n",
      "First a splitaxis instance is passed to the graph constructor and secondly the\n",
      "data provided for this axis is modified to contain a tuple of two items. The\n",
      "first item is used as a dictionary key to identify the subaxis, to which the\n",
      "presented data belongs to. The second item in the tuple is used as the value on\n",
      "this subaxis."
     ]
    }
   ],
   "metadata": {}
  }
 ]
}