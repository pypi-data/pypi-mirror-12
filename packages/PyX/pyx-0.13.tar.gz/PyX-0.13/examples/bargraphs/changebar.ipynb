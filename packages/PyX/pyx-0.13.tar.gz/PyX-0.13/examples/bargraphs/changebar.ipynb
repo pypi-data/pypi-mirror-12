{
 "metadata": {},
 "nbformat": 3,
 "nbformat_minor": 0,
 "worksheets": [
  {
   "cells": [
    {
     "cell_type": "heading",
     "level": 1,
     "metadata": {},
     "source": [
      "Changing the attributes of the bars"
     ]
    },
    {
     "cell_type": "code",
     "collapsed": false,
     "input": [
      "from pyx import *\n",
      "\n",
      "g = graph.graphxy(width=8, x=graph.axis.bar())\n",
      "g.plot(graph.data.file(\"minimal.dat\", xname=0, y=2), [graph.style.changebar()])\n",
      "g"
     ],
     "language": "python",
     "metadata": {},
     "outputs": [
      {
       "metadata": {},
       "output_type": "pyout",
       "png": "[encoded data removed]"
      }
     ]
    },
    {
     "cell_type": "markdown",
     "metadata": {},
     "source": [
      "This example is equal to the [minimal bar-graph example minimal.html] except for\n",
      "the used style to draw the bars. \n",
      "\n",
      "![bend](http://pyx.sourceforge.net/bend.png) It is not possible to use the changebar style to change itself on a list of\n",
      "data as it is shown for the bar style in the [comparing bars example\n",
      "compare.html].\n",
      "\n",
      "![bend](http://pyx.sourceforge.net/bend.png) We are sorry that a graph key implementation for the changebar style is\n",
      "currently missing. The implementation of such a graph key needs a major rework\n",
      "on the whole graph key system. This rework is planned for the near future."
     ]
    }
   ],
   "metadata": {}
  }
 ]
}