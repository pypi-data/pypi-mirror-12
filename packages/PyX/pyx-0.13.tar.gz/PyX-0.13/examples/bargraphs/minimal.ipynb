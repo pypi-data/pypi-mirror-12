{
 "metadata": {},
 "nbformat": 3,
 "nbformat_minor": 0,
 "worksheets": [
  {
   "cells": [
    {
     "cell_type": "heading",
     "level": 1,
     "metadata": {},
     "source": [
      "Minimal bar-graph example"
     ]
    },
    {
     "cell_type": "code",
     "collapsed": false,
     "input": [
      "from pyx import *\n",
      "\n",
      "g = graph.graphxy(width=8, x=graph.axis.bar())\n",
      "g.plot(graph.data.file(\"minimal.dat\", xname=0, y=2), [graph.style.bar()])\n",
      "g"
     ],
     "language": "python",
     "metadata": {},
     "outputs": [
      {
       "metadata": {},
       "output_type": "pyout",
       "png": "[encoded data removed]"
      }
     ]
    },
    {
     "cell_type": "markdown",
     "metadata": {},
     "source": [
      "For a minimal bar plot you have set an bar axis in the graph constructor and\n",
      "provide Xname column data (X stands for the bar axis to be used).  Here, we\n",
      "just use column 0 which is automatically filled by `graph.data.file` with the\n",
      "line number of the corresponding entry. Furthermore, you need to specify the\n",
      "graph style, since the default graph styles `symbol` and `function` (depending on\n",
      "the data type) are not appropriate for bar graphs.\n",
      "\n",
      "Note that bar graphs differ from other xy-graphs in that they use *discrete\n",
      "axes* for one graph dimension. However, the only affected components of this\n",
      "fundamental change are one of the axes, which needs to be come a discrete one,\n",
      "i.e. a bar axis, and the usage of appropriate graph styles.\n",
      "\n",
      "![bend](http://pyx.sourceforge.net/bend.png) A bar graph is fundamentally different from a graph with a histogram style in\n",
      "its usage of a *discrete axis* in one graph dimension. A histogram instead is\n",
      "created using *continuous axes* in all graph dimensions and just drawing the\n",
      "data in a specific bar-graph-like presentation. In particular, the discreteness\n",
      "of the bar axis is reflected in the naming of its column name: instead of the\n",
      "continuous \"X\" it expects an \"Xname\" (where X stands for the bar axis used) as\n",
      "mentioned above.\n",
      "\n",
      "![bend](http://pyx.sourceforge.net/bend.png) As all axes and graph dimensions in the PyX graph system are treated equally\n",
      "all you need to modify to get bar graph with horizontal bars is to assign the\n",
      "bar axis to the y-axis in the graph constructor and change the names of the\n",
      "data columns to `yname` and `x`.\n",
      "\n",
      "![bend](http://pyx.sourceforge.net/bend.png)![bend](http://pyx.sourceforge.net/bend.png) By using the bar style you implicitly also select a different positioning\n",
      "style, namepy `barpos`. This positioning style handles a single-nested axes\n",
      "with sub-axis values of the range going from 0 to 1."
     ]
    }
   ],
   "metadata": {}
  }
 ]
}