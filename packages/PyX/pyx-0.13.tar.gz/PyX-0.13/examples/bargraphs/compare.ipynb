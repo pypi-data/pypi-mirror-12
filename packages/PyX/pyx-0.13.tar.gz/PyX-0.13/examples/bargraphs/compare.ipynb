{
 "metadata": {},
 "nbformat": 3,
 "nbformat_minor": 0,
 "worksheets": [
  {
   "cells": [
    {
     "cell_type": "heading",
     "level": 1,
     "metadata": {},
     "source": [
      "Comparing bars"
     ]
    },
    {
     "cell_type": "code",
     "collapsed": false,
     "input": [
      "from pyx import *\n",
      "\n",
      "g = graph.graphxy(width=8, x=graph.axis.nestedbar())\n",
      "g.plot([graph.data.file(\"minimal.dat\", xname=\"$0, 0\", y=2),\n",
      "        graph.data.file(\"minimal.dat\", xname=\"$0, 1\", y=3)],\n",
      "       [graph.style.bar()])\n",
      "g"
     ],
     "language": "python",
     "metadata": {},
     "outputs": [
      {
       "metadata": {},
       "output_type": "pyout",
       "png": "[encoded data removed]"
      }
     ]
    },
    {
     "cell_type": "markdown",
     "metadata": {},
     "source": [
      "To draw bars side by side to show differences for the same value you basically\n",
      "need to replace the bar axis by a nestedbar axis and adjust the data to that\n",
      "nesting.  The latter is done by providing a tuple of two values to the\n",
      "nested bar axis instead of a single value. The first element of the tuple is\n",
      "used to select a subaxis (in the present case: one out of twelve) of the\n",
      "nestedbar axis. The second element of the tuple then selects a sub-axis of\n",
      "that particular bar axis (here: one out of two).\n",
      "\n",
      "![bend](http://pyx.sourceforge.net/bend.png) You can replace `0` and `1` in the values provided to the xname parameter of\n",
      "the data by other unique hashable objects. Note, however, that this does not\n",
      "affect the  order of the bars of the subaxis. Instead, the order is defined by\n",
      "the order that data is added to the bar axis. Consequently, when you swap `0`\n",
      "and `1` in the xname parameter nothing will change in the output. However, this\n",
      "value becomes relevant if you turn on naming of the sub-axis by using\n",
      "\n",
      "    graph.axis.bar(defaultsubaxis=graph.axis.bar(dist=0))\n",
      "\n",
      "instead of the `graph.axis.nestedbar` instance in the graph constructor.\n",
      "\n",
      "![bend](http://pyx.sourceforge.net/bend.png)![bend](http://pyx.sourceforge.net/bend.png) You can also use the same values (i.e. objects with the same hash value) for\n",
      "the subselection of the nested bar axis. Then the bars will overpaint each\n",
      "other and by proper ordering of the data you can fake stacked bars by that. For\n",
      "an description of how to do this properly, we refer to the [stacked.html Stack\n",
      "bars on top of each other].\n",
      "\n",
      "![bend](http://pyx.sourceforge.net/bend.png)![bend](http://pyx.sourceforge.net/bend.png) Let's suppose you change the values provided to the xname parameter of the\n",
      "data from `\"$1, 0\"` and `\"$1, 1\"` to `\"0, $1\"` and `\"1, $1\"`, respectively. The\n",
      "answer is, that all red bars will be shown on one subaxis and all blue bars\n",
      "will be shown on another subaxis.\n",
      "\n",
      "![bend](http://pyx.sourceforge.net/bend.png)![bend](http://pyx.sourceforge.net/bend.png) A nested bar axis is totally equivalent to a regular bar axis except for its\n",
      "default value for the `defaultsubaxis` parameter in the constructor. While this\n",
      "`defaultsubaxis` parameter is a special instance of a linear axis for the bar\n",
      "axis, for a nestedbar axis its a special instance of another bar axis. The\n",
      "nesting of bar axes is not limited to a single level: You can nest bar axes\n",
      "into each other to any level you want. Providing explicit subaxes for certain\n",
      "values, the nesting levels can even vary for the differen subaxes. (This is\n",
      "totally crazy.)\n",
      "\n",
      "![bend](http://pyx.sourceforge.net/bend.png) In PyX versions prior to PyX 0.9 the creation of nested data for the bar axes\n",
      "was hidden inside the graph styles (with the limitation as we use it here in\n",
      "this example: adding precisely a single nesting level when passing multiple\n",
      "data to a single set of styles). In previous versions we didn't had the\n",
      "possibility to simply generate tuples for data columns. The automatism was\n",
      "removed completely, which makes *all* the bended sections above possible.\n",
      "This is a quite incompatible but absolutely necessary change."
     ]
    }
   ],
   "metadata": {}
  }
 ]
}