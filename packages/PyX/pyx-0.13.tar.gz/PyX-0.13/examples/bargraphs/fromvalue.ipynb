{
 "metadata": {},
 "nbformat": 3,
 "nbformat_minor": 0,
 "worksheets": [
  {
   "cells": [
    {
     "cell_type": "heading",
     "level": 1,
     "metadata": {},
     "source": [
      "Changing the starting values of the bars"
     ]
    },
    {
     "cell_type": "code",
     "collapsed": false,
     "input": [
      "from pyx import *\n",
      "\n",
      "g = graph.graphxy(width=8, x=graph.axis.bar())\n",
      "g.plot(graph.data.file(\"minimal.dat\", xname=0, y=2),\n",
      "       [graph.style.barpos(fromvalue=0), graph.style.bar()])\n",
      "g"
     ],
     "language": "python",
     "metadata": {},
     "outputs": [
      {
       "metadata": {},
       "output_type": "pyout",
       "png": "[encoded data removed]"
      }
     ]
    },
    {
     "cell_type": "markdown",
     "metadata": {},
     "source": [
      "To adjust the value the bars are starting at you need to set a `fromvalue` at\n",
      "the `barpos` style.  By default the bars start at the baseline not taking\n",
      "into account its value at all.\n",
      "\n",
      "![bend](http://pyx.sourceforge.net/bend.png)![bend](http://pyx.sourceforge.net/bend.png) When setting a `barpos` style explicitely, no other positioning style\n",
      "instance is needed by the bar style and thus you can set other default values\n",
      "for the `barpos` style. Note, that as soon as you explicitely set a barpos\n",
      "style, you can also use other styles requesting a point position at the graph\n",
      "(since the bar style also initializes a point position). Hence you could for\n",
      "example replace the bar style in this example by a `graph.style.symbol`\n",
      "instance."
     ]
    }
   ],
   "metadata": {}
  }
 ]
}