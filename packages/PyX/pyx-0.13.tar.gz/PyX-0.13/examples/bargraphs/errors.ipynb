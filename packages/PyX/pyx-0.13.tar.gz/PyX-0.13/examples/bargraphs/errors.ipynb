{
 "metadata": {},
 "nbformat": 3,
 "nbformat_minor": 0,
 "worksheets": [
  {
   "cells": [
    {
     "cell_type": "heading",
     "level": 1,
     "metadata": {},
     "source": [
      "Skipping the first bar in a stacked bargraph"
     ]
    },
    {
     "cell_type": "code",
     "collapsed": false,
     "input": [
      "from random import random\n",
      "from pyx import *\n",
      "\n",
      "g = graph.graphxy(width=8, x=graph.axis.bar())\n",
      "g.plot(graph.data.file(\"minimal.dat\", xname=0, y=2, stack=3,\n",
      "                       dy=\"1+random()\", dstack=\"1+random()\",\n",
      "                       context={\"random\": random}),\n",
      "       [graph.style.errorbar(),\n",
      "        graph.style.stackedbarpos(\"stack\"),\n",
      "        graph.style.bar([color.rgb.green]),\n",
      "        graph.style.range({\"y\": \"stack\"}),\n",
      "        graph.style.errorbar()])\n",
      "g"
     ],
     "language": "python",
     "metadata": {},
     "outputs": [
      {
       "metadata": {},
       "output_type": "pyout",
       "png": "[encoded data removed]"
      }
     ]
    },
    {
     "cell_type": "markdown",
     "metadata": {},
     "source": [
      "This example shows a bar graph, which starts with a stacked bar skipping to\n",
      "plot the original bar.  This is done by using stackedbarpos before plotting\n",
      "a bar with the bar style. However you can still add errorbars, even to the\n",
      "lower bound of the bar.\n",
      "\n",
      "![bend](http://pyx.sourceforge.net/bend.png)![bend](http://pyx.sourceforge.net/bend.png) This example also shows how to handle several errorbars in one plot command\n",
      "by the usenames argument of the range style."
     ]
    }
   ],
   "metadata": {}
  }
 ]
}