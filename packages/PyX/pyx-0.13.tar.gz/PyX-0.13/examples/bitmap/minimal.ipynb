{
 "metadata": {},
 "nbformat": 3,
 "nbformat_minor": 0,
 "worksheets": [
  {
   "cells": [
    {
     "cell_type": "heading",
     "level": 1,
     "metadata": {},
     "source": [
      "Store bitmap data using PyX"
     ]
    },
    {
     "cell_type": "code",
     "collapsed": false,
     "input": [
      "from pyx import *\n",
      "\n",
      "image_bw = bitmap.image(2, 2, \"L\", b\"\\0\\377\\377\\0\")\n",
      "image_rgb = bitmap.image(3, 2, \"RGB\", b\"\\77\\77\\77\\177\\177\\177\\277\\277\\277\"\n",
      "                                      b\"\\377\\0\\0\\0\\377\\0\\0\\0\\377\")\n",
      "bitmap_bw = bitmap.bitmap(0, 1, image_bw, height=0.8)\n",
      "bitmap_rgb = bitmap.bitmap(0, 0, image_rgb, height=0.8)\n",
      "\n",
      "c = canvas.canvas()\n",
      "c.insert(bitmap_bw)\n",
      "c.insert(bitmap_rgb)\n",
      "c"
     ],
     "language": "python",
     "metadata": {},
     "outputs": [
      {
       "metadata": {},
       "output_type": "pyout",
       "png": "[encoded data removed]"
      }
     ]
    },
    {
     "cell_type": "markdown",
     "metadata": {},
     "source": [
      "While the main purpose of PyX is to create vector graphics, it is also possible\n",
      "to store bitmap data in the PyX output. In this example, we show how to\n",
      "create a simple data structure containing the bitmap data  and how such data\n",
      "can then be transformed into an object which can be inserted into a PyX canvas.\n",
      "\n",
      "The first step of providing the bitmap data is creating an `image` instance.\n",
      "You need to specify the size of your data (in pixels) followed by strings\n",
      "describing the type of the bitmap and the bitmap data itself.\n",
      "\n",
      "![bend](http://pyx.sourceforge.net/bend.png) The bitmap functionality currently uses a fixed color depth of 8 bits per\n",
      "color. The pixels are listed row by row, one after the other starting at the\n",
      "upper left corner of the image.\n",
      "\n",
      "Once the image data has been prepared, a `bitmap` instance can be created and\n",
      "inserted into a PyX canvas for later output."
     ]
    }
   ],
   "metadata": {}
  }
 ]
}