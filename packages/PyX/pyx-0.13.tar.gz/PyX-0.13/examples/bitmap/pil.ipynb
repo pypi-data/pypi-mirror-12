{
 "metadata": {},
 "nbformat": 3,
 "nbformat_minor": 0,
 "worksheets": [
  {
   "cells": [
    {
     "cell_type": "heading",
     "level": 1,
     "metadata": {},
     "source": [
      "Using image instances from the PIL"
     ]
    },
    {
     "cell_type": "code",
     "collapsed": false,
     "input": [
      "from pyx import *\n",
      "from PIL import Image\n",
      "\n",
      "im = Image.new(\"RGB\", (3, 1))\n",
      "im.putpixel((0, 0), (255, 0, 0))\n",
      "im.putpixel((1, 0), (0, 255, 0))\n",
      "im.putpixel((2, 0), (0, 0, 255))\n",
      "\n",
      "c = canvas.canvas()\n",
      "c.insert(bitmap.bitmap(0, 0, im, height=0.8))\n",
      "c"
     ],
     "language": "python",
     "metadata": {},
     "outputs": [
      {
       "metadata": {},
       "output_type": "pyout",
       "png": "[encoded data removed]"
      }
     ]
    },
    {
     "cell_type": "markdown",
     "metadata": {},
     "source": [
      "You can use image instances from the [Python Image Library\n",
      "http://www.pythonware.com/products/pil] to create bitmaps. You then have an\n",
      "easy access to all the bitmap formats available in PIL, you may also use PIL\n",
      "features to create/load/modify bitmaps etc.  In order to create an image\n",
      "pixel by pixel, the PIL is not necessary (by the way, it is slow to use\n",
      "putpixel for that).\n",
      "\n",
      "![bend](http://pyx.sourceforge.net/bend.png)![bend](http://pyx.sourceforge.net/bend.png) Using PIL image instances you can also pass indexed images\n",
      "to PyX's `bitmap` class."
     ]
    }
   ],
   "metadata": {}
  }
 ]
}