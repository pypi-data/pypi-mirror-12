{
 "metadata": {},
 "nbformat": 3,
 "nbformat_minor": 0,
 "worksheets": [
  {
   "cells": [
    {
     "cell_type": "heading",
     "level": 1,
     "metadata": {},
     "source": [
      "Smoothing paths"
     ]
    },
    {
     "cell_type": "code",
     "collapsed": false,
     "input": [
      "from pyx import *\n",
      "\n",
      "c = canvas.canvas()\n",
      "p = path.line(0, 0, 2, 2)\n",
      "p.append(path.curveto(2, 0, 3, 0, 4, 0))\n",
      "c.stroke(p)\n",
      "c.stroke(p, [deformer.smoothed(1.0), color.rgb.blue])\n",
      "c.stroke(p, [deformer.smoothed(2.0), color.rgb.red])\n",
      "c"
     ],
     "language": "python",
     "metadata": {},
     "outputs": [
      {
       "metadata": {},
       "output_type": "pyout",
       "png": "[encoded data removed]"
      }
     ]
    },
    {
     "cell_type": "markdown",
     "metadata": {},
     "source": [
      "This example shows how to use the `deformer` class. A deformer takes an\n",
      "original path and return a modified one, which is here a smoothed variant. The\n",
      "deformer can be used like any other attribute when stroking or filling a path.\n",
      "\n",
      "Here, we show the use of `deformer.smoothed`, which smoothes away corners in\n",
      "the original path.  It operates on the `pathitem`s of the original path and\n",
      "cuts out pieces of a given length (`1.0` in the example) surrounding a corner\n",
      "and replaces them by a smooth curve. This new curve is determined to be\n",
      "*geometrically smooth*, exhibiting the same tangents and curvatures as the\n",
      "original path at the connection points. Alltogether, the smoothing is performed\n",
      "not in a strictly *geometrical* sense but also depends on the\n",
      "parameterization of the path. If you try to smooth a path consisting of many\n",
      "short path elements, nothing will really change.\n",
      "\n",
      "![bend](http://pyx.sourceforge.net/bend.png) In all deformers, the deformed path can be accessed directly by\n",
      "\n",
      "    ps = deformer.smoothed(1.0).deform(p)"
     ]
    }
   ],
   "metadata": {}
  }
 ]
}