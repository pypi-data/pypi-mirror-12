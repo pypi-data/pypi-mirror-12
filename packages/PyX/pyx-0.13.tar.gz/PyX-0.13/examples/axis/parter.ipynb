{
 "metadata": {},
 "nbformat": 3,
 "nbformat_minor": 0,
 "worksheets": [
  {
   "cells": [
    {
     "cell_type": "heading",
     "level": 1,
     "metadata": {},
     "source": [
      "Parter: Control over the partitioning of the axis"
     ]
    },
    {
     "cell_type": "code",
     "collapsed": false,
     "input": [
      "import math\n",
      "from pyx import *\n",
      "\n",
      "p = path.curve(0, 0, 3, 0, 1, 4, 4, 4)\n",
      "\n",
      "myparter = graph.axis.parter.linear([\"1/3\", \"1/6\"])\n",
      "\n",
      "c = canvas.canvas()\n",
      "c.insert(graph.axis.pathaxis(p, graph.axis.linear(min=0, max=1, parter=myparter)))\n",
      "c.insert(graph.axis.pathaxis(p.transformed(trafo.translate(4, 0)),\n",
      "                             graph.axis.linear(min=0, max=1, parter=myparter,\n",
      "                             texter=graph.axis.texter.rational())))\n",
      "c"
     ],
     "language": "python",
     "metadata": {},
     "outputs": [
      {
       "metadata": {},
       "output_type": "pyout",
       "png": "[encoded data removed]"
      }
     ]
    },
    {
     "cell_type": "markdown",
     "metadata": {},
     "source": [
      "In the above example, the (default) automatic choice of a good partitioning has\n",
      "been selected. Here, we show how to gain more control over the ticks, in order\n",
      "to fix their intervals. \n",
      "\n",
      "Partitioners (in the code the short form `parter` is used) take care of\n",
      "calculating appropriate tick positions for a given axis range. Automatic\n",
      "partitioners create several tick lists, which are than rated by an axis rater\n",
      "instance, as explained in the above example. In contrast, manual partitioners\n",
      "create a single tick list only, which thus doesn't need to be rated at all.\n",
      "\n",
      "In this example we create a manual partitioner, which places ticks with a\n",
      "distance of 1/3 and subticks with a distance of 1/6. We then use this\n",
      "partitioner at two axis, which are identical except for a texter instance (to\n",
      "show you another feature of the axes in PyX, namely the rational number\n",
      "arithmetics used to place ticks). The rational numbers are preserved throughout\n",
      "the whole process of merging ticks, until the texter finally needs to output\n",
      "the rational numbers. And at the very end the decimal texter steps into the\n",
      "problem to create a proper representation for the fractions. The solution is\n",
      "shown at the left part of the example: the texter marks a period to express the\n",
      "fraction.\n",
      "\n",
      "Alternatively you can use the rational texter to display the values by\n",
      "fractions directly."
     ]
    }
   ],
   "metadata": {}
  }
 ]
}