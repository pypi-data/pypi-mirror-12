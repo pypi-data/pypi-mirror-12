{
 "metadata": {},
 "nbformat": 3,
 "nbformat_minor": 0,
 "worksheets": [
  {
   "cells": [
    {
     "cell_type": "heading",
     "level": 1,
     "metadata": {},
     "source": [
      "Rater: How a nicely looking axis partition is chosen"
     ]
    },
    {
     "cell_type": "code",
     "collapsed": false,
     "input": [
      "from pyx import *\n",
      "\n",
      "p2 = path.curve(0, 0, 3, 0, 1, 4, 4, 4)\n",
      "p1 = p2.transformed(trafo.translate(-4, 0).scaled(0.75))\n",
      "p3 = p2.transformed(trafo.scale(1.25).translated(4, 0))\n",
      "\n",
      "myaxis = graph.axis.linear(min=0, max=10)\n",
      "\n",
      "c = canvas.canvas()\n",
      "c.insert(graph.axis.pathaxis(p1, myaxis))\n",
      "c.insert(graph.axis.pathaxis(p2, myaxis))\n",
      "c.insert(graph.axis.pathaxis(p3, myaxis))\n",
      "c"
     ],
     "language": "python",
     "metadata": {},
     "outputs": [
      {
       "metadata": {},
       "output_type": "pyout",
       "png": "[encoded data removed]"
      }
     ]
    },
    {
     "cell_type": "markdown",
     "metadata": {},
     "source": [
      "We here demonstrate how an axis actually chooses its partition. \n",
      "\n",
      "There are good-looking partitions of an axis and bad-looking ones. The element\n",
      "which chooses one or the other, is the `rater` of an axis. It asks yet another\n",
      "element, the `parter` to suggest several partitions and then chooses the best,\n",
      "according to criteria such as tick distance, number of ticks, subticks, etc.\n",
      "(The partitioning process itself is explained in a later example).\n",
      "\n",
      "In this example we show the influence of the tick distances: Several axes with\n",
      "the same parameters are plotted on a path which is scaled. Note that the axes\n",
      "choose the ticks appropriately to the available space.\n",
      "\n",
      "The rating mechanism takes into account the number of ticks and subticks, but\n",
      "also the distances between the labels. Thus, the example in the middle has less\n",
      "ticks than the right version, because there is more space available at the\n",
      "larger path. More interestingly more labels are also shown on the very left\n",
      "path, although it is smaller than the middle one. This is due to the fact, that\n",
      "there is not enough room for labels with a decimal place on the smaller axis!\n",
      "\n",
      "![bend](http://pyx.sourceforge.net/bend.png) The rating mechanism is configurable and exchangeable by passing rater\n",
      "instances to the `rater` keyword of the axis constructor. But instead of\n",
      "reconfiguring the whole rating mechanism, simple adjustments to favour more or\n",
      "less ticks are easily possible by the axis keyword argument `density`.\n",
      "\n",
      "![bend](http://pyx.sourceforge.net/bend.png)![bend](http://pyx.sourceforge.net/bend.png) In this example, the same axis instance is used several times. This works\n",
      "since the axis does not store any data within its own instance. Instead, an\n",
      "`anchoredaxis` instance is created by the `pathaxis` which embeds the axis in a\n",
      "proper environment. This way, a place for storing information for this specific\n",
      "use of the axis instance is provided. When using axes in a graph, the graph\n",
      "instance takes care of the proper setup of the anchored axes instances."
     ]
    }
   ],
   "metadata": {}
  }
 ]
}