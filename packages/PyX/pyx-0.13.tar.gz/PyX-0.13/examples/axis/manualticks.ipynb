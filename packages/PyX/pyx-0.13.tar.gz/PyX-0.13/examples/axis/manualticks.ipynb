{
 "metadata": {},
 "nbformat": 3,
 "nbformat_minor": 0,
 "worksheets": [
  {
   "cells": [
    {
     "cell_type": "heading",
     "level": 1,
     "metadata": {},
     "source": [
      "Manually place ticks at certain positions"
     ]
    },
    {
     "cell_type": "code",
     "collapsed": false,
     "input": [
      "import math\n",
      "from pyx import *\n",
      "\n",
      "p1 = path.curve(0, 0, 3, 0, 1, 4, 4, 4)\n",
      "p2 = p1.transformed(trafo.translate(4, 0))\n",
      "\n",
      "myticks = [graph.axis.tick.tick(math.pi, label=\"\\pi\", labelattrs=[text.mathmode]),\n",
      "           graph.axis.tick.tick(2*math.pi, label=\"2\\pi\", labelattrs=[text.mathmode])]\n",
      "\n",
      "c = canvas.canvas()\n",
      "c.insert(graph.axis.pathaxis(p1, graph.axis.linear(min=0, max=10)))\n",
      "c.insert(graph.axis.pathaxis(p2, graph.axis.linear(min=0, max=10, manualticks=myticks)))\n",
      "c"
     ],
     "language": "python",
     "metadata": {},
     "outputs": [
      {
       "metadata": {},
       "output_type": "pyout",
       "png": "[encoded data removed]"
      }
     ]
    },
    {
     "cell_type": "markdown",
     "metadata": {},
     "source": [
      "Ticks can be set manually by passing tick instances to the `manualticks`\n",
      "argument of the axis instance as shown at the right axis in this example. \n",
      "\n",
      "As you can see, the manual ticks are combined with the automatically created\n",
      "ticks. You could disable any automatic tick creation by setting the `parter`\n",
      "argument to None. But what's much more interesting is, that the manually and\n",
      "automatically created ticks are not just merged, but their combination is used\n",
      "for rating the resulting partition. Therefore, the additional manual ticks lead\n",
      "to a different set of automatically created ticks in this example."
     ]
    }
   ],
   "metadata": {}
  }
 ]
}