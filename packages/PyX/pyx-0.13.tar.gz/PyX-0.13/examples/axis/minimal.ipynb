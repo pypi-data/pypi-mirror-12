{
 "metadata": {},
 "nbformat": 3,
 "nbformat_minor": 0,
 "worksheets": [
  {
   "cells": [
    {
     "cell_type": "heading",
     "level": 1,
     "metadata": {},
     "source": [
      "Minimal example for drawing an isolated axis"
     ]
    },
    {
     "cell_type": "code",
     "collapsed": false,
     "input": [
      "from pyx import *\n",
      "\n",
      "c = graph.axis.pathaxis(path.curve(0, 0, 3, 0, 1, 4, 4, 4),\n",
      "                        graph.axis.linear(min=0, max=10))\n",
      "c"
     ],
     "language": "python",
     "metadata": {},
     "outputs": [
      {
       "metadata": {},
       "output_type": "pyout",
       "png": "[encoded data removed]"
      }
     ]
    },
    {
     "cell_type": "markdown",
     "metadata": {},
     "source": [
      "This is the basic example of how to draw an axis alone -- without the whole\n",
      "graph. It serves to simplify the following examples.  The function\n",
      "`pathaxis` from the `graph.axis` module takes a path and returns a canvas which\n",
      "contains the drawn axis.\n",
      "\n",
      "In contrast to the typical usecase of graphs containing data, we here have to\n",
      "provide the range explicitly (using the `min` and `max` arguments). For real\n",
      "graphs the range of an axis, of course, is adjusted automatically, although you\n",
      "can still set minimal and/or maximal values to force a certain axis range."
     ]
    }
   ],
   "metadata": {}
  }
 ]
}