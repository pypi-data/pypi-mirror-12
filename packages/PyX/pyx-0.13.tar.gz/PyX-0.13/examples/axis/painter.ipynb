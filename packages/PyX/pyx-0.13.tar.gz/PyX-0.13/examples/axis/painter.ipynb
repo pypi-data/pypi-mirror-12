{
 "metadata": {},
 "nbformat": 3,
 "nbformat_minor": 0,
 "worksheets": [
  {
   "cells": [
    {
     "cell_type": "heading",
     "level": 1,
     "metadata": {},
     "source": [
      "Painter: Controlling the visual features of an axis"
     ]
    },
    {
     "cell_type": "code",
     "collapsed": false,
     "input": [
      "from pyx import *\n",
      "\n",
      "mypainter = graph.axis.painter.regular(outerticklength=graph.axis.painter.ticklength.normal,\n",
      "                                       basepathattrs=[style.linewidth.THick, deco.earrow.large])\n",
      "\n",
      "c = graph.axis.pathaxis(path.curve(0, 0, 3, 0, 1, 4, 4, 4),\n",
      "                        graph.axis.linear(min=0, max=11, title=\"axis title\", painter=mypainter))\n",
      "c"
     ],
     "language": "python",
     "metadata": {},
     "outputs": [
      {
       "metadata": {},
       "output_type": "pyout",
       "png": "[encoded data removed]"
      }
     ]
    },
    {
     "cell_type": "markdown",
     "metadata": {},
     "source": [
      "The visual features of an axis (such as ticklengths, linewidths, distances of\n",
      "the labels, their orientation, text attributes, etc.) are controlled by its\n",
      "painter. You can modify these attributes by creating a painter explicitly. \n",
      "\n",
      "While the axis painter has quite some parameters to adjust the output, here we\n",
      "only change its width, add an arrow and alter the ticks: By default, ticks are\n",
      "stroked only towards the inside of the graph (in the path examples there is no\n",
      "graph but don't mind). The labels and the axis title are plotted outside of the\n",
      "graph. Futhermore, the axis title (when present as in this example) is rotated\n",
      "along the axis (without writing it upside down), while the tick labels are not\n",
      "rotated at all.\n",
      "\n",
      "In this example we set an `outerticklength`. Together with the\n",
      "`innerticklength`, which by default is set to the same value, the ticks are\n",
      "stroked across the axis. As it is common to sub-components of the axis, you\n",
      "need to pass the adapted instances (stored in the variable `mypainter` here) to\n",
      "the axis in its constructor.\n",
      "\n",
      "![bend](http://pyx.sourceforge.net/bend.png) In this example there is no tick at the end due to the axis range. You can\n",
      "suppress individual ticks by the `manualticks` axis parameter with ticklevel\n",
      "and labellevel being zero."
     ]
    }
   ],
   "metadata": {}
  }
 ]
}