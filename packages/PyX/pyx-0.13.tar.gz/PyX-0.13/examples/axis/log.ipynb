{
 "metadata": {},
 "nbformat": 3,
 "nbformat_minor": 0,
 "worksheets": [
  {
   "cells": [
    {
     "cell_type": "heading",
     "level": 1,
     "metadata": {},
     "source": [
      "Logarithmic axes"
     ]
    },
    {
     "cell_type": "code",
     "collapsed": false,
     "input": [
      "import math\n",
      "from pyx import *\n",
      "from pyx.graph import axis\n",
      "\n",
      "# we here use parters and texters which are explained in the examples below\n",
      "log2parter = axis.parter.log([axis.parter.preexp([axis.tick.rational(1)], 4),\n",
      "                              axis.parter.preexp([axis.tick.rational(1)], 2)])\n",
      "log2texter = axis.texter.exponential(nomantissaexp=r\"{2^{%s}}\",\n",
      "                                     mantissamax=axis.tick.rational(2))\n",
      "\n",
      "g = graph.graphxy(width=10,\n",
      "    x=axis.log(min=1, max=1024),\n",
      "    y=axis.log(min=1, max=1024, parter=log2parter),\n",
      "    y2=axis.log(min=1, max=1024, parter=log2parter, texter=log2texter))\n",
      "\n",
      "g"
     ],
     "language": "python",
     "metadata": {},
     "outputs": [
      {
       "metadata": {},
       "output_type": "pyout",
       "png": "[encoded data removed]"
      }
     ]
    },
    {
     "cell_type": "markdown",
     "metadata": {},
     "source": [
      "Logarithmic axes are quite similar to linear axes and differ only in a very few\n",
      "properties, namely a non-linear mapping of values to axis positions. They also\n",
      "have different default partitioners and raters (see below).  While the\n",
      "partitioner really is quite different - it implements a logarithmic positioning\n",
      "of the ticks - the rater just alters some defaults in favour of using more\n",
      "subticks to improve the visualization of the logarithmic nature of the axis.\n",
      "\n",
      "![bend](http://pyx.sourceforge.net/bend.png) Besides presenting a standard logarithmic axis, we also show you how to alter\n",
      "the base used by the logarithmic axis. Since the functionality of a logarithmic\n",
      "axis is independent of the base, all we need to adjust are the components for\n",
      "creating ticks (see `log2parter`) and the texts for the labels (see\n",
      "`log2texter`). More details about the parters and texters components are given\n",
      "below in the corresponding examples."
     ]
    }
   ],
   "metadata": {}
  }
 ]
}