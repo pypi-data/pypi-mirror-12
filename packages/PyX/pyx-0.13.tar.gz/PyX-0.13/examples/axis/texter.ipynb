{
 "metadata": {},
 "nbformat": 3,
 "nbformat_minor": 0,
 "worksheets": [
  {
   "cells": [
    {
     "cell_type": "heading",
     "level": 1,
     "metadata": {},
     "source": [
      "Texter: Controlling the formatting of tick labels"
     ]
    },
    {
     "cell_type": "code",
     "collapsed": false,
     "input": [
      "import math\n",
      "from pyx import *\n",
      "from pyx.graph import axis\n",
      "\n",
      "texter1 = axis.texter.decimal(plus=\"+\", minus=\"-\", equalprecision=1)\n",
      "texter2 = axis.texter.rational()\n",
      "\n",
      "class piaxis(axis.linear):\n",
      "\n",
      "    def __init__(self, divisor=math.pi,\n",
      "                 texter=axis.texter.rational(suffix=\"\\pi\"), **kwargs):\n",
      "        axis.linear.__init__(self, divisor=divisor, texter=texter, **kwargs)\n",
      "\n",
      "p1 = path.path(path.moveto(0, 0), path.curveto(3, 0, 1, 4, 4, 4))\n",
      "p2 = p1.transformed(trafo.translate(4, 0))\n",
      "p3 = p2.transformed(trafo.translate(4, 0))\n",
      "p4 = p3.transformed(trafo.translate(4, 0))\n",
      "\n",
      "c = canvas.canvas()\n",
      "c.insert(axis.pathaxis(p1, axis.linear(min=0, max=1e2)))\n",
      "c.insert(axis.pathaxis(p2, axis.linear(min=-0.7, max=0.4, texter=texter1)))\n",
      "c.insert(axis.pathaxis(p3, axis.linear(min=-0.7, max=0.4, texter=texter2)))\n",
      "c.insert(axis.pathaxis(p4, piaxis(min=0, max=2*math.pi)))\n",
      "c"
     ],
     "language": "python",
     "metadata": {},
     "outputs": [
      {
       "metadata": {},
       "output_type": "pyout",
       "png": "[encoded data removed]"
      }
     ]
    },
    {
     "cell_type": "markdown",
     "metadata": {},
     "source": [
      "Texters do the formatting of the tick labels: They create the strings which are\n",
      "then passed to the painter. You can choose between fractions and decimal\n",
      "numbers with/without an exponential part.  The `texter` should not be mixed\n",
      "up with the `painter`: The `painter` is afterwards doing the TeXing and finally\n",
      "creates the labels -- the `texter` prepares the string that is to be processed\n",
      "by TeX.\n",
      "\n",
      "The first example shows the default behavior, which chooses either decimal and\n",
      "exponential formatting.\n",
      "\n",
      "The second example is for special purpose only (because it is ugly), in case\n",
      "that it is strictly necessary to have the same width of all labels.\n",
      "\n",
      "The third example shows how to create fractions instead of decimal numbers.\n",
      "\n",
      "![bend](http://pyx.sourceforge.net/bend.png) At the rightmost axis we also show how to create a special piaxis. Here, some\n",
      "axis parameters are altered to fit an pi-scaled axis nicely. Futhermore,\n",
      "instead of just creating a special axis instance by setting the divisor and\n",
      "texter parameters, a `piaxis` class is created which just alters the defaults\n",
      "of the linear axis it is based at."
     ]
    }
   ],
   "metadata": {}
  }
 ]
}