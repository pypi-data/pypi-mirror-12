{
 "metadata": {},
 "nbformat": 3,
 "nbformat_minor": 0,
 "worksheets": [
  {
   "cells": [
    {
     "cell_type": "heading",
     "level": 1,
     "metadata": {},
     "source": [
      "Adding and joining paths"
     ]
    },
    {
     "cell_type": "code",
     "collapsed": false,
     "input": [
      "from pyx import *\n",
      "\n",
      "unit.set(wscale=10)\n",
      "\n",
      "c = canvas.canvas()\n",
      "\n",
      "c.stroke(path.line(0, 0, 1, 0) +\n",
      "         path.line(1, 0, 1, 1) +\n",
      "         path.line(1, 1, 0, 1) +\n",
      "         path.line(0, 1, 0, 0))\n",
      "\n",
      "c.stroke(path.line(2, 0, 3, 0) <<\n",
      "         path.line(3, 0, 3, 1) <<\n",
      "         path.line(3, 1, 2, 1) <<\n",
      "         path.line(2, 1, 2, 0))\n",
      "\n",
      "p = path.line(4, 0, 5, 0) << path.line(5, 0, 5, 1) << path.line(5, 1, 4, 1)\n",
      "p.append(path.closepath())\n",
      "c.stroke(p)\n",
      "\n",
      "c"
     ],
     "language": "python",
     "metadata": {},
     "outputs": [
      {
       "metadata": {},
       "output_type": "pyout",
       "png": "[encoded data removed]"
      }
     ]
    },
    {
     "cell_type": "markdown",
     "metadata": {},
     "source": [
      "The result of this example looks the same as the [*pathitem*\n",
      "../drawing/pathitem.html] example from the *Basic drawing* section. However, we\n",
      "are using a different approach to construct the paths in this example: we add\n",
      "and join paths.  When *adding* two paths, the resulting path just contains\n",
      "all the subpaths from the first and the second path as its subpaths. The\n",
      "*join* operation between two paths is similar but it combines the last\n",
      "subpath from the first path and continues it by the first subpath of the second\n",
      "path. Thus, *join* does not increase the number of subpaths like the *add*\n",
      "operation.\n",
      "\n",
      "![bend](http://pyx.sourceforge.net/bend.png) A similar result in terms of the line thickness could be achieved by setting a\n",
      "different scale for the linewidth by\n",
      "\n",
      "    unit.set(wscale=10)\n",
      "\n",
      "immediately after the import statement. The unit system of PyX is aware of\n",
      "several length types (unscaleable *true* coordinates `t`, regular *user* coordinates\n",
      "`u`, *visual* coordinates `v` for arrows, symbols and other small visual components,\n",
      "line *widths* `w` and the ``text`` sizes `x`). The length types can be scaled\n",
      "independent of each other (except for *true* coordinates, which cannot be scaled at all).\n",
      "\n",
      "![bend](http://pyx.sourceforge.net/bend.png) Note that joining two paths might insert a line connecting the first and the\n",
      "second path. For example, we could skip the second line when constructing\n",
      "`rect2` in our example above without any change in the result."
     ]
    }
   ],
   "metadata": {}
  }
 ]
}