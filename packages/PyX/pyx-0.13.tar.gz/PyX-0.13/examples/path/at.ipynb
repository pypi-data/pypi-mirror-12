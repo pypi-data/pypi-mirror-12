{
 "metadata": {},
 "nbformat": 3,
 "nbformat_minor": 0,
 "worksheets": [
  {
   "cells": [
    {
     "cell_type": "heading",
     "level": 1,
     "metadata": {},
     "source": [
      "Positions along a path"
     ]
    },
    {
     "cell_type": "code",
     "collapsed": false,
     "input": [
      "from pyx import *\n",
      "\n",
      "def mark(x, y):\n",
      "    return path.circle(x, y, 0.1)\n",
      "\n",
      "c = canvas.canvas()\n",
      "\n",
      "p1 = path.curve(0, 0, 1, 0, 1, 1, 2, 1)\n",
      "c.stroke(p1)\n",
      "c.fill(mark(*p1.atbegin()))\n",
      "c.fill(mark(*p1.at(0.5*p1.arclen())))\n",
      "c.fill(mark(*p1.atend()))\n",
      "\n",
      "p2 = path.curve(3, 0, 4, 0, 4, 1, 5, 1)\n",
      "c.stroke(p2)\n",
      "c.fill(mark(*p2.at(p2.begin()+0.5)))\n",
      "c.fill(mark(*p2.at(p2.end()-0.5)))\n",
      "\n",
      "c"
     ],
     "language": "python",
     "metadata": {},
     "outputs": [
      {
       "metadata": {},
       "output_type": "pyout",
       "png": "[encoded data removed]"
      }
     ]
    },
    {
     "cell_type": "markdown",
     "metadata": {},
     "source": [
      "There are several methods to access certain positions at a path. At first there\n",
      "are `atbegin` and `atend` methods, which return a coordinate tuple. \n",
      "\n",
      "![bend](http://pyx.sourceforge.net/bend.png) In this example, we have defined a small helper function `mark` to which we\n",
      "can pass the return value of the `at` methods. We do this by transforming\n",
      "the sequence in to positional argument of the function call. This Python\n",
      "language feature is available by the `*` syntax in the call.\n",
      "\n",
      "![bend](http://pyx.sourceforge.net/bend.png) The coordinates returned by the `at` methods are PyX lengths in the\n",
      "unscaleable true units similar to the return value of the `arclen` method.\n",
      "\n",
      "For the left path `p1`, we also show how to use the `at` method,\n",
      "which can be used to get the coordinates of a certain point of the path\n",
      "depending on the arc length along the path.\n",
      "\n",
      "A different use of the `at` function is shown for the right path `p2`: It is\n",
      "also possible to pass parametrization instances of the path to the `at` method.\n",
      "In the shown case we first fetch such parametrization instances for the\n",
      "beginning and the end of the path by the `begin` and `end` methods. Note that\n",
      "the `atbegin` method is equal to call `at` with the result value of the `begin`\n",
      "method (except for optimizations: atbegin is faster than the two calls).\n",
      "Similar `atend` could be rewritten using the result value of `end`. As shown in\n",
      "the example you can use the parametrization instances to add and substract arc\n",
      "lengths from selected point.\n",
      "\n",
      "![bend](http://pyx.sourceforge.net/bend.png) The `at` method of a path instance can not only handle a single value, in\n",
      "which case it returns a single result tuple. You can also pass a list to the\n",
      "method and the return value will contain a list of coordinate tuples. You\n",
      "should bear in mind that passing a list is much more efficient than multiple\n",
      "calls of the method performing single conversions at each time."
     ]
    }
   ],
   "metadata": {}
  }
 ]
}