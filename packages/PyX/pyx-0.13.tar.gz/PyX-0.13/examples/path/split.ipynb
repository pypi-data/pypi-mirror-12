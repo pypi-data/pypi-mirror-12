{
 "metadata": {},
 "nbformat": 3,
 "nbformat_minor": 0,
 "worksheets": [
  {
   "cells": [
    {
     "cell_type": "heading",
     "level": 1,
     "metadata": {},
     "source": [
      "Splitting paths"
     ]
    },
    {
     "cell_type": "code",
     "collapsed": false,
     "input": [
      "from pyx import *\n",
      "\n",
      "p = path.curve(0, 0, 1, 0, 1, 1, 2, 1)\n",
      "p1, p2, p3 = p.split([0.5, p.end()-0.5])\n",
      "\n",
      "c = canvas.canvas()\n",
      "c.stroke(p, [style.linewidth.Thin, color.rgb.red])\n",
      "c.stroke(p2, [style.linewidth.Thick, color.rgb.green])\n",
      "c"
     ],
     "language": "python",
     "metadata": {},
     "outputs": [
      {
       "metadata": {},
       "output_type": "pyout",
       "png": "[encoded data removed]"
      }
     ]
    },
    {
     "cell_type": "markdown",
     "metadata": {},
     "source": [
      "In this example we use the `split` method of a path to split it into several\n",
      "paths. Similar to the `at` method you can pass a list of numbers to the split\n",
      "method (or PyX length instances) to specify the splitting point by the arc\n",
      "length  or you can use parametrization instances like the one returned by\n",
      "the `end` method, where you can substract a length to conventiently express a\n",
      "certain location measured from the end of the path.\n",
      "\n",
      "For a single splitting point, you can also pass the parameter directly instead\n",
      "of warpping this single value into a list. Note, however, that the return value\n",
      "of the `split` method is always a list; splitting a non-closed path at one\n",
      "point still yields two segments.\n",
      "\n",
      "![bend](http://pyx.sourceforge.net/bend.png) When splitting at the beginning or the end of the path, one segment may\n",
      "be empty. Still PyX returns a corresponding path of length 0.\n",
      "\n",
      "![bend](http://pyx.sourceforge.net/bend.png) When splitting at non-closed subpaths the result of the split method\n",
      "will be a list containing one path more than the number of splitting\n",
      "points. However, for a closed subpath a splitting at a single point\n",
      "will open the subpath but return a single path only. Consider a circle\n",
      "which you split at a single value: The result will still be a circle,\n",
      "but the path will not be closed anymore."
     ]
    }
   ],
   "metadata": {}
  }
 ]
}