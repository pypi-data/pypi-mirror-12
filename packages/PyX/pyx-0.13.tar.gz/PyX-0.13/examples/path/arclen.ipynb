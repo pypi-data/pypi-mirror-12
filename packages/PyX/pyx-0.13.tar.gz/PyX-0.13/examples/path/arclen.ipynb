{
 "metadata": {},
 "nbformat": 3,
 "nbformat_minor": 0,
 "worksheets": [
  {
   "cells": [
    {
     "cell_type": "heading",
     "level": 1,
     "metadata": {},
     "source": [
      "Arc length of a path"
     ]
    },
    {
     "cell_type": "code",
     "collapsed": false,
     "input": [
      "from pyx import *\n",
      "\n",
      "c = canvas.canvas()\n",
      "\n",
      "p1 = path.curve(0, 0, 1, 0, 1, 1, 2, 1)\n",
      "p2 = path.line(0, 0, p1.arclen(), 0)\n",
      "c.stroke(p1)\n",
      "c.stroke(p2)\n",
      "\n",
      "c"
     ],
     "language": "python",
     "metadata": {},
     "outputs": [
      {
       "metadata": {},
       "output_type": "pyout",
       "png": "[encoded data removed]"
      }
     ]
    },
    {
     "cell_type": "markdown",
     "metadata": {},
     "source": [
      "In this example we use the `arclen` method of the path instance `p1` to get the\n",
      "arc length and create a straight line `p2` with the same arc length. \n",
      "\n",
      "![bend](http://pyx.sourceforge.net/bend.png) While here we use the return value of the arc length as a parameter to a path\n",
      "constructor, you might be interested in what kind of object the return value of\n",
      "the `arclen` method call really is: It is a PyX length in true coordinates,\n",
      "since the path already analyses the PyX units and the return value thus needs\n",
      "to be fixed and can not be scaled anymore. Printing the result of the `arclen`\n",
      "method call of path `p1` would show you:\n",
      "\n",
      "  (0.023110 t + 0.000000 u + 0.000000 v + 0.000000 w + 0.000000 x) m"
     ]
    }
   ],
   "metadata": {}
  }
 ]
}