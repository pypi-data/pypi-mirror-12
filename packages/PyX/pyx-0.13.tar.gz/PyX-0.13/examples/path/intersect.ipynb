{
 "metadata": {},
 "nbformat": 3,
 "nbformat_minor": 0,
 "worksheets": [
  {
   "cells": [
    {
     "cell_type": "heading",
     "level": 1,
     "metadata": {},
     "source": [
      "Intersection points between paths"
     ]
    },
    {
     "cell_type": "code",
     "collapsed": false,
     "input": [
      "from pyx import *\n",
      "\n",
      "p1 = path.curve(0, 0, 1, 0, 1, 1, 2, 1)\n",
      "p2 = path.circle(1, 0.5, 0.5)\n",
      "\n",
      "(a1, a2), (b1, b2) = p1.intersect(p2)\n",
      "\n",
      "x1, y1 = p1.at(a1)\n",
      "x2, y2 = p1.at(a2)\n",
      "\n",
      "c = canvas.canvas()\n",
      "c.fill(path.circle(x1, y1, 0.1), [color.rgb.blue])\n",
      "c.fill(path.circle(x2, y2, 0.1), [color.rgb.blue])\n",
      "c.stroke(p1, [color.rgb.red])\n",
      "c.stroke(p2, [color.rgb.green])\n",
      "c"
     ],
     "language": "python",
     "metadata": {},
     "outputs": [
      {
       "metadata": {},
       "output_type": "pyout",
       "png": "[encoded data removed]"
      }
     ]
    },
    {
     "cell_type": "markdown",
     "metadata": {},
     "source": [
      "The `intersect` method of a path allows for the calculation of intersection\n",
      "points between this path and the second path passed to the `intersect` method. \n",
      "The return value of the intersect method is a tuple of two lists, where each\n",
      "list contains parametrization instances for the intersection points. The first\n",
      "list are the parameters for the path the `intersect` method was called for. The\n",
      "second list are the parameter values for the path passed to the `intersect`\n",
      "method. Thus we can calculate the first intersection point `x1, y1` by\n",
      "\n",
      "    x1, y1 = p1.at(a1)\n",
      "\n",
      "as done in the example or alternatively by\n",
      "\n",
      "    x1, y1 = p2.at(b1)\n",
      "\n",
      "![bend](http://pyx.sourceforge.net/bend.png) When several intersections between two paths occur, the order of the\n",
      "intersection points is defined by the order in which the points are passed when\n",
      "walking along the first path."
     ]
    }
   ],
   "metadata": {}
  }
 ]
}