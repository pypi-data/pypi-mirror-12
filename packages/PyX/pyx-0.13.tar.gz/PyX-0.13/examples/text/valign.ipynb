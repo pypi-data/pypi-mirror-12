{
 "metadata": {},
 "nbformat": 3,
 "nbformat_minor": 0,
 "worksheets": [
  {
   "cells": [
    {
     "cell_type": "heading",
     "level": 1,
     "metadata": {},
     "source": [
      "Vertical alignment"
     ]
    },
    {
     "cell_type": "code",
     "collapsed": false,
     "input": [
      "from pyx import *\n",
      "\n",
      "c = canvas.canvas()\n",
      "\n",
      "# apply global TeX setting\n",
      "text.preamble(r\"\\parindent=0pt\")\n",
      "w = 1.2 # an appropriate parbox width for spam & eggs\n",
      "\n",
      "# vertical alignments by margins\n",
      "c.stroke(path.line(0, 4, 8, 4), [style.linewidth.THin])\n",
      "c.text(0, 4, r\"spam \\& eggs\", [text.parbox(w), text.valign.top])\n",
      "c.text(3, 4, r\"spam \\& eggs\", [text.parbox(w), text.valign.middle])\n",
      "c.text(6, 4, r\"spam \\& eggs\", [text.parbox(w), text.valign.bottom])\n",
      "\n",
      "# vertical alignments by baselines\n",
      "c.stroke(path.line(0, 2, 8, 2), [style.linewidth.THin])\n",
      "c.text(0, 2, r\"spam \\& eggs\", [text.parbox(w, baseline=text.parbox.top)])\n",
      "c.text(3, 2, r\"spam \\& eggs\", [text.parbox(w, baseline=text.parbox.middle)])\n",
      "c.text(6, 2, r\"spam \\& eggs\", [text.parbox(w, baseline=text.parbox.bottom)])\n",
      "\n",
      "# vertical shifts\n",
      "c.stroke(path.line(0, 0, 8, 0), [style.linewidth.THin])\n",
      "c.text(0, 0, r\"x=0\", [text.mathmode, text.vshift.topzero])\n",
      "c.text(2, 0, r\"x=0\", [text.mathmode, text.vshift.middlezero])\n",
      "c.text(4, 0, r\"x=0\", [text.mathmode, text.vshift.bottomzero])\n",
      "c.text(6, 0, r\"x=0\", [text.mathmode, text.vshift.mathaxis])\n",
      "\n",
      "c"
     ],
     "language": "python",
     "metadata": {},
     "outputs": [
      {
       "metadata": {},
       "output_type": "pyout",
       "png": "[encoded data removed]"
      }
     ]
    },
    {
     "cell_type": "markdown",
     "metadata": {},
     "source": [
      "The example demonstrates the effect of several text attributes for vertical\n",
      "alignment.\n",
      "\n",
      "In the first line of the output, the extent of the whole text box is taken into\n",
      "account by various versions of valign. While in this case, the valign attributes\n",
      "are combined with a parbox each, the valign technique also perfectly works for\n",
      "single line text. \n",
      "\n",
      "In contrast, in the second line of the output a parbox is shown with different\n",
      "values for the baseline. Note that by default, text is vertically aligned at\n",
      "its baseline, that is, the line the letters are typed upon. For a parbox\n",
      "containing several lines, there are several choices. PyX allows you to use the\n",
      "top-most baseline (which is, by the way, the default when skipping the baseline\n",
      "keyword argument of the parbox completely), and the bottom-most baseline in\n",
      "your paragraph. Additionally you can also use the position just in the middle\n",
      "of these two cases. Since the alignment along a baseline does not depend on the\n",
      "size of the characters in your output, it is preferable to valign in most\n",
      "use-cases.\n",
      "\n",
      "In the last line of the output, the text.vshift is used to create some vertical\n",
      "shift of the output corresponding to certain criteria. The universal case is\n",
      "to use a certain fraction of a character height (or the height of any TeX\n",
      "expression). For `vshift.topzero` the full height of the character `0` is used,\n",
      "for `vshift.middlezero` half of the height of the character `0` is used and for\n",
      "`vshift.bottomzero`, no shift will be done at all and the usual alignment at the\n",
      "baseline will take place. Another interesting vertical shift value is the\n",
      "`vshift.mathaxis`, which shifts the material by the height of the mathematical\n",
      "axis. This axis is used by TeX to vertically align the mathematical operators\n",
      "and the equal sign but also brackets and objects like the sum and integral\n",
      "symbols. This shift typically is a little less in height as compared to\n",
      "`vshift.middlezero` and fits well in various cases to visually center a single\n",
      "line output in vertical direction. It is also useful to align text, although\n",
      "the value of the shift is based on the configuration of the mathematical mode.\n",
      "This means that the alignment might not be suitable for cases, where the\n",
      "text mode of TeX was reconfigured without also adapting the math mode configuration.\n",
      "\n",
      "![bend](http://pyx.sourceforge.net/bend.png) Please don't get confused by the additional text.mathmode attribute in this\n",
      "vshift example, which leads the text to be rendered in TeX's mathematical mode.\n",
      "The `text.mathmode` attribute is by the way similar but not identical (due to the\n",
      "use of `\\displaystyle`) to encapsulating your expression in TeX's mathmode\n",
      "delimiters `$`."
     ]
    }
   ],
   "metadata": {}
  }
 ]
}