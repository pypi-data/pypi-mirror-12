{
 "metadata": {},
 "nbformat": 3,
 "nbformat_minor": 0,
 "worksheets": [
  {
   "cells": [
    {
     "cell_type": "heading",
     "level": 1,
     "metadata": {},
     "source": [
      "Text along path"
     ]
    },
    {
     "cell_type": "code",
     "collapsed": false,
     "input": [
      "from pyx import *\n",
      "\n",
      "c = canvas.canvas()\n",
      "\n",
      "p = path.path(path.moveto(-2, 0), path.curveto(-1, 0, -1, 1, 0, 1), path.curveto(1, 1, 1, 0, 2, 0))\n",
      "\n",
      "c.stroke(p, [deco.curvedtext(\"\\PyX{} is fun!\"),\n",
      "             deco.curvedtext(\"left\", textattrs=[text.halign.left, text.vshift.mathaxis], arclenfrombegin=0.5, exclude=0.1),\n",
      "             deco.curvedtext(\"right\", textattrs=[text.halign.right, text.vshift.mathaxis], arclenfromend=0.5, exclude=0.1)])\n",
      "\n",
      "c"
     ],
     "language": "python",
     "metadata": {},
     "outputs": [
      {
       "metadata": {},
       "output_type": "pyout",
       "png": "[encoded data removed]"
      }
     ]
    },
    {
     "cell_type": "markdown",
     "metadata": {},
     "source": [
      "In order to set text along a given path, you can use the `curvedtext()`\n",
      "decorator. The example shows a few useful parameter settings for this\n",
      "decorator.\n",
      "\n",
      "![bend](http://pyx.sourceforge.net/bend.png) To output just the curved text, but not the path, you can use the\n",
      "draw method of the canvas instead of the stroke method. By that the\n",
      "path is omitted in the output completely. In contrast, if you set the\n",
      "linewidth to zero instead, the path will still be visible, as those\n",
      "lines will be rendered as the thinnest available linewidth on the\n",
      "output device according to the PostScript and PDF specification."
     ]
    }
   ],
   "metadata": {}
  }
 ]
}