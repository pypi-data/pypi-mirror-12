{
 "metadata": {},
 "nbformat": 3,
 "nbformat_minor": 0,
 "worksheets": [
  {
   "cells": [
    {
     "cell_type": "heading",
     "level": 1,
     "metadata": {},
     "source": [
      "Running and controlling TeX"
     ]
    },
    {
     "cell_type": "code",
     "collapsed": false,
     "input": [
      "from pyx import *\n",
      "\n",
      "# Set properties of the defaulttexrunner, e.g. switch to LaTeX.\n",
      "text.set(text.LatexRunner)\n",
      "\n",
      "c = canvas.canvas()\n",
      "# The canvas, by default, uses the default_runner from the text module.\n",
      "# This can be changed by the canvas method settexrunner.\n",
      "c.text(0, 0, r\"This is \\LaTeX.\")\n",
      "\n",
      "# If you want to use another texrunner temporarily, you can just insert\n",
      "# a text box manually\n",
      "plaintex = text.TexRunner() # plain TeX runner\n",
      "c.insert(plaintex.text(0, -1, r\"This is plain \\TeX.\"))\n",
      "\n",
      "c"
     ],
     "language": "python",
     "metadata": {},
     "outputs": [
      {
       "metadata": {},
       "output_type": "pyout",
       "png": "[encoded data removed]"
      }
     ]
    },
    {
     "cell_type": "markdown",
     "metadata": {},
     "source": [
      "![bend](http://pyx.sourceforge.net/bend.png) Usually, all you will ever need is a single `texrunner` instance which\n",
      "controls a single running TeX or LaTeX instance at a time. To make life easy to\n",
      "our users, such an instance is created automatically upon startup and its\n",
      "called the `defaulttexrunner`. Whenever you use the function shortcuts like\n",
      "`text.text()` and in particular `text.set()`, you are accessing this\n",
      "`defaulttexrunner` instance. Also, the shortcut method `text` of any canvas\n",
      "instance uses this `defaulttexrunner` by default.\n",
      "\n",
      "![bend](http://pyx.sourceforge.net/bend.png)![bend](http://pyx.sourceforge.net/bend.png) However, it is possible to create several texrunner instances. In this\n",
      "example, we are using two of them. To make it a little more interesting, we\n",
      "instruct the `defaulttexrunner` to use LaTeX, while keeping TeX for the\n",
      "`plaintexrunner` instance. It is you turn to try expressions valid in TeX or\n",
      "LaTeX only at the different `texrunner` instances.\n",
      "\n",
      "![bend](http://pyx.sourceforge.net/bend.png)![bend](http://pyx.sourceforge.net/bend.png) Note that you do not have to worry about mixing the results of different\n",
      "texrunners into a single output. Even the embedded fonts in the output are\n",
      "shared. You can, by the way, also restart a `texrunner` instance including the\n",
      "`defaulttexrunner` and change its configuration on that occasion."
     ]
    }
   ],
   "metadata": {}
  }
 ]
}