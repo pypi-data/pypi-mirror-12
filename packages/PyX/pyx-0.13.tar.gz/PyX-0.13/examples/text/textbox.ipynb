{
 "metadata": {},
 "nbformat": 3,
 "nbformat_minor": 0,
 "worksheets": [
  {
   "cells": [
    {
     "cell_type": "heading",
     "level": 1,
     "metadata": {},
     "source": [
      "Enlarge the surrounding of a textbox"
     ]
    },
    {
     "cell_type": "code",
     "collapsed": false,
     "input": [
      "from pyx import *\n",
      "unit.set(xscale=3)\n",
      "\n",
      "tbox = text.text(0, 0, r\"Boxed text\")\n",
      "tpath = tbox.bbox().enlarged(3*unit.x_pt).path()\n",
      "\n",
      "c = canvas.canvas()\n",
      "c.draw(tpath, [deco.filled([color.cmyk.Yellow]), deco.stroked()])\n",
      "c.insert(tbox)\n",
      "c"
     ],
     "language": "python",
     "metadata": {},
     "outputs": [
      {
       "metadata": {},
       "output_type": "pyout",
       "png": "[encoded data removed]"
      }
     ]
    },
    {
     "cell_type": "markdown",
     "metadata": {},
     "source": [
      "![bend](http://pyx.sourceforge.net/bend.png) This example introduces the concept of the `textbox`, which is a canvas-like\n",
      "structure containing the text and its surrounding path and reference point. We\n",
      "demonstrate how to enlarge the surrounding box a little and use it as a\n",
      "decoration of the path. \n",
      "\n",
      "![bend](http://pyx.sourceforge.net/bend.png) The `textbox` is a specialized version of the [`box` concept\n",
      "../../roadmap.html] which has been introduced into PyX in a preliminary\n",
      "version. In the example, we obtain the bounding box (this is a `bbox` instance,\n",
      "not to be mixed up with the `box`) and enlarge it a bit. We then draw the path\n",
      "of the bounding box.\n",
      "\n",
      "![bend](http://pyx.sourceforge.net/bend.png) In future releases of PyX, the boxes will have generic support for enlarging.\n",
      "The syntax will then be\n",
      "\n",
      "    tpath = tbox.enlarged(3*unit.x_pt).path()\n",
      "\n",
      "![bend](http://pyx.sourceforge.net/bend.png) An alternative, geometrically different approach to enlarging the textbox path\n",
      "is via an appropriate transformation, such as\n",
      "\n",
      "    tbox = text.text(0, 0, r\"Boxed text\", [text.halign.boxcenter, text.valign.middle])\n",
      "    tpath = tbox.path().transformed(trafo.scale(1.5, 1.5, 0, 0))"
     ]
    }
   ],
   "metadata": {}
  }
 ]
}