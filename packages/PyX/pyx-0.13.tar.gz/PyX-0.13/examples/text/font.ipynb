{
 "metadata": {},
 "nbformat": 3,
 "nbformat_minor": 0,
 "worksheets": [
  {
   "cells": [
    {
     "cell_type": "heading",
     "level": 1,
     "metadata": {},
     "source": [
      "Customize fonts"
     ]
    },
    {
     "cell_type": "code",
     "collapsed": false,
     "input": [
      "from pyx import *\n",
      "\n",
      "text.set(text.LatexRunner)\n",
      "text.preamble(r\"\\usepackage{times}\")\n",
      "\n",
      "c = canvas.canvas()\n",
      "c.text(0, 0, r\"\\LaTeX{} doesn't need to look like \\LaTeX{} all the time.\")\n",
      "c"
     ],
     "language": "python",
     "metadata": {},
     "outputs": [
      {
       "metadata": {},
       "output_type": "pyout",
       "png": "[encoded data removed]"
      }
     ]
    },
    {
     "cell_type": "markdown",
     "metadata": {},
     "source": [
      "In LaTeX, there are nice packages allowing to switch fonts. Hence, for a simple\n",
      "example we change the mode of the default texrunner instance to LaTeX and use\n",
      "the `preamble` method to load the `times` package. \n",
      "\n",
      "![bend](http://pyx.sourceforge.net/bend.png)![bend](http://pyx.sourceforge.net/bend.png) In general, it is also favourable to employ LaTeX when using your own Type1\n",
      "fonts. Still you can also use different fonts in plain TeX if you are familiar\n",
      "with the topic. However, LaTeX's NFSS (new font selection scheme) is preferable\n",
      "for the ordinary user and has great advantages in daily use. All you need to do\n",
      "is to integrate the fonts into your LaTeX system. PyX and LaTeX both require\n",
      "a font map file containing the specification and the names of the font files.\n",
      "Probably you will need to create your own LaTeX font adaptation, where the\n",
      "`fontinst` utility is of great help. Try your favorite search engine on that\n",
      "topic to learn more about it and find some step by step guides. As soon as\n",
      "your LaTeX system is configured to use your fonts, they will also be available\n",
      "to PyX.\n",
      "\n",
      "![bend](http://pyx.sourceforge.net/bend.png)![bend](http://pyx.sourceforge.net/bend.png) The `times` package loads the Times New Roman and the Helvetica fonts, which\n",
      "are part of any valid Acrobat Reader and Ghostscript installation. These fonts\n",
      "are therefore not explicitly included in the output of PyX. This behaviour is\n",
      "<> from LaTeX, where these standard 35 fonts usually are not contained in the\n",
      "standard font-map file `psfonts.map`.\n",
      "If you say in the PyX configuration file\n",
      "\n",
      "    psfontmaps = psfonts.map download35.map\n",
      "    pdffontmaps = pdftex.map download35.map\n",
      "\n",
      "then PyX finds the corresponding fonts in the map-file and includes the fonts\n",
      "in the output EPS and PDF files."
     ]
    }
   ],
   "metadata": {}
  }
 ]
}