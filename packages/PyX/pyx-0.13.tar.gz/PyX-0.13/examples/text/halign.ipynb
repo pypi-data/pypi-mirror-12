{
 "metadata": {},
 "nbformat": 3,
 "nbformat_minor": 0,
 "worksheets": [
  {
   "cells": [
    {
     "cell_type": "heading",
     "level": 1,
     "metadata": {},
     "source": [
      "Horizontal alignment"
     ]
    },
    {
     "cell_type": "code",
     "collapsed": false,
     "input": [
      "from pyx import *\n",
      "\n",
      "c = canvas.canvas()\n",
      "\n",
      "c.stroke(path.line(-5, 0, -5, 5))\n",
      "c.stroke(path.line(0, 0, 0, 5))\n",
      "c.stroke(path.line(5, 0, 5, 5))\n",
      "\n",
      "c.text(-5, 5, r\"boxleft\", [text.halign.boxleft])\n",
      "c.text(0, 5, r\"boxcenter\", [text.halign.boxcenter])\n",
      "c.text(5, 5, r\"boxright\", [text.halign.boxright])\n",
      "\n",
      "c.text(0, 4, r\"boxcenter and flushleft\",\n",
      "       [text.parbox(3), text.halign.boxcenter, text.halign.flushleft])\n",
      "c.text(0, 3, r\"boxcenter and flushcenter\",\n",
      "       [text.parbox(3), text.halign.boxcenter, text.halign.flushcenter])\n",
      "c.text(0, 2, r\"boxcenter and flushright\",\n",
      "       [text.parbox(3), text.halign.boxcenter, text.halign.flushright])\n",
      "\n",
      "c.text(-5, 0, r\"left: boxleft and flushleft\",\n",
      "       [text.parbox(3), text.halign.left])\n",
      "c.text(0, 0, r\"center: boxcenter and flushcenter\",\n",
      "       [text.parbox(3), text.halign.center])\n",
      "c.text(5, 0, r\"right: boxright and flushright\",\n",
      "       [text.parbox(3), text.halign.right])\n",
      "\n",
      "c"
     ],
     "language": "python",
     "metadata": {},
     "outputs": [
      {
       "metadata": {},
       "output_type": "pyout",
       "png": "[encoded data removed]"
      }
     ]
    },
    {
     "cell_type": "markdown",
     "metadata": {},
     "source": [
      "The example shows the result of the different text attributes for horizontal\n",
      "alignment. We first need to emphasize, that PyX distinguishes between the\n",
      "alignment of the text box and the alignment of the material within the text\n",
      "box. The first line in the output shows the effect of the box alignment\n",
      "created by `boxleft`, `boxcenter` and `boxright` leading to left, center, and right\n",
      "alignment of the text box with respect to the dotted lines. \n",
      "\n",
      "The middle part shows the examples for centering a box, but aligning the\n",
      "content differently inside the box, namely at the left box boundary by\n",
      "`flushleft`, at the center by `flushcenter` and at the right box boundary by\n",
      "`flushright`. Note, that such an alignment of material is available only\n",
      "when you create a parbox in TeX. This is easily done by means of the `parbox`\n",
      "attribute, where you have to specify the width of the box.\n",
      "\n",
      "At the bottom, you can see combinations of `boxleft` and `flushleft`, `boxcenter` and\n",
      "`flushcenter`, and `boxright` and `boxcenter` in action. These combinations are\n",
      "available by the attributes `left`, `center` and `right` to shortcut the setting of\n",
      "both corresponding attributes. You can use these shortcuts for box alignment as\n",
      "well, when you do not create a parbox.\n",
      "\n",
      "![bend](http://pyx.sourceforge.net/bend.png)![bend](http://pyx.sourceforge.net/bend.png) Note that the alignment features are implemented in such a way, that they work\n",
      "in both, TeX and LaTeX mode. Furthermore, you can always influence the\n",
      "alignment of the box contents by appropriate TeX and LaTeX commands as well."
     ]
    }
   ],
   "metadata": {}
  }
 ]
}