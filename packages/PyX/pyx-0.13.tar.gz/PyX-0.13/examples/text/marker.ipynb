{
 "metadata": {},
 "nbformat": 3,
 "nbformat_minor": 0,
 "worksheets": [
  {
   "cells": [
    {
     "cell_type": "heading",
     "level": 1,
     "metadata": {},
     "source": [
      "Using markers"
     ]
    },
    {
     "cell_type": "code",
     "collapsed": false,
     "input": [
      "from pyx import *\n",
      "unit.set(xscale=3)\n",
      "\n",
      "c = canvas.canvas()\n",
      "t = c.text(0, 0, r\"Here\\PyXMarker{id} is a marker.\")\n",
      "center = t.marker(\"id\")\n",
      "c.stroke(path.circle(center[0], center[1], 1), [color.rgb.red])\n",
      "c.stroke(path.line(center[0]-1, center[1], center[0]+1, center[1]), [color.rgb.red])\n",
      "c.stroke(path.line(center[0], center[1]-1, center[0], center[1]+1), [color.rgb.red])\n",
      "c"
     ],
     "language": "python",
     "metadata": {},
     "outputs": [
      {
       "metadata": {},
       "output_type": "pyout",
       "png": "[encoded data removed]"
      }
     ]
    },
    {
     "cell_type": "markdown",
     "metadata": {},
     "source": [
      "The example shows how to obtain specific coordinates in a (La)TeX text. This\n",
      "allows to mark specific portions of text, setting arrows, braces and many\n",
      "more. A marker can be set with the command `\\PyXMarker` which takes the\n",
      "name of the marker as an argument (`id` in the example code). The position of\n",
      "the marker can then be obtained from the textbox, which is returned by the\n",
      "`canvas.text` method."
     ]
    }
   ],
   "metadata": {}
  }
 ]
}