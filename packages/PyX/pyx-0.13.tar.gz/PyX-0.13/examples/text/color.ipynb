{
 "metadata": {},
 "nbformat": 3,
 "nbformat_minor": 0,
 "worksheets": [
  {
   "cells": [
    {
     "cell_type": "heading",
     "level": 1,
     "metadata": {},
     "source": [
      "Using the same color in PyX and in LaTeX"
     ]
    },
    {
     "cell_type": "code",
     "collapsed": false,
     "input": [
      "from pyx import *\n",
      "unit.set(uscale=2, xscale=2)\n",
      "\n",
      "col = color.cmyk.PineGreen\n",
      "\n",
      "text.set(text.LatexRunner)\n",
      "text.preamble(r\"\\usepackage{color}\")\n",
      "text.preamble(r\"\\definecolor{COL}{cmyk}{%g,%g,%g,%g}\" % (col.c, col.m, col.y, col.k))\n",
      "\n",
      "c = canvas.canvas()\n",
      "c.text(0, 0, r\"\\textcolor{COL}{Text} and outline have the same color\")\n",
      "c.stroke(path.rect(-0.2, -0.2, 6.2, 0.6), [col])\n",
      "c"
     ],
     "language": "python",
     "metadata": {},
     "outputs": [
      {
       "metadata": {},
       "output_type": "pyout",
       "png": "[encoded data removed]"
      }
     ]
    },
    {
     "cell_type": "markdown",
     "metadata": {},
     "source": [
      "![bend](http://pyx.sourceforge.net/bend.png) This example shows three different methods how to use a color defined in PyX\n",
      "also in LaTeX. In the example code, we first define a cmyk color `col`,\n",
      "which is then used to define a color `COL` in LaTeX. The latter is then used in\n",
      "a LaTeX expression.\n",
      "\n",
      "![bend](http://pyx.sourceforge.net/bend.png) The same behavior can be achieved by two different methods in `c.text`,\n",
      "\n",
      "    r\"\\textcolor[named]{PineGreen}{Text} and outline \"\n",
      "    r\"\\textcolor[pyx]{color.cmyk.PineGreen}{Text} and outline \"\n",
      "\n",
      "They are not as elegant as the above shown, since we need to insert the color\n",
      "definition `PineGreen` explicitly. The first alternative makes use of the\n",
      "`named` color model of color.sty. All colors of this model are predefined also\n",
      "in PyX. The other alternative allows to use PyX colors directly.\n",
      "\n",
      "![bend](http://pyx.sourceforge.net/bend.png)![bend](http://pyx.sourceforge.net/bend.png) Note that no graphics driver has been used for the color.sty LaTeX package.\n",
      "PyX performs a hack to enforce the use of its own LaTeX driver file pyx.def. In\n",
      "case that you have installed the three files `pyx.def`, `color.cfg`, and\n",
      "`graphics.cfg` from the PyX distribution somewhere in the LaTeX search path, it is\n",
      "possible to use\n",
      "\n",
      "    text.set(mode=\"latex\", pyxgraphics=0)\n",
      "    text.preamble(r\"\\usepackage[pyx]{color}\")\n",
      "\n",
      "which is the more aesthetic variant."
     ]
    }
   ],
   "metadata": {}
  }
 ]
}