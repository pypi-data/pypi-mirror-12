{
 "metadata": {},
 "nbformat": 3,
 "nbformat_minor": 0,
 "worksheets": [
  {
   "cells": [
    {
     "cell_type": "heading",
     "level": 1,
     "metadata": {},
     "source": [
      "Combining several graph styles"
     ]
    },
    {
     "cell_type": "code",
     "collapsed": false,
     "input": [
      "from pyx import *\n",
      "\n",
      "g = graph.graphxy(width=8)\n",
      "g.plot(graph.data.file(\"errorbar.dat\", x=1, y=2, dy=3),\n",
      "       [graph.style.symbol(), graph.style.errorbar()])\n",
      "g"
     ],
     "language": "python",
     "metadata": {},
     "outputs": [
      {
       "metadata": {},
       "output_type": "pyout",
       "png": "[encoded data removed]"
      }
     ]
    },
    {
     "cell_type": "markdown",
     "metadata": {},
     "source": [
      "In this example several graph styles are applied one after the other to stroke\n",
      "symbols and errorbars for the given data. This can be achieved by passing a\n",
      "list of graph styles as the second parameter to the graph style. \n",
      "\n",
      "When you do set the second argument in the graphs plot command, default graph\n",
      "styles are used to plot the data. The default for the graph styles depend is a\n",
      "property of the data instance passed in the first argument of the plot command.\n",
      "While the list and file data instances use a `graph.style.symbol` instance by\n",
      "default, for functions and parametric functions a `graph.style.line` instance\n",
      "is used.\n",
      "\n",
      "The style instances parse the column names for appropriate entries to generate\n",
      "the corresponding output. In this case, the `x` and `y` values are used by\n",
      "both, the symbol and the errorbar style, whereas `dy` is used by the\n",
      "`errorbar` style only.\n",
      "\n",
      "![bend](http://pyx.sourceforge.net/bend.png) You could also provide data for `ymin` and `ymax` to the errorbar style\n",
      "instead of `dy`. The errorbar style can also draw errorbars in x-direction\n",
      "using `dx` or `xmin` and `xmax`. You can add errorbars in both graph directions\n",
      "at the same time.\n",
      "\n",
      "![bend](http://pyx.sourceforge.net/bend.png)![bend](http://pyx.sourceforge.net/bend.png) The `x` and `y` data is not used by the symbol style nor the errorbar style\n",
      "directly (except for calculating the minimal and maximal value in y-direction\n",
      "by the errorbar due to the parametrization by `y` and `dy`). Instead a\n",
      "positioning style is inserted implicitly (a instance of graph.style.pos) as a\n",
      "position information is needed by the symbol and errorbar styles. By that the\n",
      "styles don't need to perform certain operations several times. Additionally the\n",
      "styles can also be used on graphs, which behave different in their positioning\n",
      "properties like bar graphs where you can use the same styles by just using a\n",
      "different positioning style."
     ]
    }
   ],
   "metadata": {}
  }
 ]
}