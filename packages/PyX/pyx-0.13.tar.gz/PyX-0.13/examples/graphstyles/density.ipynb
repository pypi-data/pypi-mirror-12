{
 "metadata": {},
 "nbformat": 3,
 "nbformat_minor": 0,
 "worksheets": [
  {
   "cells": [
    {
     "cell_type": "heading",
     "level": 1,
     "metadata": {},
     "source": [
      "Drawing a density plot"
     ]
    },
    {
     "cell_type": "code",
     "collapsed": false,
     "input": [
      "from pyx import *\n",
      "\n",
      "# Mandelbrot calculation contributed by Stephen Phillips\n",
      "\n",
      "# Mandelbrot parameters\n",
      "re_min = -2\n",
      "re_max = 0.5\n",
      "im_min = -1.25\n",
      "im_max = 1.25\n",
      "gridx = 100\n",
      "gridy = 100\n",
      "max_iter = 10\n",
      "\n",
      "# Set-up\n",
      "re_step = (re_max - re_min) / gridx\n",
      "im_step = (im_max - im_min) / gridy\n",
      "d = []\n",
      "\n",
      "# Compute fractal\n",
      "for re_index in range(gridx):\n",
      "    re = re_min + re_step * (re_index + 0.5)\n",
      "    for im_index in range(gridy):\n",
      "        im = im_min + im_step * (im_index + 0.5)\n",
      "        c = complex(re, im)\n",
      "        n = 0\n",
      "        z = complex(0, 0)\n",
      "        while n < max_iter and abs(z) < 2:\n",
      "            z = (z * z) + c\n",
      "            n += 1\n",
      "        d.append([re, im, n])\n",
      "\n",
      "# Plot graph\n",
      "g = graph.graphxy(height=8, width=8,\n",
      "                  x=graph.axis.linear(min=re_min, max=re_max, title=r\"$\\Re(c)$\"),\n",
      "                  y=graph.axis.linear(min=im_min, max=im_max, title=r'$\\Im(c)$'))\n",
      "g.plot(graph.data.points(d, x=1, y=2, color=3, title=\"iterations\"),\n",
      "       [graph.style.density(gradient=color.rgbgradient.Rainbow)])\n",
      "g"
     ],
     "language": "python",
     "metadata": {},
     "outputs": [
      {
       "metadata": {},
       "output_type": "pyout",
       "png": "[encoded data removed]"
      }
     ]
    },
    {
     "cell_type": "markdown",
     "metadata": {},
     "source": [
      "2 dimensional plots where the value of each point is represented by a color can\n",
      "be created by the density style.  The data points have to be spaced\n",
      "equidistantly in each dimension with the possible exception of missing data.\n",
      "\n",
      "For data which is not equidistantly spaced but still arranged in a grid,\n",
      "`graph.style.surface` can be used, which also provides a smooth representation\n",
      "by means of a color interpolation between the mesh moints. Finally, for\n",
      "completely unstructured data, `graph.style.rect` can be used.\n",
      "\n",
      "![bend](http://pyx.sourceforge.net/bend.png)The plot is encoded in an efficient way using a bitmap. Unfortunately, this\n",
      "means, that the HSB color space cannot be used (due to limitations of the\n",
      "bitmap color spaces in PostScript and PDF). Some of the predefined gradients in\n",
      "PyX, e.g. `color.gradient.Rainbow`, cannot be used here. As a workaround, PyX\n",
      "provides those gradients in other color spaces as shown in the example."
     ]
    }
   ],
   "metadata": {}
  }
 ]
}