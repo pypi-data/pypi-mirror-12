{
 "metadata": {},
 "nbformat": 3,
 "nbformat_minor": 0,
 "worksheets": [
  {
   "cells": [
    {
     "cell_type": "heading",
     "level": 1,
     "metadata": {},
     "source": [
      "Creating a histogram"
     ]
    },
    {
     "cell_type": "code",
     "collapsed": false,
     "input": [
      "from pyx import *\n",
      "\n",
      "d = graph.data.points([(1,  0.3),\n",
      "                       (2, -0.7),\n",
      "                       (3, -0.3),\n",
      "                       (4,  0.8),\n",
      "                       (5,  0.5)], x=1, y=2)\n",
      "\n",
      "g = graph.graphxy(width=8)\n",
      "g.plot(d, [graph.style.histogram()])\n",
      "g"
     ],
     "language": "python",
     "metadata": {},
     "outputs": [
      {
       "metadata": {},
       "output_type": "pyout",
       "png": "[encoded data removed]"
      }
     ]
    },
    {
     "cell_type": "markdown",
     "metadata": {},
     "source": [
      "Styles can alter the way data is presented in arbitrary ways. Here the\n",
      "histogram style is used to generate a histogram.  By default the histogram\n",
      "draws a box for each histogram value, but you can set the `step` parameter of\n",
      "the histogram style to use steps instead.\n",
      "\n",
      "![bend](http://pyx.sourceforge.net/bend.png) In this basic use-case the histogram is calculated out of equal-spaced\n",
      "x-values automatically. You can also use errorbar like data in one graph\n",
      "dimension to generate histograms with different widths of the histogram boxes.\n",
      "\n",
      "![bend](http://pyx.sourceforge.net/bend.png) Note that a histogram is very different from a bar graph in that it uses\n",
      "regular axes (like the default linear axes in this example) in both graph\n",
      "dimensions. Instead, bar graphs use a discrete axis."
     ]
    }
   ],
   "metadata": {}
  }
 ]
}