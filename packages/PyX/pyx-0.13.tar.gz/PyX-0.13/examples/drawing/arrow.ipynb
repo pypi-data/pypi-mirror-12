{
 "metadata": {},
 "nbformat": 3,
 "nbformat_minor": 0,
 "worksheets": [
  {
   "cells": [
    {
     "cell_type": "heading",
     "level": 1,
     "metadata": {},
     "source": [
      "Adding an arrow when stroking a path"
     ]
    },
    {
     "cell_type": "code",
     "collapsed": false,
     "input": [
      "from pyx import *\n",
      "\n",
      "c = canvas.canvas()\n",
      "c.stroke(path.curve(0, 0, 0, 4, 2, 4, 3, 3),\n",
      "         [style.linewidth.THICK, style.linestyle.dashed, color.rgb.blue,\n",
      "          deco.earrow([deco.stroked([color.rgb.red, style.linejoin.round]),\n",
      "                       deco.filled([color.rgb.green])], size=1)])\n",
      "c"
     ],
     "language": "python",
     "metadata": {},
     "outputs": [
      {
       "metadata": {},
       "output_type": "pyout",
       "png": "[encoded data removed]"
      }
     ]
    },
    {
     "cell_type": "markdown",
     "metadata": {},
     "source": [
      "The example shows how to use an arrow decorator instance to add an arrow to a\n",
      "path when it is stroked. Instead of using a default arrow instance, we create a\n",
      "highly customized arrow head. \n",
      "\n",
      "Apart from setting arrow specific features like the arrow size, a list of\n",
      "styles and decorators can be passed to the arrow. In this example, the arrow is\n",
      "stroked in red with round corners. In addition, the arrow is filled in green.\n",
      "\n",
      "![bend](http://pyx.sourceforge.net/bend.png) Note that style properties are inherited from the outer towards the inner\n",
      "decorators. In this example, the linewidth is also used when stroking the arrow\n",
      "head. We could for example also skip the color.rgb.green value in the\n",
      "`deco.filled` decorator and the arrow would be filled in blue.\n",
      "\n",
      "![bend](http://pyx.sourceforge.net/bend.png) To continue removing the deco.filled features, it is equivalent to write\n",
      "`deco.filled([])`, `deco.filled()` and `deco.filled`. This is due to the fact that\n",
      "`deco.filled` already is an instance, which can be *modified by call*. An empty\n",
      "list does not really modify it. But you could even skip `deco.filled` completely\n",
      "and the arrow would still be filled with blue color. The reason is that the\n",
      "arrow is implemented in a way that it always *merges* the `filled` decorator. This\n",
      "step in the evaluation of the attributes is transparent to other settings: if\n",
      "we would replace the `deco.filled([color.rgb.green])` by `color.rgb.green`, we\n",
      "would still get a filled green arrow. You could then remove the `color.rgb.red`\n",
      "in `deco.stroked` inside of the arrow instance and the line would become green as\n",
      "well. Note that the order of the attributes is not important for this style\n",
      "delegation feature.\n",
      "\n",
      "![bend](http://pyx.sourceforge.net/bend.png) Since we have learned that the arrow decorators always fill the arrow head by\n",
      "default, the question is now whether and how such a feature can be removed. This\n",
      "is done by *clear* instances available as a `clear` class attribute. Hence in case\n",
      "of `deco.filled`, it is available as `deco.filled.clear`. When you add this\n",
      "attribute to the earrow call, the arrowhead will not be filled anymore and you\n",
      "will notice that the blue line is not stroked inside the arrowhead.\n",
      "\n",
      "![bend](http://pyx.sourceforge.net/bend.png) You might also have noticed, that the dashed linestyle is not used when\n",
      "stroking the arrowhead. This is similar to the default `filled` feature of the\n",
      "arrowhead: The arrowhead merges a `style.linestyle.normal` to ensure a solid\n",
      "line. Instead of manually setting `style.linestyle.dashed` in the arrowhead, you\n",
      "could use `style.linestyle.clear` to restore the linestyle setting of the path.\n",
      "\n",
      "![bend](http://pyx.sourceforge.net/bend.png)![bend](http://pyx.sourceforge.net/bend.png) The arrow head is a so-called ornament. Beside attaching stroke and fill\n",
      "styles during the process of converting a path into a decorated path, any\n",
      "number of ornaments can be added to the decorated path. When adding ornaments,\n",
      "parts of the path can also be marked as not-to-be-stroked. While this is taken\n",
      "into account in a final stroke operation, different decorators do not see this\n",
      "information such that decorators always commute."
     ]
    }
   ],
   "metadata": {}
  }
 ]
}