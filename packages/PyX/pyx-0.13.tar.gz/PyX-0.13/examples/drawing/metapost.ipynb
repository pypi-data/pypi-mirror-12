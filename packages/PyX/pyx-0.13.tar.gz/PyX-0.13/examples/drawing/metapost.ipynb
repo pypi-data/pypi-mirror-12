{
 "metadata": {},
 "nbformat": 3,
 "nbformat_minor": 0,
 "worksheets": [
  {
   "cells": [
    {
     "cell_type": "heading",
     "level": 1,
     "metadata": {},
     "source": [
      "Creating paths with MetaPost-like parameters"
     ]
    },
    {
     "cell_type": "code",
     "collapsed": false,
     "input": [
      "from pyx import *\n",
      "from pyx.metapost.path import beginknot, endknot, smoothknot, tensioncurve\n",
      "\n",
      "p1, p2, p3, p4, p5 = (0, 0), (2, 1.33), (1.3, 3), (0.33, 2.33), (1, 1.67)\n",
      "openpath = metapost.path.path([\n",
      "    beginknot(*p1), tensioncurve(), smoothknot(*p2), tensioncurve(),\n",
      "    smoothknot(*p3), tensioncurve(), smoothknot(*p4), tensioncurve(),\n",
      "    endknot(*p5)])\n",
      "closedpath = metapost.path.path([\n",
      "    smoothknot(*p1), tensioncurve(), smoothknot(*p2), tensioncurve(),\n",
      "    smoothknot(*p3), tensioncurve(), smoothknot(*p4), tensioncurve(),\n",
      "    smoothknot(*p5), tensioncurve()])\n",
      "c = canvas.canvas()\n",
      "for p in [p1, p2, p3, p4, p5]:\n",
      "    c.fill(path.circle(p[0], p[1], 0.05), [color.rgb.red])\n",
      "    c.fill(path.circle(p[0], p[1], 0.05), [color.rgb.red, trafo.translate(2, 0)])\n",
      "c.stroke(openpath)\n",
      "c.stroke(closedpath, [trafo.translate(2, 0)])\n",
      "\n",
      "c"
     ],
     "language": "python",
     "metadata": {},
     "outputs": [
      {
       "metadata": {},
       "output_type": "pyout",
       "png": "[encoded data removed]"
      }
     ]
    },
    {
     "cell_type": "markdown",
     "metadata": {},
     "source": [
      "Some simple paths are created by prescribing five points on the path. The\n",
      "curves between them are automatically chosen such that the result looks smooth. \n",
      "\n",
      "Instead of constructing paths from their path elements, where all control\n",
      "points must be given explicitly, we here specify only five points which must\n",
      "lie on the path. The remaining control points are then internally determined by\n",
      "the constraint that the curve should look smooth.\n",
      "\n",
      "In the first curve, the geometrical constraints are the following. The three\n",
      "interior points have a continuous tangent and a continuous curvature. The two\n",
      "end points demand a curvature not too different from that at their neighbor\n",
      "(second/fourth point).\n",
      "\n",
      "For the closed curve, all points are of the continuous type.\n",
      "\n",
      "![bend](http://pyx.sourceforge.net/bend.png) The algorithm for calculating the curves comes from MetaPost. In the syntax\n",
      "of MetaPost, the above example corresponds to the commands\n",
      "\n",
      "  draw((0,0)..(2,1.33)..(1.3,3)..(0.33,2.33)..(1,1.67));\n",
      "  draw((0,0)..(2,1.33)..(1.3,3)..(0.33,2.33)..(1,1.67)..cycle);"
     ]
    }
   ],
   "metadata": {}
  }
 ]
}