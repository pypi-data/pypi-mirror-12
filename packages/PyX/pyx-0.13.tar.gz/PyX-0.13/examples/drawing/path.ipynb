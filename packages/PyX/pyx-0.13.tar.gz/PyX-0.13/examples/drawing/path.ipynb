{
 "metadata": {},
 "nbformat": 3,
 "nbformat_minor": 0,
 "worksheets": [
  {
   "cells": [
    {
     "cell_type": "heading",
     "level": 1,
     "metadata": {},
     "source": [
      "Basic paths"
     ]
    },
    {
     "cell_type": "code",
     "collapsed": false,
     "input": [
      "from pyx import *\n",
      "\n",
      "c = canvas.canvas()\n",
      "c.stroke(path.line(0, 0, 3, 0))\n",
      "c.stroke(path.rect(0, 1, 1, 1))\n",
      "c.fill(path.circle(2.5, 1.5, 0.5))\n",
      "c"
     ],
     "language": "python",
     "metadata": {},
     "outputs": [
      {
       "metadata": {},
       "output_type": "pyout",
       "png": "[encoded data removed]"
      }
     ]
    },
    {
     "cell_type": "markdown",
     "metadata": {},
     "source": [
      "This first path example demonstrates how to create a canvas, how to draw some\n",
      "simple geometric objects onto it and how to write the result into a PostScript\n",
      "or PDF file. \n",
      "\n",
      "First we import all top-level symbols of the PyX package by the usual Python\n",
      "import statement. In the further examples we will always use this form of the\n",
      "import statement to make the PyX package available to our scripts.\n",
      "\n",
      "Now we can create a canvas instance `c`, onto which our basic paths are drawn.\n",
      "The later is done by passing some path instances (a line, a rectangle and a\n",
      "circle) to the `strokes` or `fill` methods of the canvas instance we just\n",
      "created and stored in the variable `c`. Finally, we call the `writeEPSfile` and\n",
      "`writePDFfile` methods of the canvas to create an EPS and a PDF file of our\n",
      "drawing. While typically you will only create either a PostScript or a PDF\n",
      "file, in our examples we always create both output formats to have them both\n",
      "available for download.\n",
      "\n",
      "This example, in addition, shows some basics of the PyX coordinate system. The\n",
      "first coordinate (often referred to as `x`) goes horizontally from left to right\n",
      "and the second coordinate (`y`) goes vertically from the bottom to the top. The\n",
      "default unit is `1 cm`. The boundary of the resulting image is calculated\n",
      "automatically."
     ]
    }
   ],
   "metadata": {}
  }
 ]
}