{
 "metadata": {},
 "nbformat": 3,
 "nbformat_minor": 0,
 "worksheets": [
  {
   "cells": [
    {
     "cell_type": "heading",
     "level": 1,
     "metadata": {},
     "source": [
      "Constructing paths from pathitems"
     ]
    },
    {
     "cell_type": "code",
     "collapsed": false,
     "input": [
      "from pyx import *\n",
      "\n",
      "c = canvas.canvas()\n",
      "\n",
      "rect1 = path.path(path.moveto(0, 0), path.lineto(1, 0),\n",
      "                  path.moveto(1, 0), path.lineto(1, 1),\n",
      "                  path.moveto(1, 1), path.lineto(0, 1),\n",
      "                  path.moveto(0, 1), path.lineto(0, 0))\n",
      "rect2 = path.path(path.moveto(2, 0), path.lineto(3, 0),\n",
      "                  path.lineto(3, 1), path.lineto(2, 1),\n",
      "                  path.lineto(2, 0))\n",
      "rect3 = path.path(path.moveto(4, 0), path.lineto(5, 0),\n",
      "                  path.lineto(5, 1), path.lineto(4, 1),\n",
      "                  path.closepath())\n",
      "\n",
      "c.stroke(rect1, [style.linewidth.THICK])\n",
      "c.stroke(rect2, [style.linewidth.THICK])\n",
      "c.stroke(rect3, [style.linewidth.THICK])\n",
      "\n",
      "c"
     ],
     "language": "python",
     "metadata": {},
     "outputs": [
      {
       "metadata": {},
       "output_type": "pyout",
       "png": "[encoded data removed]"
      }
     ]
    },
    {
     "cell_type": "markdown",
     "metadata": {},
     "source": [
      "In this example, some simple paths are constructed out of pathitems, which are\n",
      "the basic building blocks of paths. While we only use `moveto`, `lineto` and\n",
      "`closepath` instances, we can already see some features of paths in PyX. \n",
      "\n",
      "In the first path instance `rect1`, we alternatingly use `moveto` and `lineto`\n",
      "pathitem instances. A `moveto` instance sets an internal *current point*,\n",
      "while a `lineto` instance additionally creates a straight line connecting the\n",
      "old and the new *current point*. Due to the intermediate `moveto`\n",
      "instances, we generate a path which contains 4 separate subpaths. When\n",
      "stroking this path with a thick linewidth in order to show the details, the\n",
      "corners of the result exhibits that the individual lines are not connected.\n",
      "\n",
      "In the second case `rect2`, we skip the intermediate `moveto` instances. The\n",
      "default join method between pathitems within a single subpath is to miter them.\n",
      "This results in a different rendering except for the start and end point of the\n",
      "path.\n",
      "\n",
      "In order to get rid of the ragged effect at the corners, we close the path as\n",
      "shown by `rect3`. Here, one can (and should) skip the last connecting line since\n",
      "a `closepath` pathitem implicitly adds a straight connection line between the\n",
      "first and the last point of the subpath.\n",
      "\n",
      "![bend](http://pyx.sourceforge.net/bend.png) PyX resembles the full PostScript path model. The whole PostScript path\n",
      "construction functionality is available by means of pathitems and the resulting\n",
      "PostScript code will make use of the corresponding PostScript operators. For\n",
      "PDF output, where some of the PostScript features are not available (all forms\n",
      "of arcs are missing in PDF), proper replacement code is generated automatically.\n",
      "\n",
      "![bend](http://pyx.sourceforge.net/bend.png)![bend](http://pyx.sourceforge.net/bend.png) You might ask why you should skip the last straight connection line of\n",
      "finite length when closing a path. This is not a question of reducing the file\n",
      "size but increasing the rendering stability of the drawing. The problem is that\n",
      "in case of rounding errors a very short connection line might mistakenly be\n",
      "inserted when rendering a `closepath`. Depending on the linejoin setting, this\n",
      "can create a major visual defect."
     ]
    }
   ],
   "metadata": {}
  }
 ]
}