{
 "metadata": {},
 "nbformat": 3,
 "nbformat_minor": 0,
 "worksheets": [
  {
   "cells": [
    {
     "cell_type": "heading",
     "level": 1,
     "metadata": {},
     "source": [
      "Hello, world!"
     ]
    },
    {
     "cell_type": "code",
     "collapsed": false,
     "input": [
      "from pyx import *\n",
      "\n",
      "c = canvas.canvas()\n",
      "c.text(0, 0, \"Hello, world!\")\n",
      "c.stroke(path.line(0, 0, 2, 0))\n",
      "c"
     ],
     "language": "python",
     "metadata": {},
     "outputs": [
      {
       "metadata": {},
       "output_type": "pyout",
       "png": "[encoded data removed]"
      }
     ]
    },
    {
     "cell_type": "markdown",
     "metadata": {},
     "source": [
      "As it is good practice to say \"Hello, world!\" in the first example, let's\n",
      "discuss how to do that in PyX.\n",
      "\n",
      "At first we import the PyX modules. Most PyX programs will start with a line\n",
      "like that. In order to produce some output we create a canvas instance `c`.\n",
      "Such an instance provides some useful methods to output some text at a certain\n",
      "position and for directly stroking a path, for which we use a `line` instance\n",
      "from the `path` module here. Once this is done, we write an EPS file and a PDF\n",
      "file containing all items inserted into the canvas instance. Since we did not\n",
      "pass a filename as argument to the write methods, the resulting files will just\n",
      "be named as the Python script - minus the extension, of course.\n",
      "\n",
      "This rather minimal example is quite useful for debugging your setup. In case\n",
      "of problems with your installation, you can add a `pyxinfo()` call immediately\n",
      "after the import. PyX will then write various information to `stderr`, which is\n",
      "quite helpful for yourself or when asking for help on the mailing list."
     ]
    }
   ],
   "metadata": {}
  }
 ]
}