{
 "cells": [
  {
   "cell_type": "markdown",
   "metadata": {},
   "source": [
    "# Using image instances from the PIL"
   ]
  },
  {
   "cell_type": "code",
   "execution_count": 1,
   "metadata": {},
   "outputs": [
    {
     "data": {
      "image/png": "[encoded data removed]",
      "image/svg+xml": [
       "<?xml version=\"1.0\" encoding=\"utf-8\"?>\n",
       "<svg xmlns=\"http://www.w3.org/2000/svg\" xmlns:xlink=\"http://www.w3.org/1999/xlink\" width=\"70.0315pt\" stroke-miterlimit=\"10.000000\" version=\"1.1\" y=\"-23.6772pt\" x=\"-1pt\" viewBox=\"-1 -23.6772 70.0315 24.6772\" stroke-width=\"0.566929\" height=\"24.6772pt\" fill=\"none\">\n",
       " <image width=\"1\" xlink:href=\"data:image/png;base64,iVBORw0KGgoAAAANSUhEUgAAAAMAAAABCAIAAACUgoPjAAAAEklEQVR4nGP4z8DA8J+BgeE/AA77Av5TyawRAAAAAElFTkSuQmCC\" y=\"-1\" x=\"0\" preserveAspectRatio=\"none\" transform=\"matrix(68.031496,-0.000000,-0.000000,22.677165,0.000000,-0.000000)\" height=\"1\"/>\n",
       "</svg>\n"
      ]
     },
     "execution_count": 1,
     "metadata": {},
     "output_type": "execute_result"
    }
   ],
   "source": [
    "from pyx import *\n",
    "from PIL import Image\n",
    "\n",
    "im = Image.new(\"RGB\", (3, 1))\n",
    "im.putpixel((0, 0), (255, 0, 0))\n",
    "im.putpixel((1, 0), (0, 255, 0))\n",
    "im.putpixel((2, 0), (0, 0, 255))\n",
    "\n",
    "c = canvas.canvas()\n",
    "c.insert(bitmap.bitmap(0, 0, im, height=0.8))\n",
    "c"
   ]
  },
  {
   "cell_type": "markdown",
   "metadata": {},
   "source": [
    "You can use image instances from the [Python Image Library\n",
    "http://www.pythonware.com/products/pil] to create bitmaps. You then have an\n",
    "easy access to all the bitmap formats available in PIL, you may also use PIL\n",
    "features to create/load/modify bitmaps etc.  In order to create an image\n",
    "pixel by pixel, the PIL is not necessary (by the way, it is slow to use\n",
    "putpixel for that).\n",
    "\n",
    "<img src=\"http://pyx.sourceforge.net/bend.png\" align=\"left\"><img src=\"http://pyx.sourceforge.net/bend.png\" align=\"left\"> Using PIL image instances you can also pass indexed images\n",
    "to PyX's `bitmap` class.\n"
   ]
  }
 ],
 "metadata": {
  "language": "python"
 },
 "nbformat": 4,
 "nbformat_minor": 0
}