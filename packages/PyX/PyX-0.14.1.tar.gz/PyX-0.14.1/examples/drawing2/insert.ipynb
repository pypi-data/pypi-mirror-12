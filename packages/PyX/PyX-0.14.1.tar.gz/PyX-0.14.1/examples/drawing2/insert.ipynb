{
 "cells": [
  {
   "cell_type": "markdown",
   "metadata": {},
   "source": [
    "# Inserting transformed canvases into canvases"
   ]
  },
  {
   "cell_type": "code",
   "execution_count": 1,
   "metadata": {},
   "outputs": [
    {
     "data": {
      "image/png": "[encoded data removed]",
      "image/svg+xml": [
       "<?xml version=\"1.0\" encoding=\"utf-8\"?>\n",
       "<svg xmlns=\"http://www.w3.org/2000/svg\" y=\"-57.6929pt\" height=\"115.386pt\" width=\"115.386pt\" viewBox=\"-57.6929 -57.6929 115.386 115.386\" stroke-width=\"0.566929\" version=\"1.1\" stroke-miterlimit=\"10.000000\" fill=\"none\" x=\"-57.6929pt\">\n",
       " <g transform=\"matrix(1.000000,-0.000000,-0.000000,1.000000,0.000000,-0.000000)\">\n",
       "  <path d=\"M-56.6929 56.6929L56.6929 56.6929L56.6929 -56.6929L-56.6929 -56.6929Z\" stroke=\"black\"/>\n",
       " </g>\n",
       " <g transform=\"matrix(0.850104,-0.149896,0.149896,0.850104,0.000000,-0.000000)\">\n",
       "  <path d=\"M-56.6929 56.6929L56.6929 56.6929L56.6929 -56.6929L-56.6929 -56.6929Z\" stroke=\"black\"/>\n",
       " </g>\n",
       " <g transform=\"matrix(0.700208,-0.254855,0.254855,0.700208,0.000000,-0.000000)\">\n",
       "  <path d=\"M-56.6929 56.6929L56.6929 56.6929L56.6929 -56.6929L-56.6929 -56.6929Z\" stroke=\"black\"/>\n",
       " </g>\n",
       " <g transform=\"matrix(0.557047,-0.321611,0.321611,0.557047,0.000000,-0.000000)\">\n",
       "  <path d=\"M-56.6929 56.6929L56.6929 56.6929L56.6929 -56.6929L-56.6929 -56.6929Z\" stroke=\"black\"/>\n",
       " </g>\n",
       " <g transform=\"matrix(0.425340,-0.356902,0.356902,0.425340,0.000000,-0.000000)\">\n",
       "  <path d=\"M-56.6929 56.6929L56.6929 56.6929L56.6929 -56.6929L-56.6929 -56.6929Z\" stroke=\"black\"/>\n",
       " </g>\n",
       " <g transform=\"matrix(0.308085,-0.367161,0.367161,0.308085,0.000000,-0.000000)\">\n",
       "  <path d=\"M-56.6929 56.6929L56.6929 56.6929L56.6929 -56.6929L-56.6929 -56.6929Z\" stroke=\"black\"/>\n",
       " </g>\n",
       " <g transform=\"matrix(0.206868,-0.358306,0.358306,0.206868,0.000000,-0.000000)\">\n",
       "  <path d=\"M-56.6929 56.6929L56.6929 56.6929L56.6929 -56.6929L-56.6929 -56.6929Z\" stroke=\"black\"/>\n",
       " </g>\n",
       " <g transform=\"matrix(0.122150,-0.335606,0.335606,0.122150,0.000000,-0.000000)\">\n",
       "  <path d=\"M-56.6929 56.6929L56.6929 56.6929L56.6929 -56.6929L-56.6929 -56.6929Z\" stroke=\"black\"/>\n",
       " </g>\n",
       " <g transform=\"matrix(0.053535,-0.303609,0.303609,0.053535,0.000000,-0.000000)\">\n",
       "  <path d=\"M-56.6929 56.6929L56.6929 56.6929L56.6929 -56.6929L-56.6929 -56.6929Z\" stroke=\"black\"/>\n",
       " </g>\n",
       " <g transform=\"matrix(0.000000,-0.266124,0.266124,0.000000,0.000000,-0.000000)\">\n",
       "  <path d=\"M-56.6929 56.6929L56.6929 56.6929L56.6929 -56.6929L-56.6929 -56.6929Z\" stroke=\"black\"/>\n",
       " </g>\n",
       "</svg>\n"
      ]
     },
     "execution_count": 1,
     "metadata": {},
     "output_type": "execute_result"
    }
   ],
   "source": [
    "from math import sin, cos, radians\n",
    "from pyx import *\n",
    "\n",
    "angle = 10\n",
    "factor = 1.0 / (cos(radians(angle)) + sin(radians(angle)))\n",
    "\n",
    "cc = canvas.canvas()\n",
    "cc.stroke(path.rect(-2, -2, 4, 4))\n",
    "\n",
    "c = canvas.canvas()\n",
    "for i in range(10):\n",
    "    c.insert(cc, [trafo.rotate(i*angle), trafo.scale(factor**i)])\n",
    "c"
   ]
  },
  {
   "cell_type": "markdown",
   "metadata": {},
   "source": [
    "Similar to the drawing of paths onto canvases, it is also possible to insert\n",
    "one canvas into another. You may specify additional transformations which are\n",
    "applied to the canvas which is inserted. \n",
    "\n",
    "The example code shows how a canvas `cc` containing a square can be inserted\n",
    "several times into another canvas `c`. The applied transformation first rotates\n",
    "the square around the origin and then performs a scaling. Note that not only\n",
    "the size of the square gets scaled, but everything that is drawn on the canvas,\n",
    "also the linewidth of the square.\n",
    "\n",
    "In geometrical operations, it is often necessary to perform calculations. This\n",
    "is conveniently done by importing the mathematics capability of Python. In the\n",
    "example, we calculate the scaling factor from the rotation angle such that the\n",
    "corners of the rotated smaller square reside on the sides of the larger square.\n"
   ]
  }
 ],
 "metadata": {
  "language": "python"
 },
 "nbformat": 4,
 "nbformat_minor": 0
}