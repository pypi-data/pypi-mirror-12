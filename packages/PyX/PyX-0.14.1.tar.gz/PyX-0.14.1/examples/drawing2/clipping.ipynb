{
 "cells": [
  {
   "cell_type": "markdown",
   "metadata": {},
   "source": [
    "# Clipping a canvas"
   ]
  },
  {
   "cell_type": "code",
   "execution_count": 1,
   "metadata": {},
   "outputs": [
    {
     "data": {
      "image/png": "[encoded data removed]",
      "image/svg+xml": [
       "<?xml version=\"1.0\" encoding=\"utf-8\"?>\n",
       "<svg xmlns=\"http://www.w3.org/2000/svg\" x=\"-70.8661pt\" height=\"141.732pt\" version=\"1.1\" stroke-width=\"0.566929\" fill=\"none\" stroke-miterlimit=\"10.000000\" viewBox=\"-70.8661 -70.8661 119.055 141.732\" width=\"119.055pt\" y=\"-70.8661pt\">\n",
       " <defs>\n",
       "  <clipPath id=\"clippath4301448416\">\n",
       "   <path d=\"M28.3465 -0L28.3464 -0.0494739C28.3333 -7.56312 25.3376 -14.7642 20.0177 -20.0702C14.6978 -25.3762 7.48892 -28.353 -0.0247369 -28.3464C-7.5384 -28.3399 -14.7421 -25.3505 -20.0527 -20.0352C-25.3634 -14.7199 -28.3465 -7.51366 -28.3465 -3.47144e-15C-28.3465 7.51366 -25.3634 14.7199 -20.0527 20.0352C-14.7421 25.3505 -7.5384 28.3399 -0.0247369 28.3464C7.48892 28.353 14.6978 25.3762 20.0177 20.0702C25.3376 14.7642 28.3333 7.56312 28.3464 0.0494739Z\"/>\n",
       "  </clipPath>\n",
       " </defs>\n",
       " <g stroke-width=\"28.346457\">\n",
       "  <path stroke=\"black\" d=\"M-56.6929 56.6929L34.0157 -56.6929\"/>\n",
       " </g>\n",
       " <g clip-path=\"url(#clippath4301448416)\">\n",
       "  <g stroke-width=\"28.346457\">\n",
       "   <path stroke=\"#f00\" d=\"M-56.6929 56.6929L34.0157 -56.6929\"/>\n",
       "  </g>\n",
       " </g>\n",
       " <path stroke=\"black\" d=\"M28.3465 -0L28.3464 -0.0494739A28.3465 28.3465 0 0 0 -28.3465 -1.60598e-14A28.3465 28.3465 0 0 0 28.3464 0.0494739Z\"/>\n",
       "</svg>\n"
      ]
     },
     "execution_count": 1,
     "metadata": {},
     "output_type": "execute_result"
    }
   ],
   "source": [
    "from pyx import *\n",
    "\n",
    "clippath = path.circle(0, 0, 1)\n",
    "drawpath = path.line(-2, -2, 1.2, 2)\n",
    "\n",
    "cl = canvas.canvas([canvas.clip(clippath)])\n",
    "cl.stroke(drawpath, [color.rgb.red, style.linewidth(1.0)])\n",
    "\n",
    "c = canvas.canvas()\n",
    "c.stroke(drawpath, [style.linewidth(1.0)])\n",
    "c.insert(cl)\n",
    "c.stroke(clippath)\n",
    "\n",
    "c"
   ]
  },
  {
   "cell_type": "markdown",
   "metadata": {},
   "source": [
    "This example shows how drawing on a canvas can be clipped to a predefined\n",
    "region. The thick line is drawn two times, first in black onto an ordinary\n",
    "canvas, the second time in red onto a canvas which is clipped to the indicated\n",
    "circle. \n",
    "\n",
    "The clipping property of a canvas must be specified on creation with an\n",
    "instance of `canvas.clip`, which takes a path as an argument. Note that this\n",
    "way of clipping will probably be removed in future releases of PyX. Instead, it\n",
    "will become part of the [box concept ../../roadmap.html].\n"
   ]
  }
 ],
 "metadata": {
  "language": "python"
 },
 "nbformat": 4,
 "nbformat_minor": 0
}