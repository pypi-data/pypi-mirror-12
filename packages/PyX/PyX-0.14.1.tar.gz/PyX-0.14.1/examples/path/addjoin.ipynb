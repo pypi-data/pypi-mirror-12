{
 "cells": [
  {
   "cell_type": "markdown",
   "metadata": {},
   "source": [
    "# Adding and joining paths"
   ]
  },
  {
   "cell_type": "code",
   "execution_count": 1,
   "metadata": {},
   "outputs": [
    {
     "data": {
      "image/png": "[encoded data removed]",
      "image/svg+xml": [
       "<?xml version=\"1.0\" encoding=\"utf-8\"?>\n",
       "<svg xmlns=\"http://www.w3.org/2000/svg\" version=\"1.1\" viewBox=\"-2.83465 -31.1811 147.402 34.0157\" height=\"34.0157pt\" x=\"-2.83465pt\" fill=\"none\" stroke-miterlimit=\"10.000000\" width=\"147.402pt\" y=\"-31.1811pt\" stroke-width=\"5.669291\">\n",
       " <path stroke=\"black\" d=\"M0 -0L28.3465 -0M28.3465 -0L28.3465 -28.3465M28.3465 -28.3465L0 -28.3465M0 -28.3465L0 -0\"/>\n",
       " <path stroke=\"black\" d=\"M56.6929 -0L85.0394 -0L85.0394 -28.3465L56.6929 -28.3465L56.6929 -0\"/>\n",
       " <path stroke=\"black\" d=\"M113.386 -0L141.732 -0L141.732 -28.3465L113.386 -28.3465Z\"/>\n",
       "</svg>\n"
      ]
     },
     "execution_count": 1,
     "metadata": {},
     "output_type": "execute_result"
    }
   ],
   "source": [
    "from pyx import *\n",
    "\n",
    "unit.set(wscale=10)\n",
    "\n",
    "c = canvas.canvas()\n",
    "\n",
    "c.stroke(path.line(0, 0, 1, 0) +\n",
    "         path.line(1, 0, 1, 1) +\n",
    "         path.line(1, 1, 0, 1) +\n",
    "         path.line(0, 1, 0, 0))\n",
    "\n",
    "c.stroke(path.line(2, 0, 3, 0) <<\n",
    "         path.line(3, 0, 3, 1) <<\n",
    "         path.line(3, 1, 2, 1) <<\n",
    "         path.line(2, 1, 2, 0))\n",
    "\n",
    "p = path.line(4, 0, 5, 0) << path.line(5, 0, 5, 1) << path.line(5, 1, 4, 1)\n",
    "p.append(path.closepath())\n",
    "c.stroke(p)\n",
    "\n",
    "c"
   ]
  },
  {
   "cell_type": "markdown",
   "metadata": {},
   "source": [
    "The result of this example looks the same as the [*pathitem*\n",
    "../drawing/pathitem.html] example from the *Basic drawing* section. However, we\n",
    "are using a different approach to construct the paths in this example: we add\n",
    "and join paths.  When *adding* two paths, the resulting path just contains\n",
    "all the subpaths from the first and the second path as its subpaths. The\n",
    "*join* operation between two paths is similar but it combines the last\n",
    "subpath from the first path and continues it by the first subpath of the second\n",
    "path. Thus, *join* does not increase the number of subpaths like the *add*\n",
    "operation.\n",
    "\n",
    "<img src=\"http://pyx.sourceforge.net/bend.png\" align=\"left\"> A similar result in terms of the line thickness could be achieved by setting a\n",
    "different scale for the linewidth by\n",
    "\n",
    "    unit.set(wscale=10)\n",
    "\n",
    "immediately after the import statement. The unit system of PyX is aware of\n",
    "several length types (unscaleable *true* coordinates `t`, regular *user* coordinates\n",
    "`u`, *visual* coordinates `v` for arrows, symbols and other small visual components,\n",
    "line *widths* `w` and the ``text`` sizes `x`). The length types can be scaled\n",
    "independent of each other (except for *true* coordinates, which cannot be scaled at all).\n",
    "\n",
    "<img src=\"http://pyx.sourceforge.net/bend.png\" align=\"left\"> Note that joining two paths might insert a line connecting the first and the\n",
    "second path. For example, we could skip the second line when constructing\n",
    "`rect2` in our example above without any change in the result.\n"
   ]
  }
 ],
 "metadata": {
  "language": "python"
 },
 "nbformat": 4,
 "nbformat_minor": 0
}