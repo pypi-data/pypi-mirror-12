{
 "cells": [
  {
   "cell_type": "markdown",
   "metadata": {},
   "source": [
    "# Customize fonts"
   ]
  },
  {
   "cell_type": "code",
   "execution_count": 1,
   "metadata": {},
   "outputs": [
    {
     "data": {
      "image/png": "[encoded data removed]",
      "image/svg+xml": [
       "<?xml version=\"1.0\" encoding=\"utf-8\"?>\n",
       "<svg xmlns=\"http://www.w3.org/2000/svg\" stroke-miterlimit=\"10.000000\" fill=\"none\" y=\"-7.79441pt\" version=\"1.1\" x=\"-1pt\" viewBox=\"-1 -7.79441 200.03 11.036\" stroke-width=\"0.566929\" width=\"200.03pt\" height=\"11.036pt\">\n",
       " <g transform=\"matrix(1.000000,0.000000,0.000000,1.000000,0.000000,-0.000000)\">\n",
       "  <text fill=\"black\" y=\"-0.000000\" x=\"0.000000\" font-family=\"Times-Roman\" opacity=\"1.000000\" font-size=\"9.962640\">L</text>\n",
       "  <text fill=\"black\" y=\"-1.996511\" x=\"2.500602\" font-family=\"Times-Roman\" opacity=\"1.000000\" font-size=\"6.973848\">A</text>\n",
       "  <text fill=\"black\" y=\"-0.000000\" x=\"6.041356\" font-family=\"Times-Roman\" opacity=\"1.000000\" font-size=\"9.962640\">T</text>\n",
       "  <text fill=\"black\" y=\"2.241579\" x=\"10.467719\" font-family=\"Times-Roman\" opacity=\"1.000000\" font-size=\"9.962640\">E</text>\n",
       "  <text fill=\"black\" y=\"-0.000000\" x=\"15.309548\" font-family=\"Times-Roman\" opacity=\"1.000000\" font-size=\"9.962640\">X</text>\n",
       "  <text fill=\"black\" y=\"-0.000000\" x=\"24.993205\" font-family=\"Times-Roman\" opacity=\"1.000000\" font-size=\"9.962640\">d</text>\n",
       "  <text fill=\"black\" y=\"-0.000000\" x=\"29.974525\" font-family=\"Times-Roman\" opacity=\"1.000000\" font-size=\"9.962640\">o</text>\n",
       "  <text fill=\"black\" y=\"-0.000000\" x=\"34.955845\" font-family=\"Times-Roman\" opacity=\"1.000000\" font-size=\"9.962640\">e</text>\n",
       "  <text fill=\"black\" y=\"-0.000000\" x=\"39.379199\" font-family=\"Times-Roman\" opacity=\"1.000000\" font-size=\"9.962640\">s</text>\n",
       "  <text fill=\"black\" y=\"-0.000000\" x=\"43.254559\" font-family=\"Times-Roman\" opacity=\"1.000000\" font-size=\"9.962640\">n</text>\n",
       "  <text fill=\"black\" y=\"-0.000000\" x=\"48.235879\" font-family=\"Times-Roman\" opacity=\"1.000000\" font-size=\"9.962640\">’</text>\n",
       "  <text fill=\"black\" y=\"-0.000000\" x=\"51.374135\" font-family=\"Times-Roman\" opacity=\"1.000000\" font-size=\"9.962640\">t</text>\n",
       "  <text fill=\"black\" y=\"-0.000000\" x=\"56.634301\" font-family=\"Times-Roman\" opacity=\"1.000000\" font-size=\"9.962640\">n</text>\n",
       "  <text fill=\"black\" y=\"-0.000000\" x=\"61.615621\" font-family=\"Times-Roman\" opacity=\"1.000000\" font-size=\"9.962640\">e</text>\n",
       "  <text fill=\"black\" y=\"-0.000000\" x=\"66.038975\" font-family=\"Times-Roman\" opacity=\"1.000000\" font-size=\"9.962640\">e</text>\n",
       "  <text fill=\"black\" y=\"-0.000000\" x=\"70.462329\" font-family=\"Times-Roman\" opacity=\"1.000000\" font-size=\"9.962640\">d</text>\n",
       "  <text fill=\"black\" y=\"-0.000000\" x=\"77.934309\" font-family=\"Times-Roman\" opacity=\"1.000000\" font-size=\"9.962640\">t</text>\n",
       "  <text fill=\"black\" y=\"-0.000000\" x=\"80.703815\" font-family=\"Times-Roman\" opacity=\"1.000000\" font-size=\"9.962640\">o</text>\n",
       "  <text fill=\"black\" y=\"-0.000000\" x=\"88.175795\" font-family=\"Times-Roman\" opacity=\"1.000000\" font-size=\"9.962640\">l</text>\n",
       "  <text fill=\"black\" y=\"-0.000000\" x=\"90.945302\" font-family=\"Times-Roman\" opacity=\"1.000000\" font-size=\"9.962640\">o</text>\n",
       "  <text fill=\"black\" y=\"-0.000000\" x=\"95.926622\" font-family=\"Times-Roman\" opacity=\"1.000000\" font-size=\"9.962640\">o</text>\n",
       "  <text fill=\"black\" y=\"-0.000000\" x=\"100.907942\" font-family=\"Times-Roman\" opacity=\"1.000000\" font-size=\"9.962640\">k</text>\n",
       "  <text fill=\"black\" y=\"-0.000000\" x=\"108.379922\" font-family=\"Times-Roman\" opacity=\"1.000000\" font-size=\"9.962640\">l</text>\n",
       "  <text fill=\"black\" y=\"-0.000000\" x=\"111.149428\" font-family=\"Times-Roman\" opacity=\"1.000000\" font-size=\"9.962640\">i</text>\n",
       "  <text fill=\"black\" y=\"-0.000000\" x=\"113.918934\" font-family=\"Times-Roman\" opacity=\"1.000000\" font-size=\"9.962640\">k</text>\n",
       "  <text fill=\"black\" y=\"-0.000000\" x=\"118.800637\" font-family=\"Times-Roman\" opacity=\"1.000000\" font-size=\"9.962640\">e</text>\n",
       "  <text fill=\"black\" y=\"-0.000000\" x=\"125.714651\" font-family=\"Times-Roman\" opacity=\"1.000000\" font-size=\"9.962640\">L</text>\n",
       "  <text fill=\"black\" y=\"-1.996511\" x=\"128.215253\" font-family=\"Times-Roman\" opacity=\"1.000000\" font-size=\"6.973848\">A</text>\n",
       "  <text fill=\"black\" y=\"-0.000000\" x=\"131.756007\" font-family=\"Times-Roman\" opacity=\"1.000000\" font-size=\"9.962640\">T</text>\n",
       "  <text fill=\"black\" y=\"2.241579\" x=\"136.182370\" font-family=\"Times-Roman\" opacity=\"1.000000\" font-size=\"9.962640\">E</text>\n",
       "  <text fill=\"black\" y=\"-0.000000\" x=\"141.024199\" font-family=\"Times-Roman\" opacity=\"1.000000\" font-size=\"9.962640\">X</text>\n",
       "  <text fill=\"black\" y=\"-0.000000\" x=\"150.707856\" font-family=\"Times-Roman\" opacity=\"1.000000\" font-size=\"9.962640\">a</text>\n",
       "  <text fill=\"black\" y=\"-0.000000\" x=\"155.131210\" font-family=\"Times-Roman\" opacity=\"1.000000\" font-size=\"9.962640\">l</text>\n",
       "  <text fill=\"black\" y=\"-0.000000\" x=\"157.900716\" font-family=\"Times-Roman\" opacity=\"1.000000\" font-size=\"9.962640\">l</text>\n",
       "  <text fill=\"black\" y=\"-0.000000\" x=\"163.160882\" font-family=\"Times-Roman\" opacity=\"1.000000\" font-size=\"9.962640\">t</text>\n",
       "  <text fill=\"black\" y=\"-0.000000\" x=\"165.930389\" font-family=\"Times-Roman\" opacity=\"1.000000\" font-size=\"9.962640\">h</text>\n",
       "  <text fill=\"black\" y=\"-0.000000\" x=\"170.911709\" font-family=\"Times-Roman\" opacity=\"1.000000\" font-size=\"9.962640\">e</text>\n",
       "  <text fill=\"black\" y=\"-0.000000\" x=\"177.825723\" font-family=\"Times-Roman\" opacity=\"1.000000\" font-size=\"9.962640\">t</text>\n",
       "  <text fill=\"black\" y=\"-0.000000\" x=\"180.595229\" font-family=\"Times-Roman\" opacity=\"1.000000\" font-size=\"9.962640\">i</text>\n",
       "  <text fill=\"black\" y=\"-0.000000\" x=\"183.364735\" font-family=\"Times-Roman\" opacity=\"1.000000\" font-size=\"9.962640\">m</text>\n",
       "  <text fill=\"black\" y=\"-0.000000\" x=\"191.115562\" font-family=\"Times-Roman\" opacity=\"1.000000\" font-size=\"9.962640\">e</text>\n",
       "  <text fill=\"black\" y=\"-0.000000\" x=\"195.538915\" font-family=\"Times-Roman\" opacity=\"1.000000\" font-size=\"9.962640\">.</text>\n",
       " </g>\n",
       "</svg>\n"
      ]
     },
     "execution_count": 1,
     "metadata": {},
     "output_type": "execute_result"
    }
   ],
   "source": [
    "from pyx import *\n",
    "\n",
    "text.set(text.LatexRunner)\n",
    "text.preamble(r\"\\usepackage{times}\")\n",
    "\n",
    "c = canvas.canvas()\n",
    "c.text(0, 0, r\"\\LaTeX{} doesn't need to look like \\LaTeX{} all the time.\")\n",
    "c"
   ]
  },
  {
   "cell_type": "markdown",
   "metadata": {},
   "source": [
    "In LaTeX, there are nice packages allowing to switch fonts. Hence, for a simple\n",
    "example we change the mode of the default texrunner instance to LaTeX and use\n",
    "the `preamble` method to load the `times` package. \n",
    "\n",
    "<img src=\"http://pyx.sourceforge.net/bend.png\" align=\"left\"><img src=\"http://pyx.sourceforge.net/bend.png\" align=\"left\"> In general, it is also favourable to employ LaTeX when using your own Type1\n",
    "fonts. Still you can also use different fonts in plain TeX if you are familiar\n",
    "with the topic. However, LaTeX's NFSS (new font selection scheme) is preferable\n",
    "for the ordinary user and has great advantages in daily use. All you need to do\n",
    "is to integrate the fonts into your LaTeX system. PyX and LaTeX both require\n",
    "a font map file containing the specification and the names of the font files.\n",
    "Probably you will need to create your own LaTeX font adaptation, where the\n",
    "`fontinst` utility is of great help. Try your favorite search engine on that\n",
    "topic to learn more about it and find some step by step guides. As soon as\n",
    "your LaTeX system is configured to use your fonts, they will also be available\n",
    "to PyX.\n",
    "\n",
    "<img src=\"http://pyx.sourceforge.net/bend.png\" align=\"left\"><img src=\"http://pyx.sourceforge.net/bend.png\" align=\"left\"> The `times` package loads the Times New Roman and the Helvetica fonts, which\n",
    "are part of any valid Acrobat Reader and Ghostscript installation. These fonts\n",
    "are therefore not explicitly included in the output of PyX. This behaviour is\n",
    "<> from LaTeX, where these standard 35 fonts usually are not contained in the\n",
    "standard font-map file `psfonts.map`.\n",
    "If you say in the PyX configuration file\n",
    "\n",
    "    psfontmaps = psfonts.map download35.map\n",
    "    pdffontmaps = pdftex.map download35.map\n",
    "\n",
    "then PyX finds the corresponding fonts in the map-file and includes the fonts\n",
    "in the output EPS and PDF files.\n"
   ]
  }
 ],
 "metadata": {
  "language": "python"
 },
 "nbformat": 4,
 "nbformat_minor": 0
}