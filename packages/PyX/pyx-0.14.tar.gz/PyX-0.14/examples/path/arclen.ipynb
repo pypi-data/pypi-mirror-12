{
 "cells": [
  {
   "cell_type": "markdown",
   "metadata": {},
   "source": [
    "# Arc length of a path"
   ]
  },
  {
   "cell_type": "code",
   "execution_count": 1,
   "metadata": {},
   "outputs": [
    {
     "data": {
      "image/png": "[encoded data removed]",
      "image/svg+xml": [
       "<?xml version=\"1.0\" encoding=\"utf-8\"?>\n",
       "<svg xmlns=\"http://www.w3.org/2000/svg\" version=\"1.1\" viewBox=\"-1 -29.3465 67.5095 30.3465\" y=\"-29.3465pt\" stroke-width=\"0.566929\" x=\"-1pt\" width=\"67.5095pt\" fill=\"none\" height=\"30.3465pt\" stroke-miterlimit=\"10.000000\">\n",
       " <path stroke=\"black\" d=\"M0 -0C28.3465 -0 28.3465 -28.3465 56.6929 -28.3465\"/>\n",
       " <path stroke=\"black\" d=\"M0 -0L65.5095 -0\"/>\n",
       "</svg>\n"
      ]
     },
     "execution_count": 1,
     "metadata": {},
     "output_type": "execute_result"
    }
   ],
   "source": [
    "from pyx import *\n",
    "\n",
    "c = canvas.canvas()\n",
    "\n",
    "p1 = path.curve(0, 0, 1, 0, 1, 1, 2, 1)\n",
    "p2 = path.line(0, 0, p1.arclen(), 0)\n",
    "c.stroke(p1)\n",
    "c.stroke(p2)\n",
    "\n",
    "c"
   ]
  },
  {
   "cell_type": "markdown",
   "metadata": {},
   "source": [
    "In this example we use the `arclen` method of the path instance `p1` to get the\n",
    "arc length and create a straight line `p2` with the same arc length. \n",
    "\n",
    "<img src=\"http://pyx.sourceforge.net/bend.png\" align=\"left\"> While here we use the return value of the arc length as a parameter to a path\n",
    "constructor, you might be interested in what kind of object the return value of\n",
    "the `arclen` method call really is: It is a PyX length in true coordinates,\n",
    "since the path already analyses the PyX units and the return value thus needs\n",
    "to be fixed and can not be scaled anymore. Printing the result of the `arclen`\n",
    "method call of path `p1` would show you:\n",
    "\n",
    "  (0.023110 t + 0.000000 u + 0.000000 v + 0.000000 w + 0.000000 x) m\n"
   ]
  }
 ],
 "metadata": {
  "language": "python"
 },
 "nbformat": 4,
 "nbformat_minor": 0
}