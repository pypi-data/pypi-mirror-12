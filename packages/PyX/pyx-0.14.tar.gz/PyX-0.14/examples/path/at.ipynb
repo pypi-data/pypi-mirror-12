{
 "cells": [
  {
   "cell_type": "markdown",
   "metadata": {},
   "source": [
    "# Positions along a path"
   ]
  },
  {
   "cell_type": "code",
   "execution_count": 1,
   "metadata": {},
   "outputs": [
    {
     "data": {
      "image/png": "[encoded data removed]",
      "image/svg+xml": [
       "<?xml version=\"1.0\" encoding=\"utf-8\"?>\n",
       "<svg xmlns=\"http://www.w3.org/2000/svg\" fill=\"none\" width=\"146.567pt\" version=\"1.1\" height=\"36.0157pt\" x=\"-3.83465pt\" y=\"-32.1811pt\" stroke-width=\"0.566929\" viewBox=\"-3.83465 -32.1811 146.567 36.0157\" stroke-miterlimit=\"10.000000\">\n",
       " <path stroke=\"black\" d=\"M0 -0C28.3465 -0 28.3465 -28.3465 56.6929 -28.3465\"/>\n",
       " <path fill=\"black\" d=\"M2.83465 -0L2.83464 -0.00494739A2.83465 2.83465 0 0 0 -2.83465 -1.60598e-15A2.83465 2.83465 0 0 0 2.83464 0.00494739Z\"/>\n",
       " <path fill=\"black\" d=\"M31.1811 -14.1732L31.1811 -14.1782A2.83465 2.83465 0 0 0 25.5118 -14.1732A2.83465 2.83465 0 0 0 31.1811 -14.1683Z\"/>\n",
       " <path fill=\"black\" d=\"M59.5276 -28.3465L59.5276 -28.3514A2.83465 2.83465 0 0 0 53.8583 -28.3465A2.83465 2.83465 0 0 0 59.5276 -28.3415Z\"/>\n",
       " <path stroke=\"black\" d=\"M85.0394 -0C113.386 -0 113.386 -28.3465 141.732 -28.3465\"/>\n",
       " <path fill=\"black\" d=\"M101.651 -2.81658L101.651 -2.82153A2.83465 2.83465 0 0 0 95.9814 -2.81658A2.83465 2.83465 0 0 0 101.651 -2.81163Z\"/>\n",
       " <path fill=\"black\" d=\"M130.79 -25.5299L130.79 -25.5348A2.83465 2.83465 0 0 0 125.121 -25.5299A2.83465 2.83465 0 0 0 130.79 -25.5249Z\"/>\n",
       "</svg>\n"
      ]
     },
     "execution_count": 1,
     "metadata": {},
     "output_type": "execute_result"
    }
   ],
   "source": [
    "from pyx import *\n",
    "\n",
    "def mark(x, y):\n",
    "    return path.circle(x, y, 0.1)\n",
    "\n",
    "c = canvas.canvas()\n",
    "\n",
    "p1 = path.curve(0, 0, 1, 0, 1, 1, 2, 1)\n",
    "c.stroke(p1)\n",
    "c.fill(mark(*p1.atbegin()))\n",
    "c.fill(mark(*p1.at(0.5*p1.arclen())))\n",
    "c.fill(mark(*p1.atend()))\n",
    "\n",
    "p2 = path.curve(3, 0, 4, 0, 4, 1, 5, 1)\n",
    "c.stroke(p2)\n",
    "c.fill(mark(*p2.at(p2.begin()+0.5)))\n",
    "c.fill(mark(*p2.at(p2.end()-0.5)))\n",
    "\n",
    "c"
   ]
  },
  {
   "cell_type": "markdown",
   "metadata": {},
   "source": [
    "There are several methods to access certain positions at a path. At first there\n",
    "are `atbegin` and `atend` methods, which return a coordinate tuple. \n",
    "\n",
    "<img src=\"http://pyx.sourceforge.net/bend.png\" align=\"left\"> In this example, we have defined a small helper function `mark` to which we\n",
    "can pass the return value of the `at` methods. We do this by transforming\n",
    "the sequence in to positional argument of the function call. This Python\n",
    "language feature is available by the `*` syntax in the call.\n",
    "\n",
    "<img src=\"http://pyx.sourceforge.net/bend.png\" align=\"left\"> The coordinates returned by the `at` methods are PyX lengths in the\n",
    "unscaleable true units similar to the return value of the `arclen` method.\n",
    "\n",
    "For the left path `p1`, we also show how to use the `at` method,\n",
    "which can be used to get the coordinates of a certain point of the path\n",
    "depending on the arc length along the path.\n",
    "\n",
    "A different use of the `at` function is shown for the right path `p2`: It is\n",
    "also possible to pass parametrization instances of the path to the `at` method.\n",
    "In the shown case we first fetch such parametrization instances for the\n",
    "beginning and the end of the path by the `begin` and `end` methods. Note that\n",
    "the `atbegin` method is equal to call `at` with the result value of the `begin`\n",
    "method (except for optimizations: atbegin is faster than the two calls).\n",
    "Similar `atend` could be rewritten using the result value of `end`. As shown in\n",
    "the example you can use the parametrization instances to add and substract arc\n",
    "lengths from selected point.\n",
    "\n",
    "<img src=\"http://pyx.sourceforge.net/bend.png\" align=\"left\"> The `at` method of a path instance can not only handle a single value, in\n",
    "which case it returns a single result tuple. You can also pass a list to the\n",
    "method and the return value will contain a list of coordinate tuples. You\n",
    "should bear in mind that passing a list is much more efficient than multiple\n",
    "calls of the method performing single conversions at each time.\n"
   ]
  }
 ],
 "metadata": {
  "language": "python"
 },
 "nbformat": 4,
 "nbformat_minor": 0
}