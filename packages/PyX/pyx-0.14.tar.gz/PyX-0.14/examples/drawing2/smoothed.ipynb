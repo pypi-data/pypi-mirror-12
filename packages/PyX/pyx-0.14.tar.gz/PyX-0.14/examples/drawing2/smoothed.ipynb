{
 "cells": [
  {
   "cell_type": "markdown",
   "metadata": {},
   "source": [
    "# Smoothing paths"
   ]
  },
  {
   "cell_type": "code",
   "execution_count": 1,
   "metadata": {},
   "outputs": [
    {
     "data": {
      "image/png": "[encoded data removed]",
      "image/svg+xml": [
       "<?xml version=\"1.0\" encoding=\"utf-8\"?>\n",
       "<svg xmlns=\"http://www.w3.org/2000/svg\" version=\"1.1\" x=\"-1pt\" fill=\"none\" y=\"-57.6929pt\" viewBox=\"-1 -57.6929 115.386 58.6929\" stroke-miterlimit=\"10.000000\" stroke-width=\"0.566929\" width=\"115.386pt\" height=\"58.6929pt\">\n",
       " <path stroke=\"black\" d=\"M0 -0L56.6929 -56.6929C56.6929 -0 85.0394 -0 113.386 -0\"/>\n",
       " <g>\n",
       "  <path stroke=\"#00f\" d=\"M0 -0L36.6489 -36.6489C40.3056 -40.3056 52.9617 -52.9617 59.9811 -28.6288C68.2398 -2.13163e-14 90.8128 -1.06581e-14 113.386 -1.42109e-14\"/>\n",
       " </g>\n",
       " <g>\n",
       "  <path stroke=\"#f00\" d=\"M0 -0L16.605 -16.605C26.5436 -26.5436 47.3258 -22.8681 75.9827 -6.10352C86.4159 -7.99361e-15 99.9009 -2.66454e-15 113.386 -0\"/>\n",
       " </g>\n",
       "</svg>\n"
      ]
     },
     "execution_count": 1,
     "metadata": {},
     "output_type": "execute_result"
    }
   ],
   "source": [
    "from pyx import *\n",
    "\n",
    "c = canvas.canvas()\n",
    "p = path.line(0, 0, 2, 2)\n",
    "p.append(path.curveto(2, 0, 3, 0, 4, 0))\n",
    "c.stroke(p)\n",
    "c.stroke(p, [deformer.smoothed(1.0), color.rgb.blue])\n",
    "c.stroke(p, [deformer.smoothed(2.0), color.rgb.red])\n",
    "c"
   ]
  },
  {
   "cell_type": "markdown",
   "metadata": {},
   "source": [
    "This example shows how to use the `deformer` class. A deformer takes an\n",
    "original path and return a modified one, which is here a smoothed variant. The\n",
    "deformer can be used like any other attribute when stroking or filling a path.\n",
    "\n",
    "Here, we show the use of `deformer.smoothed`, which smoothes away corners in\n",
    "the original path.  It operates on the `pathitem`s of the original path and\n",
    "cuts out pieces of a given length (`1.0` in the example) surrounding a corner\n",
    "and replaces them by a smooth curve. This new curve is determined to be\n",
    "*geometrically smooth*, exhibiting the same tangents and curvatures as the\n",
    "original path at the connection points. Alltogether, the smoothing is performed\n",
    "not in a strictly *geometrical* sense but also depends on the\n",
    "parameterization of the path. If you try to smooth a path consisting of many\n",
    "short path elements, nothing will really change.\n",
    "\n",
    "<img src=\"http://pyx.sourceforge.net/bend.png\" align=\"left\"> In all deformers, the deformed path can be accessed directly by\n",
    "\n",
    "    ps = deformer.smoothed(1.0).deform(p)\n"
   ]
  }
 ],
 "metadata": {
  "language": "python"
 },
 "nbformat": 4,
 "nbformat_minor": 0
}