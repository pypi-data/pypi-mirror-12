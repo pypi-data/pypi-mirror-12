{
 "cells": [
  {
   "cell_type": "markdown",
   "metadata": {},
   "source": [
    "# Stroke and fill attributes"
   ]
  },
  {
   "cell_type": "code",
   "execution_count": 1,
   "metadata": {},
   "outputs": [
    {
     "data": {
      "image/png": "[encoded data removed]",
      "image/svg+xml": [
       "<?xml version=\"1.0\" encoding=\"utf-8\"?>\n",
       "<svg xmlns=\"http://www.w3.org/2000/svg\" height=\"88.3071pt\" fill=\"none\" stroke-miterlimit=\"10.000000\" y=\"-2.26772pt\" x=\"-2.83465pt\" version=\"1.1\" width=\"119.055pt\" stroke-width=\"0.566929\" viewBox=\"-2.83465 -2.26772 119.055 88.3071\">\n",
       " <g stroke-linecap=\"butt\" stroke-dasharray=\"16.000000\" stroke-width=\"4.535433\" stroke-dashoffset=\"0.000000\">\n",
       "  <path stroke=\"#f00\" d=\"M0 -0L113.386 -0\"/>\n",
       " </g>\n",
       " <g stroke-linecap=\"round\" stroke-width=\"5.669291\">\n",
       "  <path stroke=\"#0f0\" d=\"M0 28.3465L113.386 28.3465\"/>\n",
       " </g>\n",
       " <g>\n",
       "  <path fill=\"#00f\" d=\"M0 85.0394L113.386 85.0394L113.386 56.6929L0 56.6929Z\"/>\n",
       " </g>\n",
       "</svg>\n"
      ]
     },
     "execution_count": 1,
     "metadata": {},
     "output_type": "execute_result"
    }
   ],
   "source": [
    "from pyx import *\n",
    "\n",
    "c = canvas.canvas()\n",
    "c.stroke(path.line(0, 0, 4, 0),\n",
    "         [style.linewidth.THICK, style.linestyle.dashed, color.rgb.red])\n",
    "c.stroke(path.line(0, -1, 4, -1),\n",
    "         [style.linewidth(0.2), style.linecap.round, color.rgb.green])\n",
    "c.fill(path.rect(0, -3, 4, 1), [color.rgb.blue])\n",
    "c"
   ]
  },
  {
   "cell_type": "markdown",
   "metadata": {},
   "source": [
    "The previous example anticipated a simple case of setting an attribute when\n",
    "stroking paths. This example shows a few more use-cases.\n",
    "\n",
    "Attributes can be passed in a list as the second optional argument of the\n",
    "`stroke` or `fill` methods of a canvas instance.  The attributes themselves are\n",
    "instances of certain attribute classes. A full list is available in the manual.\n",
    "\n",
    "In general, some useful attribute instances are predefined as class attributes\n",
    "of the corresponding attribute class. In the given example, the\n",
    "`style.linewidth.THICK`, `style.linestyle.dashed`, `style.linecap.round`,\n",
    "`color.rgb.red`, `color.rgb.green`, and `color.rgb.blue` are just some examples of\n",
    "this type of attribute instances. In contrast, `style.linewidth(0.2)` creates a\n",
    "new style instance for the given parameters.\n",
    "\n",
    "<img src=\"http://pyx.sourceforge.net/bend.png\" align=\"left\"><img src=\"http://pyx.sourceforge.net/bend.png\" align=\"left\"> The linewidth instance created by `style.linewidth(0.2)` is different from the\n",
    "predefined linewidth instances in PyX in its use of *user* units. In the example\n",
    "*Adding and joining paths* of section *Path features*, the linewidth is\n",
    "scaled independently of the *user* units, but if you try to double all linewidth\n",
    "by\n",
    "\n",
    "    unit.set(wscale=2)\n",
    "\n",
    "in the beginning of the script, our self-defined linewidth will not be scaled.\n",
    "To obtain the proper scaling behaviour it would be necessary to attach the\n",
    "*width* unit by using\n",
    "\n",
    "    style.linewidth(0.2*unit.w_cm)\n"
   ]
  }
 ],
 "metadata": {
  "language": "python"
 },
 "nbformat": 4,
 "nbformat_minor": 0
}