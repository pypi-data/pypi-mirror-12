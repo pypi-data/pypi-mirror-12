{
 "cells": [
  {
   "cell_type": "markdown",
   "metadata": {},
   "source": [
    "# Creating paths with MetaPost-like parameters"
   ]
  },
  {
   "cell_type": "code",
   "execution_count": 1,
   "metadata": {},
   "outputs": [
    {
     "data": {
      "image/png": "[encoded data removed]",
      "image/svg+xml": [
       "<?xml version=\"1.0\" encoding=\"utf-8\"?>\n",
       "<svg xmlns=\"http://www.w3.org/2000/svg\" stroke-width=\"0.566929\" width=\"118.22pt\" stroke-miterlimit=\"10.000000\" y=\"-88.1465pt\" version=\"1.1\" viewBox=\"-2.41732 -88.1465 118.22 103.023\" x=\"-2.41732pt\" height=\"103.023pt\" fill=\"none\">\n",
       " <g>\n",
       "  <path d=\"M1.41732 -0L1.41732 -0.00247369A1.41732 1.41732 0 0 0 -1.41732 -8.0299e-16A1.41732 1.41732 0 0 0 1.41732 0.00247369Z\" fill=\"#f00\"/>\n",
       " </g>\n",
       " <g>\n",
       "  <path d=\"M58.1102 -0L58.1102 -0.00247369C58.1096 -0.378156 57.9598 -0.738209 57.6938 -1.00351C57.4278 -1.26881 57.0674 -1.41765 56.6917 -1.41732C56.316 -1.41699 55.9558 -1.26753 55.6903 -1.00176C55.4247 -0.735997 55.2756 -0.375683 55.2756 -1.73572e-16C55.2756 0.375683 55.4247 0.735997 55.6903 1.00176C55.9558 1.26753 56.316 1.41699 56.6917 1.41732C57.0674 1.41765 57.4278 1.26881 57.6938 1.00351C57.9598 0.738209 58.1096 0.378156 58.1102 0.00247369Z\" fill=\"#f00\"/>\n",
       " </g>\n",
       " <g>\n",
       "  <path d=\"M58.1102 -37.7008L58.1102 -37.7033A1.41732 1.41732 0 0 0 55.2756 -37.7008A1.41732 1.41732 0 0 0 58.1102 -37.6983Z\" fill=\"#f00\"/>\n",
       " </g>\n",
       " <g>\n",
       "  <path d=\"M114.803 -37.7008L114.803 -37.7033C114.802 -38.0789 114.653 -38.439 114.387 -38.7043C114.121 -38.9696 113.76 -39.1184 113.385 -39.1181C113.009 -39.1178 112.649 -38.9683 112.383 -38.7025C112.118 -38.4368 111.969 -38.0765 111.969 -37.7008C111.969 -37.3251 112.118 -36.9648 112.383 -36.699C112.649 -36.4333 113.009 -36.2838 113.385 -36.2835C113.76 -36.2831 114.121 -36.432 114.387 -36.6973C114.653 -36.9626 114.802 -37.3226 114.803 -37.6983Z\" fill=\"#f00\"/>\n",
       " </g>\n",
       " <g>\n",
       "  <path d=\"M38.2677 -85.0394L38.2677 -85.0418A1.41732 1.41732 0 0 0 35.4331 -85.0394A1.41732 1.41732 0 0 0 38.2677 -85.0369Z\" fill=\"#f00\"/>\n",
       " </g>\n",
       " <g>\n",
       "  <path d=\"M94.9606 -85.0394L94.9606 -85.0418C94.96 -85.4175 94.8102 -85.7776 94.5442 -86.0429C94.2782 -86.3082 93.9178 -86.457 93.5421 -86.4567C93.1664 -86.4564 92.8062 -86.3069 92.5407 -86.0411C92.2751 -85.7754 92.126 -85.4151 92.126 -85.0394C92.126 -84.6637 92.2751 -84.3034 92.5407 -84.0376C92.8062 -83.7718 93.1664 -83.6224 93.5421 -83.622C93.9178 -83.6217 94.2782 -83.7706 94.5442 -84.0359C94.8102 -84.3012 94.96 -84.6612 94.9606 -85.0369Z\" fill=\"#f00\"/>\n",
       " </g>\n",
       " <g>\n",
       "  <path d=\"M10.7717 -66.0472L10.7717 -66.0497A1.41732 1.41732 0 0 0 7.93701 -66.0472A1.41732 1.41732 0 0 0 10.7717 -66.0448Z\" fill=\"#f00\"/>\n",
       " </g>\n",
       " <g>\n",
       "  <path d=\"M67.4646 -66.0472L67.4646 -66.0497C67.4639 -66.4254 67.3141 -66.7855 67.0481 -67.0508C66.7821 -67.3161 66.4217 -67.4649 66.046 -67.4646C65.6703 -67.4642 65.3101 -67.3148 65.0446 -67.049C64.7791 -66.7832 64.6299 -66.4229 64.6299 -66.0472C64.6299 -65.6716 64.7791 -65.3112 65.0446 -65.0455C65.3101 -64.7797 65.6703 -64.6302 66.046 -64.6299C66.4217 -64.6296 66.7821 -64.7784 67.0481 -65.0437C67.3141 -65.309 67.4639 -65.6691 67.4646 -66.0448Z\" fill=\"#f00\"/>\n",
       " </g>\n",
       " <g>\n",
       "  <path d=\"M29.7638 -47.3386L29.7638 -47.3411A1.41732 1.41732 0 0 0 26.9291 -47.3386A1.41732 1.41732 0 0 0 29.7638 -47.3361Z\" fill=\"#f00\"/>\n",
       " </g>\n",
       " <g>\n",
       "  <path d=\"M86.4567 -47.3386L86.4567 -47.3411C86.456 -47.7167 86.3063 -48.0768 86.0403 -48.3421C85.7743 -48.6074 85.4138 -48.7562 85.0381 -48.7559C84.6625 -48.7556 84.3023 -48.6061 84.0367 -48.3403C83.7712 -48.0746 83.622 -47.7143 83.622 -47.3386C83.622 -46.9629 83.7712 -46.6026 84.0367 -46.3368C84.3023 -46.0711 84.6625 -45.9216 85.0381 -45.9213C85.4138 -45.9209 85.7743 -46.0698 86.0403 -46.3351C86.3063 -46.6004 86.456 -46.9604 86.4567 -47.3361Z\" fill=\"#f00\"/>\n",
       " </g>\n",
       " <path stroke=\"black\" d=\"M0 -0C25.3126 1.94159 48.6939 -13.607 56.6929 -37.7008C63.3961 -57.8914 55.8895 -80.3983 36.8504 -85.0394C23.2694 -88.3499 9.74555 -79.4208 9.35433 -66.0472C9.04511 -55.4767 17.7818 -46.8705 28.3465 -47.3386\"/>\n",
       " <path stroke=\"black\" d=\"M56.6929 -0C61.5479 25.4396 114.03 17.6001 113.386 -37.7008C113.164 -56.753 110.325 -77.5444 93.5433 -85.0394C77.1941 -92.3411 61.157 -79.3646 66.0472 -66.0472C69.2611 -57.2952 81.5249 -55.9147 85.0394 -47.3386C93.9946 -25.4854 52.8692 -20.0358 56.6929 -0Z\"/>\n",
       "</svg>\n"
      ]
     },
     "execution_count": 1,
     "metadata": {},
     "output_type": "execute_result"
    }
   ],
   "source": [
    "from pyx import *\n",
    "from pyx.metapost.path import beginknot, endknot, smoothknot, tensioncurve\n",
    "\n",
    "p1, p2, p3, p4, p5 = (0, 0), (2, 1.33), (1.3, 3), (0.33, 2.33), (1, 1.67)\n",
    "openpath = metapost.path.path([\n",
    "    beginknot(*p1), tensioncurve(), smoothknot(*p2), tensioncurve(),\n",
    "    smoothknot(*p3), tensioncurve(), smoothknot(*p4), tensioncurve(),\n",
    "    endknot(*p5)])\n",
    "closedpath = metapost.path.path([\n",
    "    smoothknot(*p1), tensioncurve(), smoothknot(*p2), tensioncurve(),\n",
    "    smoothknot(*p3), tensioncurve(), smoothknot(*p4), tensioncurve(),\n",
    "    smoothknot(*p5), tensioncurve()])\n",
    "c = canvas.canvas()\n",
    "for p in [p1, p2, p3, p4, p5]:\n",
    "    c.fill(path.circle(p[0], p[1], 0.05), [color.rgb.red])\n",
    "    c.fill(path.circle(p[0], p[1], 0.05), [color.rgb.red, trafo.translate(2, 0)])\n",
    "c.stroke(openpath)\n",
    "c.stroke(closedpath, [trafo.translate(2, 0)])\n",
    "\n",
    "c"
   ]
  },
  {
   "cell_type": "markdown",
   "metadata": {},
   "source": [
    "Some simple paths are created by prescribing five points on the path. The\n",
    "curves between them are automatically chosen such that the result looks smooth. \n",
    "\n",
    "Instead of constructing paths from their path elements, where all control\n",
    "points must be given explicitly, we here specify only five points which must\n",
    "lie on the path. The remaining control points are then internally determined by\n",
    "the constraint that the curve should look smooth.\n",
    "\n",
    "In the first curve, the geometrical constraints are the following. The three\n",
    "interior points have a continuous tangent and a continuous curvature. The two\n",
    "end points demand a curvature not too different from that at their neighbor\n",
    "(second/fourth point).\n",
    "\n",
    "For the closed curve, all points are of the continuous type.\n",
    "\n",
    "<img src=\"http://pyx.sourceforge.net/bend.png\" align=\"left\"> The algorithm for calculating the curves comes from MetaPost. In the syntax\n",
    "of MetaPost, the above example corresponds to the commands\n",
    "\n",
    "  draw((0,0)..(2,1.33)..(1.3,3)..(0.33,2.33)..(1,1.67));\n",
    "  draw((0,0)..(2,1.33)..(1.3,3)..(0.33,2.33)..(1,1.67)..cycle);\n",
    "\n"
   ]
  }
 ],
 "metadata": {
  "language": "python"
 },
 "nbformat": 4,
 "nbformat_minor": 0
}