{
 "cells": [
  {
   "cell_type": "markdown",
   "metadata": {
    "slideshow": {
     "slide_type": "slide"
    }
   },
   "source": [
    "DistArray: Distributed Arrays for Python\n",
    "========================================\n",
    "\n",
    "[docs.enthought.com/distarray](http://docs.enthought.com/distarray)"
   ]
  },
  {
   "cell_type": "markdown",
   "metadata": {
    "slideshow": {
     "slide_type": "subslide"
    }
   },
   "source": [
    "Setup\n",
    "-----\n",
    "Much of this notebook requires an `IPython.parallel` cluster to be running.\n",
    "Outside the notebook, run\n",
    "```\n",
    "dacluster start -n4\n",
    "```"
   ]
  },
  {
   "cell_type": "code",
   "execution_count": 1,
   "metadata": {
    "collapsed": true,
    "slideshow": {
     "slide_type": "slide"
    }
   },
   "outputs": [],
   "source": [
    "# some utility imports\n",
    "from __future__ import print_function\n",
    "from pprint import pprint\n",
    "from matplotlib import pyplot as plt\n",
    "\n",
    "# main imports\n",
    "import numpy\n",
    "import distarray\n",
    "\n",
    "# reduce precision on printed array values\n",
    "numpy.set_printoptions(precision=2)\n",
    "\n",
    "# display figures inline\n",
    "%matplotlib inline"
   ]
  },
  {
   "cell_type": "markdown",
   "metadata": {},
   "source": [
    "### Software Versions"
   ]
  },
  {
   "cell_type": "code",
   "execution_count": 2,
   "metadata": {
    "collapsed": false
   },
   "outputs": [
    {
     "name": "stdout",
     "output_type": "stream",
     "text": [
      "numpy 1.9.3\n",
      "matplotlib 1.4.3\n",
      "h5py 2.5.0\n",
      "distarray 0.6.0-dev\n"
     ]
    }
   ],
   "source": [
    "print(\"numpy\", numpy.__version__)\n",
    "import matplotlib\n",
    "print(\"matplotlib\", matplotlib.__version__)\n",
    "import h5py\n",
    "print(\"h5py\", h5py.__version__)\n",
    "print(\"distarray\", distarray.__version__)"
   ]
  },
  {
   "cell_type": "markdown",
   "metadata": {},
   "source": [
    "### Set a RandomState\n",
    "\n",
    "Set a `RandomState` so random numpy arrays don't change between runs."
   ]
  },
  {
   "cell_type": "code",
   "execution_count": 3,
   "metadata": {
    "collapsed": true
   },
   "outputs": [],
   "source": [
    "from numpy.random import RandomState\n",
    "prng = RandomState(1234567890)"
   ]
  },
  {
   "cell_type": "markdown",
   "metadata": {
    "slideshow": {
     "slide_type": "slide"
    }
   },
   "source": [
    "NumPy Arrays\n",
    "------------\n",
    "\n",
    "DistArray is built on NumPy and provides a NumPy-array-like interface.  First, let's generate a NumPy array and examine some of its attributes."
   ]
  },
  {
   "cell_type": "code",
   "execution_count": 4,
   "metadata": {
    "collapsed": false,
    "slideshow": {
     "slide_type": "subslide"
    }
   },
   "outputs": [
    {
     "data": {
      "text/plain": [
       "array([[ 0.62,  0.59,  0.89,  0.89,  0.46],\n",
       "       [ 0.78,  0.27,  1.  ,  0.54,  0.54],\n",
       "       [ 0.4 ,  0.71,  0.41,  0.95,  0.03],\n",
       "       [ 0.14,  0.08,  0.42,  0.23,  0.75]])"
      ]
     },
     "execution_count": 4,
     "metadata": {},
     "output_type": "execute_result"
    }
   ],
   "source": [
    "# a 4-row 5-column NumPy array with random contents\n",
    "nparr = prng.rand(4, 5)\n",
    "nparr"
   ]
  },
  {
   "cell_type": "code",
   "execution_count": 5,
   "metadata": {
    "collapsed": false,
    "slideshow": {
     "slide_type": "subslide"
    }
   },
   "outputs": [
    {
     "name": "stdout",
     "output_type": "stream",
     "text": [
      "type: <type 'numpy.ndarray'>\n",
      "dtype: float64\n",
      "ndim: 2\n",
      "shape: (4, 5)\n",
      "itemsize: 8\n",
      "nbytes: 160\n"
     ]
    }
   ],
   "source": [
    "# NumPy array attributes\n",
    "print(\"type:\", type(nparr))\n",
    "print(\"dtype:\", nparr.dtype)\n",
    "print(\"ndim:\", nparr.ndim)\n",
    "print(\"shape:\", nparr.shape)\n",
    "print(\"itemsize:\", nparr.itemsize)\n",
    "print(\"nbytes:\", nparr.nbytes)"
   ]
  },
  {
   "cell_type": "markdown",
   "metadata": {
    "slideshow": {
     "slide_type": "slide"
    }
   },
   "source": [
    "DistArrays\n",
    "----------\n",
    "\n",
    "We'll make our first `DistArray` out of the NumPy array created above."
   ]
  },
  {
   "cell_type": "code",
   "execution_count": 6,
   "metadata": {
    "collapsed": false,
    "slideshow": {
     "slide_type": "subslide"
    }
   },
   "outputs": [],
   "source": [
    "# First we need a `Context` object.  More on this later.\n",
    "# For now, think of this object like the `NumPy` module.\n",
    "# `Context`s manage the worker engines for us.\n",
    "from distarray.globalapi import Context\n",
    "context = Context()"
   ]
  },
  {
   "cell_type": "code",
   "execution_count": 7,
   "metadata": {
    "collapsed": false
   },
   "outputs": [
    {
     "data": {
      "text/plain": [
       "<DistArray(shape=(4, 5), targets=[0, 1, 2, 3])>"
      ]
     },
     "execution_count": 7,
     "metadata": {},
     "output_type": "execute_result"
    }
   ],
   "source": [
    "# Make a DistArray from a NumPy array.\n",
    "# This will push sections of the original NumPy array out\n",
    "# to the engines.\n",
    "darr = context.fromarray(nparr)\n",
    "darr"
   ]
  },
  {
   "cell_type": "code",
   "execution_count": 8,
   "metadata": {
    "collapsed": false,
    "slideshow": {
     "slide_type": "subslide"
    }
   },
   "outputs": [
    {
     "name": "stdout",
     "output_type": "stream",
     "text": [
      "0 [[ 0.62  0.59  0.89  0.89  0.46]]\n",
      "1 [[ 0.78  0.27  1.    0.54  0.54]]\n",
      "2 [[ 0.4   0.71  0.41  0.95  0.03]]\n",
      "3 [[ 0.14  0.08  0.42  0.23  0.75]]\n"
     ]
    }
   ],
   "source": [
    "# Print the array section stored on each engine\n",
    "for i, a in enumerate(darr.get_localarrays()):\n",
    "    print(i, a)"
   ]
  },
  {
   "cell_type": "code",
   "execution_count": 9,
   "metadata": {
    "collapsed": false,
    "slideshow": {
     "slide_type": "subslide"
    }
   },
   "outputs": [
    {
     "name": "stdout",
     "output_type": "stream",
     "text": [
      "type: <class 'distarray.globalapi.distarray.DistArray'>\n",
      "dtype: float64\n",
      "ndim: 2\n",
      "shape: (4, 5)\n",
      "itemsize: 8\n",
      "nbytes: 160\n"
     ]
    }
   ],
   "source": [
    "# DistArrays have similar attributes to NumPy arrays,\n",
    "print(\"type:\", type(darr))\n",
    "print(\"dtype:\", darr.dtype)\n",
    "print(\"ndim:\", darr.ndim)\n",
    "print(\"shape:\", darr.shape)\n",
    "print(\"itemsize:\", darr.itemsize)\n",
    "print(\"nbytes:\", darr.nbytes)"
   ]
  },
  {
   "cell_type": "code",
   "execution_count": 10,
   "metadata": {
    "collapsed": false,
    "slideshow": {
     "slide_type": "subslide"
    }
   },
   "outputs": [
    {
     "name": "stdout",
     "output_type": "stream",
     "text": [
      "targets: [0, 1, 2, 3]\n",
      "context: <distarray.globalapi.context.IPythonContext object at 0x109482450>\n",
      "distribution: <distarray.globalapi.maps.Distribution object at 0x10958ba50>\n"
     ]
    }
   ],
   "source": [
    "# and some additional attributes.\n",
    "print(\"targets:\", darr.targets)\n",
    "print(\"context:\", darr.context)\n",
    "print(\"distribution:\", darr.distribution)"
   ]
  },
  {
   "cell_type": "markdown",
   "metadata": {
    "slideshow": {
     "slide_type": "slide"
    }
   },
   "source": [
    "Universal Functions (ufuncs)\n",
    "----------------------------"
   ]
  },
  {
   "cell_type": "code",
   "execution_count": 11,
   "metadata": {
    "collapsed": false,
    "slideshow": {
     "slide_type": "subslide"
    }
   },
   "outputs": [
    {
     "data": {
      "text/plain": [
       "array([[ 0.58,  0.56,  0.78,  0.78,  0.44],\n",
       "       [ 0.7 ,  0.26,  0.84,  0.51,  0.51],\n",
       "       [ 0.39,  0.65,  0.39,  0.81,  0.03],\n",
       "       [ 0.14,  0.08,  0.41,  0.23,  0.68]])"
      ]
     },
     "execution_count": 11,
     "metadata": {},
     "output_type": "execute_result"
    }
   ],
   "source": [
    "# NumPy provides `ufuncs`, or Universal Functions, that operate\n",
    "# elementwise over NumPy arrays.\n",
    "numpy.sin(nparr)"
   ]
  },
  {
   "cell_type": "code",
   "execution_count": 12,
   "metadata": {
    "collapsed": false,
    "slideshow": {
     "slide_type": "subslide"
    }
   },
   "outputs": [
    {
     "data": {
      "text/plain": [
       "<DistArray(shape=(4, 5), targets=[0, 1, 2, 3])>"
      ]
     },
     "execution_count": 12,
     "metadata": {},
     "output_type": "execute_result"
    }
   ],
   "source": [
    "# DistArray provides ufuncs as well, for `DistArray`s.\n",
    "import distarray.globalapi as da\n",
    "da.sin(darr)"
   ]
  },
  {
   "cell_type": "code",
   "execution_count": 13,
   "metadata": {
    "collapsed": false,
    "slideshow": {
     "slide_type": "subslide"
    }
   },
   "outputs": [
    {
     "data": {
      "text/plain": [
       "array([[ 0.58,  0.56,  0.78,  0.78,  0.44],\n",
       "       [ 0.7 ,  0.26,  0.84,  0.51,  0.51],\n",
       "       [ 0.39,  0.65,  0.39,  0.81,  0.03],\n",
       "       [ 0.14,  0.08,  0.41,  0.23,  0.68]])"
      ]
     },
     "execution_count": 13,
     "metadata": {},
     "output_type": "execute_result"
    }
   ],
   "source": [
    "# `toarray` makes a NumPy array out of a DistArray, pulling all of the\n",
    "# pieces back to the client.  We do this to display the contents of the\n",
    "# DistArray.\n",
    "da.sin(darr).toarray()"
   ]
  },
  {
   "cell_type": "code",
   "execution_count": 14,
   "metadata": {
    "collapsed": false,
    "slideshow": {
     "slide_type": "subslide"
    }
   },
   "outputs": [
    {
     "data": {
      "text/plain": [
       "array([[ 1.24,  1.18,  1.78,  1.78,  0.92],\n",
       "       [ 1.56,  0.53,  1.99,  1.08,  1.08],\n",
       "       [ 0.8 ,  1.41,  0.81,  1.9 ,  0.06],\n",
       "       [ 0.27,  0.17,  0.85,  0.47,  1.49]])"
      ]
     },
     "execution_count": 14,
     "metadata": {},
     "output_type": "execute_result"
    }
   ],
   "source": [
    "# A NumPy binary ufunc.\n",
    "nparr + nparr"
   ]
  },
  {
   "cell_type": "code",
   "execution_count": 15,
   "metadata": {
    "collapsed": false,
    "slideshow": {
     "slide_type": "subslide"
    }
   },
   "outputs": [
    {
     "data": {
      "text/plain": [
       "<DistArray(shape=(4, 5), targets=[0, 1, 2, 3])>"
      ]
     },
     "execution_count": 15,
     "metadata": {},
     "output_type": "execute_result"
    }
   ],
   "source": [
    "# The equivalent DistArray ufunc.\n",
    "# Notice that a new DistArray is created without\n",
    "# pulling data back to the client.\n",
    "darr + darr"
   ]
  },
  {
   "cell_type": "code",
   "execution_count": 16,
   "metadata": {
    "collapsed": false,
    "slideshow": {
     "slide_type": "subslide"
    }
   },
   "outputs": [
    {
     "data": {
      "text/plain": [
       "array([[ 1.24,  1.18,  1.78,  1.78,  0.92],\n",
       "       [ 1.56,  0.53,  1.99,  1.08,  1.08],\n",
       "       [ 0.8 ,  1.41,  0.81,  1.9 ,  0.06],\n",
       "       [ 0.27,  0.17,  0.85,  0.47,  1.49]])"
      ]
     },
     "execution_count": 16,
     "metadata": {},
     "output_type": "execute_result"
    }
   ],
   "source": [
    "# Contents of the resulting DistArray.\n",
    "(darr + darr).toarray()"
   ]
  },
  {
   "cell_type": "markdown",
   "metadata": {
    "slideshow": {
     "slide_type": "slide"
    }
   },
   "source": [
    "Reductions\n",
    "----------\n",
    "\n",
    "Functions like `sum`, `mean`, `min`, and `max` are known as *reductions*, since they take an array and produce a smaller array or a scalar.  In NumPy and DistArray, some of these functions can be applied over a specific ``axis``."
   ]
  },
  {
   "cell_type": "code",
   "execution_count": 17,
   "metadata": {
    "collapsed": false,
    "slideshow": {
     "slide_type": "subslide"
    }
   },
   "outputs": [
    {
     "name": "stdout",
     "output_type": "stream",
     "text": [
      "sum: 10.6840911511\n",
      "sum over an axis: [ 3.45  3.12  2.49  1.62]\n"
     ]
    }
   ],
   "source": [
    "# NumPy sum\n",
    "print(\"sum:\", nparr.sum())\n",
    "print(\"sum over an axis:\", nparr.sum(axis=1))"
   ]
  },
  {
   "cell_type": "code",
   "execution_count": 18,
   "metadata": {
    "collapsed": false,
    "slideshow": {
     "slide_type": "subslide"
    }
   },
   "outputs": [
    {
     "name": "stdout",
     "output_type": "stream",
     "text": [
      "sum: <DistArray(shape=(), targets=[0])> 10.6840911511\n",
      "sum over an axis: <DistArray(shape=(4,), targets=[0, 1, 2, 3])> [ 3.45  3.12  2.49  1.62]\n"
     ]
    }
   ],
   "source": [
    "# DistArray sum\n",
    "print(\"sum:\", darr.sum(), darr.sum().toarray())\n",
    "print(\"sum over an axis:\", darr.sum(axis=1), darr.sum(axis=1).toarray())"
   ]
  },
  {
   "cell_type": "markdown",
   "metadata": {
    "slideshow": {
     "slide_type": "slide"
    }
   },
   "source": [
    "Indexing and Slicing\n",
    "--------------------\n",
    "\n",
    "DistArrays support standard NumPy Indexing and distributed slicing, including slices with a step.  Slicing is currently only supported for Block (and undistributed) DistArrays."
   ]
  },
  {
   "cell_type": "code",
   "execution_count": 19,
   "metadata": {
    "collapsed": false,
    "slideshow": {
     "slide_type": "subslide"
    }
   },
   "outputs": [
    {
     "data": {
      "text/plain": [
       "array([[ 0.62,  0.59,  0.89,  0.89,  0.46],\n",
       "       [ 0.78,  0.27,  1.  ,  0.54,  0.54],\n",
       "       [ 0.4 ,  0.71,  0.41,  0.95,  0.03],\n",
       "       [ 0.14,  0.08,  0.42,  0.23,  0.75]])"
      ]
     },
     "execution_count": 19,
     "metadata": {},
     "output_type": "execute_result"
    }
   ],
   "source": [
    "# Our example array, as a reminder:\n",
    "darr.toarray()"
   ]
  },
  {
   "cell_type": "code",
   "execution_count": 20,
   "metadata": {
    "collapsed": false,
    "slideshow": {
     "slide_type": "subslide"
    }
   },
   "outputs": [
    {
     "data": {
      "text/plain": [
       "[(1, 5), (1, 5), (1, 5), (1, 5)]"
      ]
     },
     "execution_count": 20,
     "metadata": {},
     "output_type": "execute_result"
    }
   ],
   "source": [
    "# The shapes of the local sections of our DistArray\n",
    "darr.localshapes()"
   ]
  },
  {
   "cell_type": "code",
   "execution_count": 21,
   "metadata": {
    "collapsed": false
   },
   "outputs": [
    {
     "data": {
      "text/plain": [
       "0.88868358904449662"
      ]
     },
     "execution_count": 21,
     "metadata": {},
     "output_type": "execute_result"
    }
   ],
   "source": [
    "# Return the value of a single element\n",
    "darr[0, 2]"
   ]
  },
  {
   "cell_type": "code",
   "execution_count": 22,
   "metadata": {
    "collapsed": false,
    "slideshow": {
     "slide_type": "subslide"
    }
   },
   "outputs": [
    {
     "name": "stdout",
     "output_type": "stream",
     "text": [
      "<DistArray(shape=(4,), targets=[0, 1, 2, 3])>\n",
      "[ 0.89  0.54  0.95  0.23]\n"
     ]
    }
   ],
   "source": [
    "# Take a column slice\n",
    "darr_view = darr[:, 3]  # all rows, third column\n",
    "print(darr_view)\n",
    "print(darr_view.toarray())"
   ]
  },
  {
   "cell_type": "code",
   "execution_count": 23,
   "metadata": {
    "collapsed": false,
    "slideshow": {
     "slide_type": "subslide"
    }
   },
   "outputs": [
    {
     "name": "stdout",
     "output_type": "stream",
     "text": [
      "view:\n",
      "[ 0.89  0.54  0.95 -0.99]\n",
      "original:\n",
      "[[ 0.62  0.59  0.89  0.89  0.46]\n",
      " [ 0.78  0.27  1.    0.54  0.54]\n",
      " [ 0.4   0.71  0.41  0.95  0.03]\n",
      " [ 0.14  0.08  0.42 -0.99  0.75]]\n"
     ]
    }
   ],
   "source": [
    "# Slices return a new DistArray that is a view on the\n",
    "# original, just like in NumPy.\n",
    "# Changes in the view change the original array.\n",
    "darr_view[3] = -0.99\n",
    "print(\"view:\")\n",
    "print(darr_view.toarray())\n",
    "\n",
    "print(\"original:\")\n",
    "print(darr.toarray())"
   ]
  },
  {
   "cell_type": "code",
   "execution_count": 24,
   "metadata": {
    "collapsed": false,
    "slideshow": {
     "slide_type": "subslide"
    }
   },
   "outputs": [
    {
     "name": "stdout",
     "output_type": "stream",
     "text": [
      "<DistArray(shape=(4, 2), targets=[0, 1, 2, 3])>\n",
      "[[ 0.89  0.46]\n",
      " [ 1.    0.54]\n",
      " [ 0.41  0.03]]\n"
     ]
    }
   ],
   "source": [
    "# A more complex slice, with negative indices and a step.\n",
    "print(darr[:, 2::2])\n",
    "print(darr[:-1, 2::2].toarray())"
   ]
  },
  {
   "cell_type": "code",
   "execution_count": 25,
   "metadata": {
    "collapsed": false
   },
   "outputs": [
    {
     "data": {
      "text/plain": [
       "<DistArray(shape=(5,), targets=[0])>"
      ]
     },
     "execution_count": 25,
     "metadata": {},
     "output_type": "execute_result"
    }
   ],
   "source": [
    "# Incomplete indexing\n",
    "# Grab the first row\n",
    "darr[0]"
   ]
  },
  {
   "cell_type": "markdown",
   "metadata": {
    "slideshow": {
     "slide_type": "slide"
    }
   },
   "source": [
    "Distributions\n",
    "-------------\n",
    "Above, when we created a DistArray out of a NumPy array, we didn't specify *how* the elements should be distributed among our engines.  `Distribution`s give you control over this, if you want it.  In other words, `Distribution`s control which processes own which (global) indices."
   ]
  },
  {
   "cell_type": "code",
   "execution_count": 26,
   "metadata": {
    "collapsed": false,
    "slideshow": {
     "slide_type": "subslide"
    }
   },
   "outputs": [],
   "source": [
    "# Let's look at the `Distribution` object that was created for us\n",
    "# automatically by `fromarray`.\n",
    "distribution = darr.distribution"
   ]
  },
  {
   "cell_type": "code",
   "execution_count": 27,
   "metadata": {
    "collapsed": false,
    "slideshow": {
     "slide_type": "subslide"
    }
   },
   "outputs": [
    {
     "name": "stdout",
     "output_type": "stream",
     "text": [
      "[<distarray.globalapi.maps.BlockMap object at 0x10959ee90>,\n",
      " <distarray.globalapi.maps.NoDistMap object at 0x10959ef10>]\n"
     ]
    }
   ],
   "source": [
    "# This is a 2D distribution: its 0th dimension is Block-distributed,\n",
    "# and it's 1st dimension isn't distributed.\n",
    "pprint(distribution.maps)"
   ]
  },
  {
   "cell_type": "code",
   "execution_count": 28,
   "metadata": {
    "collapsed": false,
    "slideshow": {
     "slide_type": "subslide"
    }
   },
   "outputs": [
    {
     "data": {
      "text/plain": [
       "<DistArray(shape=(4, 5), targets=[0, 1, 2, 3])>"
      ]
     },
     "execution_count": 28,
     "metadata": {},
     "output_type": "execute_result"
    },
    {
     "data": {
      "image/png": "[encoded data removed]",
      "text/plain": [
       "<matplotlib.figure.Figure at 0x10958b850>"
      ]
     },
     "metadata": {},
     "output_type": "display_data"
    }
   ],
   "source": [
    "# Plot this Distribution, color-coding which process each global index\n",
    "# belongs to.\n",
    "from distarray.plotting import plot_array_distribution\n",
    "process_coords = [(0, 0), (1, 0), (2, 0), (3, 0)]\n",
    "plot_array_distribution(darr, process_coords, cell_label=False, legend=True)"
   ]
  },
  {
   "cell_type": "code",
   "execution_count": 29,
   "metadata": {
    "collapsed": false,
    "slideshow": {
     "slide_type": "subslide"
    }
   },
   "outputs": [
    {
     "data": {
      "text/plain": [
       "[(0, 1), (1, 2), (2, 3), (3, 4)]"
      ]
     },
     "execution_count": 29,
     "metadata": {},
     "output_type": "execute_result"
    }
   ],
   "source": [
    "# Check out which sections of this array's 0th dimension are on\n",
    "# each process.\n",
    "distribution.maps[0].bounds"
   ]
  },
  {
   "cell_type": "markdown",
   "metadata": {},
   "source": [
    "The Distribution above was created for us by `fromarray`,\n",
    "but DistArray lets us specify more complex distributions.\n",
    "\n",
    "Here, we specify that the 0th dimension has a Block distribution ('b')\n",
    "and the 1st dimension has a Cyclic distribution.\n",
    "\n",
    "DistArray supports Block, Cyclic, Block-Cyclic, Unstructured,\n",
    "and No-distribution dimensions.  See the\n",
    "[ScaLAPACK Documentation](http://netlib.org/scalapack/slug/node75.html) for more information about Distribution types."
   ]
  },
  {
   "cell_type": "code",
   "execution_count": 30,
   "metadata": {
    "collapsed": false,
    "slideshow": {
     "slide_type": "subslide"
    }
   },
   "outputs": [
    {
     "data": {
      "text/plain": [
       "<DistArray(shape=(64, 64), targets=[0, 1, 2, 3])>"
      ]
     },
     "execution_count": 30,
     "metadata": {},
     "output_type": "execute_result"
    },
    {
     "data": {
      "image/png": "[encoded data removed]",
      "text/plain": [
       "<matplotlib.figure.Figure at 0x1096c0650>"
      ]
     },
     "metadata": {},
     "output_type": "display_data"
    }
   ],
   "source": [
    "from distarray.globalapi import Distribution\n",
    "\n",
    "distribution = Distribution(context, shape=(64, 64), dist=('b', 'c'))\n",
    "a = context.zeros(distribution, dtype='int32')\n",
    "plot_array_distribution(a, process_coords, cell_label=False, legend=True)"
   ]
  },
  {
   "cell_type": "markdown",
   "metadata": {},
   "source": [
    "Redistribution\n",
    "--------------\n",
    "\n",
    "Since `DistArray`s are distributed, the equivalent to NumPy's `reshape` (`distribute_as`) can be a more complex and costly operation.  For convenience, you can supply either a `shape` or a full `Distribution` object.  Only Block distributions (and No-dist) are currently redistributable."
   ]
  },
  {
   "cell_type": "code",
   "execution_count": 31,
   "metadata": {
    "collapsed": false
   },
   "outputs": [
    {
     "data": {
      "text/plain": [
       "<DistArray(shape=(4, 5), targets=[0, 1, 2, 3])>"
      ]
     },
     "execution_count": 31,
     "metadata": {},
     "output_type": "execute_result"
    }
   ],
   "source": [
    "darr"
   ]
  },
  {
   "cell_type": "code",
   "execution_count": 32,
   "metadata": {
    "collapsed": false
   },
   "outputs": [
    {
     "data": {
      "text/plain": [
       "array([[ 0.62,  0.59,  0.89,  0.89,  0.46],\n",
       "       [ 0.78,  0.27,  1.  ,  0.54,  0.54],\n",
       "       [ 0.4 ,  0.71,  0.41,  0.95,  0.03],\n",
       "       [ 0.14,  0.08,  0.42, -0.99,  0.75]])"
      ]
     },
     "execution_count": 32,
     "metadata": {},
     "output_type": "execute_result"
    }
   ],
   "source": [
    "darr.toarray()"
   ]
  },
  {
   "cell_type": "code",
   "execution_count": 33,
   "metadata": {
    "collapsed": false
   },
   "outputs": [
    {
     "data": {
      "text/plain": [
       "<DistArray(shape=(10, 2), targets=[0, 1, 2, 3])>"
      ]
     },
     "execution_count": 33,
     "metadata": {},
     "output_type": "execute_result"
    }
   ],
   "source": [
    "# simple reshaping\n",
    "reshaped = darr.distribute_as((10, 2))\n",
    "reshaped"
   ]
  },
  {
   "cell_type": "code",
   "execution_count": 34,
   "metadata": {
    "collapsed": false
   },
   "outputs": [
    {
     "data": {
      "text/plain": [
       "array([[ 0.62,  0.59],\n",
       "       [ 0.89,  0.89],\n",
       "       [ 0.46,  0.78],\n",
       "       [ 0.27,  1.  ],\n",
       "       [ 0.54,  0.54],\n",
       "       [ 0.4 ,  0.71],\n",
       "       [ 0.41,  0.95],\n",
       "       [ 0.03,  0.14],\n",
       "       [ 0.08,  0.42],\n",
       "       [-0.99,  0.75]])"
      ]
     },
     "execution_count": 34,
     "metadata": {},
     "output_type": "execute_result"
    }
   ],
   "source": [
    "reshaped.toarray()"
   ]
  },
  {
   "cell_type": "code",
   "execution_count": 35,
   "metadata": {
    "collapsed": false
   },
   "outputs": [
    {
     "data": {
      "text/plain": [
       "<DistArray(shape=(5, 4), targets=[1, 3])>"
      ]
     },
     "execution_count": 35,
     "metadata": {},
     "output_type": "execute_result"
    }
   ],
   "source": [
    "# A more complex resdistribution,\n",
    "# changing shape, dist, and targets\n",
    "dist = Distribution(context, shape=(5, 4),\n",
    "                    dist=('b', 'b'), targets=(1, 3))\n",
    "darr.distribute_as(dist)"
   ]
  },
  {
   "cell_type": "markdown",
   "metadata": {
    "slideshow": {
     "slide_type": "slide"
    }
   },
   "source": [
    "Contexts\n",
    "--------\n",
    "Context objects manage the setup of and communication to the worker processes for DistArray objects.  They also act as the namespace to which\n",
    "DistArray creation functions are attached."
   ]
  },
  {
   "cell_type": "code",
   "execution_count": 36,
   "metadata": {
    "collapsed": false,
    "slideshow": {
     "slide_type": "subslide"
    }
   },
   "outputs": [
    {
     "name": "stdout",
     "output_type": "stream",
     "text": [
      "targets: [0, 1, 2, 3]\n",
      "comm: <distarray.localapi.proxyize.Proxy object at 0x109597850>\n"
     ]
    }
   ],
   "source": [
    "print(\"targets:\", context.targets)\n",
    "print(\"comm:\", context.comm)"
   ]
  },
  {
   "cell_type": "code",
   "execution_count": 37,
   "metadata": {
    "collapsed": false
   },
   "outputs": [
    {
     "data": {
      "text/plain": [
       "<DistArray(shape=(5, 3), targets=[0, 1, 2])>"
      ]
     },
     "execution_count": 37,
     "metadata": {},
     "output_type": "execute_result"
    }
   ],
   "source": [
    "context.zeros((5, 3))"
   ]
  },
  {
   "cell_type": "code",
   "execution_count": 38,
   "metadata": {
    "collapsed": false
   },
   "outputs": [
    {
     "data": {
      "text/plain": [
       "<DistArray(shape=(20, 20), targets=[0, 1, 2, 3])>"
      ]
     },
     "execution_count": 38,
     "metadata": {},
     "output_type": "execute_result"
    }
   ],
   "source": [
    "context.ones((20, 20))"
   ]
  },
  {
   "cell_type": "markdown",
   "metadata": {
    "slideshow": {
     "slide_type": "slide"
    }
   },
   "source": [
    "Parallel IO\n",
    "-----------\n",
    "\n",
    "DistArray has support for reading NumPy `.npy` files in parallel, for reading *and* writing `.dnpy` files in parallel (our own flat-file format), and reading and writing HDF5 files in parallel (if you have a parallel build of `h5py`)."
   ]
  },
  {
   "cell_type": "code",
   "execution_count": 39,
   "metadata": {
    "collapsed": false,
    "slideshow": {
     "slide_type": "subslide"
    }
   },
   "outputs": [
    {
     "data": {
      "text/plain": [
       "<DistArray(shape=(4, 5), targets=[0, 1, 2, 3])>"
      ]
     },
     "execution_count": 39,
     "metadata": {},
     "output_type": "execute_result"
    }
   ],
   "source": [
    "# load .npy files in parallel\n",
    "numpy.save(\"/tmp/outfile.npy\", nparr)\n",
    "distribution = Distribution(context, nparr.shape) \n",
    "new_darr = context.load_npy(\"/tmp/outfile.npy\", distribution)\n",
    "new_darr"
   ]
  },
  {
   "cell_type": "code",
   "execution_count": 40,
   "metadata": {
    "collapsed": false,
    "slideshow": {
     "slide_type": "subslide"
    }
   },
   "outputs": [],
   "source": [
    "# save to .dnpy (a built-in flat-file format based on .npy)\n",
    "context.save_dnpy(\"/tmp/outfile\", darr)"
   ]
  },
  {
   "cell_type": "code",
   "execution_count": 41,
   "metadata": {
    "collapsed": false,
    "slideshow": {
     "slide_type": "subslide"
    }
   },
   "outputs": [
    {
     "data": {
      "text/plain": [
       "<DistArray(shape=(4, 5), targets=[0, 1, 2, 3])>"
      ]
     },
     "execution_count": 41,
     "metadata": {},
     "output_type": "execute_result"
    }
   ],
   "source": [
    "# load from .dnpy\n",
    "context.load_dnpy(\"/tmp/outfile\")"
   ]
  },
  {
   "cell_type": "code",
   "execution_count": 42,
   "metadata": {
    "collapsed": false,
    "slideshow": {
     "slide_type": "subslide"
    }
   },
   "outputs": [],
   "source": [
    "# save DistArrays to .hdf5 files in parallel\n",
    "context.save_hdf5(\"/tmp/outfile.hdf5\", darr, mode='w')"
   ]
  },
  {
   "cell_type": "code",
   "execution_count": 43,
   "metadata": {
    "collapsed": false,
    "slideshow": {
     "slide_type": "subslide"
    }
   },
   "outputs": [
    {
     "data": {
      "text/plain": [
       "<DistArray(shape=(4, 5), targets=[0, 1, 2, 3])>"
      ]
     },
     "execution_count": 43,
     "metadata": {},
     "output_type": "execute_result"
    }
   ],
   "source": [
    "# load DistArrays from .hdf5 files in parallel (using h5py)\n",
    "context.load_hdf5(\"/tmp/outfile.hdf5\", distribution)"
   ]
  },
  {
   "cell_type": "markdown",
   "metadata": {
    "slideshow": {
     "slide_type": "slide"
    }
   },
   "source": [
    "Context.apply\n",
    "-------------\n",
    "\n",
    "Global view, local control.  The `apply` method on a `Context` allows you to write functions that are applied *locally* (that is, on the engines) to each section of a DistArray.  This allows you to push your computation close to your data, avoiding communication round-trips and possibly speeding up your computations."
   ]
  },
  {
   "cell_type": "code",
   "execution_count": 44,
   "metadata": {
    "collapsed": false,
    "slideshow": {
     "slide_type": "subslide"
    }
   },
   "outputs": [
    {
     "data": {
      "text/plain": [
       "[2, 5, 8, 2]"
      ]
     },
     "execution_count": 44,
     "metadata": {},
     "output_type": "execute_result"
    }
   ],
   "source": [
    "def get_local_random():\n",
    "    \"\"\"Function to be applied locally.\"\"\"\n",
    "    import numpy\n",
    "    return numpy.random.randint(10)\n",
    "\n",
    "context.apply(get_local_random)"
   ]
  },
  {
   "cell_type": "code",
   "execution_count": 45,
   "metadata": {
    "collapsed": false,
    "slideshow": {
     "slide_type": "subslide"
    }
   },
   "outputs": [
    {
     "data": {
      "text/plain": [
       "[0.029782447186009097,\n",
       " 0.060831768443372111,\n",
       " 0.096730856076473776,\n",
       " 0.3423050023674285]"
      ]
     },
     "execution_count": 45,
     "metadata": {},
     "output_type": "execute_result"
    }
   ],
   "source": [
    "def get_local_var(darr):\n",
    "    \"\"\"Another local computation.\"\"\"\n",
    "    return darr.ndarray.var()\n",
    "\n",
    "context.apply(get_local_var, args=(darr.key,))"
   ]
  },
  {
   "cell_type": "markdown",
   "metadata": {},
   "source": [
    "Context.register\n",
    "----------------\n",
    "\n",
    "`Context.register` is similar to `Context.apply`, but it allows you to *register* your function with a `Context` up front, and then call it repeatedly, with a nice syntax."
   ]
  },
  {
   "cell_type": "code",
   "execution_count": 46,
   "metadata": {
    "collapsed": false
   },
   "outputs": [],
   "source": [
    "def local_demean(la):\n",
    "    \"\"\"Return the local array with the mean removed.\"\"\"\n",
    "    return la.ndarray - la.ndarray.mean()\n",
    "context.register(local_demean)"
   ]
  },
  {
   "cell_type": "code",
   "execution_count": 47,
   "metadata": {
    "collapsed": false
   },
   "outputs": [
    {
     "data": {
      "text/plain": [
       "[array([[-0.07, -0.1 ,  0.2 ,  0.2 , -0.23]]),\n",
       " array([[ 0.15, -0.36,  0.37, -0.08, -0.09]]),\n",
       " array([[-0.1 ,  0.21, -0.09,  0.45, -0.47]]),\n",
       " array([[ 0.06,  0.  ,  0.34, -1.07,  0.67]])]"
      ]
     },
     "execution_count": 47,
     "metadata": {},
     "output_type": "execute_result"
    }
   ],
   "source": [
    "context.local_demean(darr)"
   ]
  },
  {
   "cell_type": "markdown",
   "metadata": {},
   "source": [
    "MPI-only Execution\n",
    "-------------------------"
   ]
  },
  {
   "cell_type": "markdown",
   "metadata": {},
   "source": [
    "Instead of using an IPython client (which uses ZeroMQ to communicate to the engines), you can run your DistArray code in MPI-only mode (using an extra MPI process for the client).  This can be more performant."
   ]
  },
  {
   "cell_type": "code",
   "execution_count": 48,
   "metadata": {
    "collapsed": false
   },
   "outputs": [
    {
     "name": "stdout",
     "output_type": "stream",
     "text": [
      "/Users/robertgrant/development/distarray/examples/julia_set\n",
      "usage: benchmark_julia.py [-h] [-r REPEAT_COUNT] [-o OUTPUT_FILENAME] [-k {fancy,numpy,cython}] [-s {strong,weak}] N [N ...]\n",
      "\n",
      "Calculate some Julia sets using DistArray and measure the performance. The Julia set, for a given complex number $c$, is the set of points $z$ such that\n",
      "$|z_{i}|$ remains bounded where $z_{i+1} = z_{i}^2 + c$. This can be plotted by counting how many iterations are required for $|z_{i}|$ to exceed a cutoff.\n",
      "Depending on the value of $c$, the Julia set may be connected and contain a lot of points, or it could be disconnected and contain fewer points. The points\n",
      "in the set will require the maximum iteration count, so the connected sets will usually take longer to compute.\n",
      "\n",
      "positional arguments:\n",
      "  N                     resolutions of the Julia set to benchmark (NxN)\n",
      "\n",
      "optional arguments:\n",
      "  -h, --help            show this help message and exit\n",
      "  -r REPEAT_COUNT, --repeat REPEAT_COUNT\n",
      "                        number of repetitions of each unique parameter set, default: 3\n",
      "  -o OUTPUT_FILENAME, --output-filename OUTPUT_FILENAME\n",
      "                        filename to write the json data to.\n",
      "  -k {fancy,numpy,cython}, --kernel {fancy,numpy,cython}\n",
      "                        kernel to use for computation. Options are 'fancy', 'numpy', or 'cython'.\n",
      "  -s {strong,weak}, --scaling {strong,weak}\n",
      "                        Kind of scaling test. Options are 'strong' or 'weak'\n"
     ]
    }
   ],
   "source": [
    "# an example script to run in MPI-only mode\n",
    "%cd julia_set\n",
    "!python benchmark_julia.py -h"
   ]
  },
  {
   "cell_type": "code",
   "execution_count": 49,
   "metadata": {
    "collapsed": false
   },
   "outputs": [
    {
     "name": "stdout",
     "output_type": "stream",
     "text": [
      "running build_ext\n",
      "(n/n_runs: time) ('Start', 'End', 'Dist', 'Resolution', 'c', 'Engines', 'Iters')\n",
      "(1/17: 0.548s) (1443997400.237683, 1443997400.785785, 'numpy', 1024, '(-0.045+0.45j)', 1, [32763832L])\n",
      "(2/17: 0.546s) (1443997400.803836, 1443997401.3497, 'b-n', 1024, '(-0.045+0.45j)', 1, [32763832L])\n",
      "(3/17: 0.544s) (1443997401.374217, 1443997401.917805, 'c-n', 1024, '(-0.045+0.45j)', 1, [32763832L])\n",
      "(4/17: 0.572s) (1443997401.942615, 1443997402.514608, 'b-b', 1024, '(-0.045+0.45j)', 1, [32763832L])\n",
      "(5/17: 0.556s) (1443997402.536106, 1443997403.092295, 'c-c', 1024, '(-0.045+0.45j)', 1, [32763832L])\n",
      "(6/17: 0.304s) (1443997403.125129, 1443997403.428932, 'b-n', 1024, '(-0.045+0.45j)', 2, [16345977L, 16417855L])\n",
      "(7/17: 0.300s) (1443997403.454983, 1443997403.754604, 'c-n', 1024, '(-0.045+0.45j)', 2, [16382826L, 16381006L])\n",
      "(8/17: 0.289s) (1443997403.766794, 1443997404.05549, 'b-b', 1024, '(-0.045+0.45j)', 2, [16354361L, 16409471L])\n",
      "(9/17: 0.279s) (1443997404.070021, 1443997404.349003, 'c-c', 1024, '(-0.045+0.45j)', 2, [16384932L, 16378900L])\n",
      "(10/17: 0.352s) (1443997404.371453, 1443997404.723861, 'b-n', 1024, '(-0.045+0.45j)', 3, [6243924L, 20326746L, 6193162L])\n",
      "(11/17: 0.181s) (1443997404.742758, 1443997404.924105, 'c-n', 1024, '(-0.045+0.45j)', 3, [10922548L, 10921645L, 10919639L])\n",
      "(12/17: 0.313s) (1443997404.969199, 1443997405.282438, 'b-b', 1024, '(-0.045+0.45j)', 3, [6779920L, 19264315L, 6719597L])\n",
      "(13/17: 0.182s) (1443997405.296457, 1443997405.4787, 'c-c', 1024, '(-0.045+0.45j)', 3, [10921355L, 10920452L, 10922025L])\n",
      "(14/17: 0.236s) (1443997405.555126, 1443997405.790802, 'b-n', 1024, '(-0.045+0.45j)', 4, [2725843L, 13620134L, 13659620L, 2758235L])\n",
      "(15/17: 0.145s) (1443997405.810818, 1443997405.955335, 'c-n', 1024, '(-0.045+0.45j)', 4, [8190582L, 8190503L, 8192244L, 8190503L])\n",
      "(16/17: 0.191s) (1443997405.975453, 1443997406.166614, 'b-b', 1024, '(-0.045+0.45j)', 4, [5859333L, 10486644L, 10495028L, 5922827L])\n",
      "(17/17: 0.162s) (1443997406.179624, 1443997406.341143, 'c-c', 1024, '(-0.045+0.45j)', 4, [8193330L, 8189496L, 8191602L, 8189404L])\n"
     ]
    }
   ],
   "source": [
    "# Compile kernel.pyx\n",
    "!python setup.py build_ext --inplace\n",
    "# Run the benchmarking script with 5 MPI processes:\n",
    "# 4 worker processes and 1 client process\n",
    "!mpiexec -np 5 python benchmark_julia.py --kernel=cython -r1 1024"
   ]
  },
  {
   "cell_type": "markdown",
   "metadata": {
    "slideshow": {
     "slide_type": "slide"
    }
   },
   "source": [
    "Distributed Array Protocol\n",
    "--------------------------\n",
    "\n",
    "Already have a library with its own distributed arrays?  Use the Distributed Array Protocol to work with DistArray.\n",
    "\n",
    "The Distributed Array Protocol (DAP) is a process-local protocol that allows two subscribers, called the \"producer\" and the \"consumer\" or the \"exporter\" and the \"importer\", to communicate the essential data and metadata necessary to share a distributed-memory array between them. This allows two independently developed components to access, modify, and update a distributed array without copying. The protocol formalizes the metadata and buffers involved in the transfer, allowing several distributed array projects to collaborate, facilitating interoperability. By not copying the underlying array data, the protocol allows for efficient sharing of array data.\n",
    "\n",
    "http://distributed-array-protocol.readthedocs.org/en/rel-0.9.0/"
   ]
  },
  {
   "cell_type": "code",
   "execution_count": 50,
   "metadata": {
    "collapsed": false,
    "slideshow": {
     "slide_type": "subslide"
    }
   },
   "outputs": [
    {
     "data": {
      "text/plain": [
       "[{'__version__': '0.10.0',\n",
       "  'buffer': array([[ 0.62,  0.59,  0.89,  0.89,  0.46]]),\n",
       "  'dim_data': ({'dist_type': 'b',\n",
       "    'proc_grid_rank': 0,\n",
       "    'proc_grid_size': 4,\n",
       "    'size': 4,\n",
       "    'start': 0,\n",
       "    'stop': 1},\n",
       "   {'dist_type': 'b',\n",
       "    'proc_grid_rank': 0,\n",
       "    'proc_grid_size': 1,\n",
       "    'size': 5,\n",
       "    'start': 0,\n",
       "    'stop': 5})},\n",
       " {'__version__': '0.10.0',\n",
       "  'buffer': array([[ 0.78,  0.27,  1.  ,  0.54,  0.54]]),\n",
       "  'dim_data': ({'dist_type': 'b',\n",
       "    'proc_grid_rank': 1,\n",
       "    'proc_grid_size': 4,\n",
       "    'size': 4,\n",
       "    'start': 1,\n",
       "    'stop': 2},\n",
       "   {'dist_type': 'b',\n",
       "    'proc_grid_rank': 0,\n",
       "    'proc_grid_size': 1,\n",
       "    'size': 5,\n",
       "    'start': 0,\n",
       "    'stop': 5})},\n",
       " {'__version__': '0.10.0',\n",
       "  'buffer': array([[ 0.4 ,  0.71,  0.41,  0.95,  0.03]]),\n",
       "  'dim_data': ({'dist_type': 'b',\n",
       "    'proc_grid_rank': 2,\n",
       "    'proc_grid_size': 4,\n",
       "    'size': 4,\n",
       "    'start': 2,\n",
       "    'stop': 3},\n",
       "   {'dist_type': 'b',\n",
       "    'proc_grid_rank': 0,\n",
       "    'proc_grid_size': 1,\n",
       "    'size': 5,\n",
       "    'start': 0,\n",
       "    'stop': 5})},\n",
       " {'__version__': '0.10.0',\n",
       "  'buffer': array([[ 0.14,  0.08,  0.42, -0.99,  0.75]]),\n",
       "  'dim_data': ({'dist_type': 'b',\n",
       "    'proc_grid_rank': 3,\n",
       "    'proc_grid_size': 4,\n",
       "    'size': 4,\n",
       "    'start': 3,\n",
       "    'stop': 4},\n",
       "   {'dist_type': 'b',\n",
       "    'proc_grid_rank': 0,\n",
       "    'proc_grid_size': 1,\n",
       "    'size': 5,\n",
       "    'start': 0,\n",
       "    'stop': 5})}]"
      ]
     },
     "execution_count": 50,
     "metadata": {},
     "output_type": "execute_result"
    }
   ],
   "source": [
    "def return_protocol_structure(la):\n",
    "    return la.__distarray__()\n",
    "\n",
    "context.apply(return_protocol_structure, (darr.key,))"
   ]
  },
  {
   "cell_type": "markdown",
   "metadata": {},
   "source": [
    "Acknowledgement and Disclaimer\n",
    "------------------------------\n",
    "\n",
    "This material is based upon work supported by the Department of Energy under Award Number DE-SC0007699.\n",
    "\n",
    "This report was prepared as an account of work sponsored by an agency of the United States Government. Neither the United States Government nor any agency thereof, nor any of their employees, makes any warranty, express or implied, or assumes any legal liability or responsibility for the accuracy, completeness, or usefulness of any information, apparatus, product, or process disclosed, or represents that its use would not infringe privately owned rights. Reference herein to any specific commercial product, process, or service by trade name, trademark, manufacturer, or otherwise does not necessarily constitute or imply its endorsement, recommendation, or favoring by the United States Government or any agency thereof. The views and opinions of authors expressed herein do not necessarily state or reflect those of the United States Government or any agency thereof. "
   ]
  }
 ],
 "metadata": {
  "kernelspec": {
   "display_name": "Python 2",
   "language": "python",
   "name": "python2"
  },
  "language_info": {
   "codemirror_mode": {
    "name": "ipython",
    "version": 2
   },
   "file_extension": ".py",
   "mimetype": "text/x-python",
   "name": "python",
   "nbconvert_exporter": "python",
   "pygments_lexer": "ipython2",
   "version": "2.7.10"
  }
 },
 "nbformat": 4,
 "nbformat_minor": 0
}
