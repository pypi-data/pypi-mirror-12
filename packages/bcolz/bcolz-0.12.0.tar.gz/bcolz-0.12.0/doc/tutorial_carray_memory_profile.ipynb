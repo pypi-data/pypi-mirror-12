{
 "cells": [
  {
   "cell_type": "markdown",
   "metadata": {},
   "source": [
    "# Carray memory profiling"
   ]
  },
  {
   "cell_type": "markdown",
   "metadata": {},
   "source": [
    "<a id='go to index'></a>\n",
    "Index:\n",
    "  1. <a href='#Profiling carray'>Profiling carray</a>\n",
    "  -  <a href='#Profiling carray iterators'>Profiling carray iterators</a>"
   ]
  },
  {
   "cell_type": "markdown",
   "metadata": {},
   "source": [
    "In this part of the tutorial we will make use of the [ipython_memwatcher](https://github.com/FrancescAlted/ipython_memwatcher) to analyze the memory usage of the carray objects compared to Numpy arrays.\n",
    "\n",
    "Please be aware that measuring memory consumption is a tricky thing, so if you are going to run this section of the notebook several times you might need to restart the IPython kernel.\n",
    "If you see weird results or get confused, quit IPython and start a fresh shell; then run the fewest commands you need to understand how RAM is being used during the process."
   ]
  },
  {
   "cell_type": "markdown",
   "metadata": {},
   "source": [
    "<a id='Profiling carray'></a>\n",
    "## Profiling carray\n",
    "<a href='#go to index'>Go to index</a>"
   ]
  },
  {
   "cell_type": "code",
   "execution_count": 1,
   "metadata": {
    "collapsed": false
   },
   "outputs": [],
   "source": [
    "from ipython_memwatcher import MemWatcher\n",
    "import numpy as np\n",
    "import bcolz\n",
    "import pandas as pd"
   ]
  },
  {
   "cell_type": "code",
   "execution_count": 2,
   "metadata": {
    "collapsed": false
   },
   "outputs": [
    {
     "name": "stdout",
     "output_type": "stream",
     "text": [
      "In [2] used 0.082 MiB RAM in 0.001s, peaked 0.000 MiB above current, total RAM usage 72.152 MiB\n"
     ]
    }
   ],
   "source": [
    "N = 1e8\n",
    "arange_results = {}\n",
    "mw = MemWatcher()\n",
    "mw.start_watching_memory()"
   ]
  },
  {
   "cell_type": "markdown",
   "metadata": {},
   "source": [
    "Let's create a couple of big objects:"
   ]
  },
  {
   "cell_type": "code",
   "execution_count": 3,
   "metadata": {
    "collapsed": false
   },
   "outputs": [
    {
     "name": "stdout",
     "output_type": "stream",
     "text": [
      "In [3] used 762.969 MiB RAM in 0.851s, peaked 0.000 MiB above current, total RAM usage 835.121 MiB\n"
     ]
    }
   ],
   "source": [
    "a = np.arange(N)"
   ]
  },
  {
   "cell_type": "code",
   "execution_count": 4,
   "metadata": {
    "collapsed": false
   },
   "outputs": [
    {
     "name": "stdout",
     "output_type": "stream",
     "text": [
      "In [4] used 0.004 MiB RAM in 0.001s, peaked 0.000 MiB above current, total RAM usage 835.125 MiB\n"
     ]
    }
   ],
   "source": [
    "# Get some measurements from the last executed cell:\n",
    "arange_results['numpy'] = mw.measurements.memory_delta"
   ]
  },
  {
   "cell_type": "code",
   "execution_count": 5,
   "metadata": {
    "collapsed": false
   },
   "outputs": [
    {
     "name": "stdout",
     "output_type": "stream",
     "text": [
      "In [5] used 26.266 MiB RAM in 0.773s, peaked 0.000 MiB above current, total RAM usage 861.391 MiB\n"
     ]
    }
   ],
   "source": [
    "b = bcolz.arange(N)"
   ]
  },
  {
   "cell_type": "code",
   "execution_count": 6,
   "metadata": {
    "collapsed": false
   },
   "outputs": [
    {
     "name": "stdout",
     "output_type": "stream",
     "text": [
      "In [6] used 0.016 MiB RAM in 0.001s, peaked 0.000 MiB above current, total RAM usage 861.406 MiB\n"
     ]
    }
   ],
   "source": [
    "# Get some measurements from the last executed cell:\n",
    "arange_results['carray in-memory'] = mw.measurements.memory_delta"
   ]
  },
  {
   "cell_type": "code",
   "execution_count": 7,
   "metadata": {
    "collapsed": false
   },
   "outputs": [
    {
     "name": "stdout",
     "output_type": "stream",
     "text": [
      "In [7] used 0.203 MiB RAM in 0.988s, peaked 0.828 MiB above current, total RAM usage 861.609 MiB\n"
     ]
    }
   ],
   "source": [
    "b_disk = bcolz.arange(N, rootdir='mydir', mode='w')"
   ]
  },
  {
   "cell_type": "code",
   "execution_count": 8,
   "metadata": {
    "collapsed": false
   },
   "outputs": [
    {
     "name": "stdout",
     "output_type": "stream",
     "text": [
      "In [8] used 0.000 MiB RAM in 0.001s, peaked 0.000 MiB above current, total RAM usage 861.609 MiB\n"
     ]
    }
   ],
   "source": [
    "# Get some measurements from the last executed cell:\n",
    "arange_results['carray on-disk'] = mw.measurements.memory_delta"
   ]
  },
  {
   "cell_type": "code",
   "execution_count": 10,
   "metadata": {
    "collapsed": false
   },
   "outputs": [
    {
     "name": "stdout",
     "output_type": "stream",
     "text": [
      "{'numpy': 762.96875, 'carray in-memory': 26.265625, 'carray on-disk': 0.203125}\n"
     ]
    },
    {
     "data": {
      "text/plain": [
       "<matplotlib.axes._subplots.AxesSubplot at 0x7f95101d7050>"
      ]
     },
     "execution_count": 10,
     "metadata": {},
     "output_type": "execute_result"
    },
    {
     "data": {
      "image/png": "[encoded data removed]",
      "text/plain": [
       "<matplotlib.figure.Figure at 0x7f9510179810>"
      ]
     },
     "metadata": {},
     "output_type": "display_data"
    }
   ],
   "source": [
    "%matplotlib inline\n",
    "mw.stop_watching_memory()\n",
    "\n",
    "d = arange_results\n",
    "print d\n",
    "\n",
    "arange_results_df = pd.DataFrame({'MiB': arange_results.values()}, index=arange_results.keys())\n",
    "pd.options.display.mpl_style = 'default'\n",
    "arange_results_df.plot(kind='barh', figsize=(9,3), fontsize=16, title=\"arange RAM memory consumption\")"
   ]
  },
  {
   "cell_type": "markdown",
   "metadata": {},
   "source": [
    "In this example, the numpy array consumes aproximately what we would expect ~760 MB  (N items x 8bytes x 2^-20 factor MB). Due to the nature of our data set, default compression does already a pretty neat job, and the ammount of memory required by this object is much smaller, around 26 MB.\n",
    "\n",
    "But a carray on-disk consumes only 0.2 MB, in this case our data resides on-disk using RAM only to keep references to that object, therefore as you see you can store huge amounts of information while treating them as if they were in-memory, carray on-disk and in-memory support exactly the same set of operations.\n",
    "\n",
    "Compression ratios will highly depend on your data set, in case your data set would be highly random and you could not get good compression ratios, you could always use carray on disk to use as much less RAM as possible."
   ]
  },
  {
   "cell_type": "markdown",
   "metadata": {},
   "source": [
    "<a id='Profiling carray iterators'></a>\n",
    "## Profiling carray iterators\n",
    "<a href='#go to index'>Go to index</a>"
   ]
  },
  {
   "cell_type": "markdown",
   "metadata": {},
   "source": [
    "Let's have a look now at some operations we already saw in this tutorial and check how much memory they actually consume:"
   ]
  },
  {
   "cell_type": "code",
   "execution_count": 11,
   "metadata": {
    "collapsed": false
   },
   "outputs": [
    {
     "name": "stdout",
     "output_type": "stream",
     "text": [
      "In [11] used 20.453 MiB RAM in 101.016s, peaked 0.000 MiB above current, total RAM usage 882.062 MiB\n"
     ]
    }
   ],
   "source": [
    "sumif_results = {}\n",
    "mw.start_watching_memory()"
   ]
  },
  {
   "cell_type": "code",
   "execution_count": 12,
   "metadata": {
    "collapsed": false
   },
   "outputs": [
    {
     "name": "stdout",
     "output_type": "stream",
     "text": [
      "In [12] used 0.000 MiB RAM in 26.821s, peaked 0.000 MiB above current, total RAM usage 882.062 MiB\n"
     ]
    }
   ],
   "source": [
    "r = sum(v for v in a if v < 10)"
   ]
  },
  {
   "cell_type": "code",
   "execution_count": 13,
   "metadata": {
    "collapsed": false
   },
   "outputs": [
    {
     "name": "stdout",
     "output_type": "stream",
     "text": [
      "In [13] used 0.004 MiB RAM in 0.002s, peaked 0.000 MiB above current, total RAM usage 882.066 MiB\n"
     ]
    }
   ],
   "source": [
    "# Get some measurements from the last executed cell:\n",
    "sumif_results['numpy'] = mw.measurements.memory_delta"
   ]
  },
  {
   "cell_type": "code",
   "execution_count": 14,
   "metadata": {
    "collapsed": false
   },
   "outputs": [
    {
     "name": "stdout",
     "output_type": "stream",
     "text": [
      "In [14] used -0.520 MiB RAM in 8.643s, peaked 4.059 MiB above current, total RAM usage 881.547 MiB\n"
     ]
    }
   ],
   "source": [
    "r =  sum(v for v in b if v < 10)"
   ]
  },
  {
   "cell_type": "code",
   "execution_count": 15,
   "metadata": {
    "collapsed": false
   },
   "outputs": [
    {
     "name": "stdout",
     "output_type": "stream",
     "text": [
      "In [15] used 0.000 MiB RAM in 0.001s, peaked 0.000 MiB above current, total RAM usage 881.547 MiB\n"
     ]
    }
   ],
   "source": [
    "# Get some measurements from the last executed cell:\n",
    "sumif_results['carray in-memory'] = mw.measurements.memory_delta"
   ]
  },
  {
   "cell_type": "code",
   "execution_count": 16,
   "metadata": {
    "collapsed": false
   },
   "outputs": [
    {
     "name": "stdout",
     "output_type": "stream",
     "text": [
      "In [16] used 0.277 MiB RAM in 8.685s, peaked 4.051 MiB above current, total RAM usage 881.824 MiB\n"
     ]
    }
   ],
   "source": [
    "r =  sum(v for v in b_disk if v < 10)"
   ]
  },
  {
   "cell_type": "code",
   "execution_count": 17,
   "metadata": {
    "collapsed": false
   },
   "outputs": [
    {
     "name": "stdout",
     "output_type": "stream",
     "text": [
      "In [17] used 0.000 MiB RAM in 0.002s, peaked 0.000 MiB above current, total RAM usage 881.824 MiB\n"
     ]
    }
   ],
   "source": [
    "# Get some measurements from the last executed cell:\n",
    "sumif_results['carray on-disk'] = mw.measurements.memory_delta"
   ]
  },
  {
   "cell_type": "code",
   "execution_count": 18,
   "metadata": {
    "collapsed": false
   },
   "outputs": [
    {
     "name": "stdout",
     "output_type": "stream",
     "text": [
      "{'numpy': 0.0, 'carray in-memory': -0.51953125, 'carray on-disk': 0.27734375}\n"
     ]
    },
    {
     "data": {
      "text/plain": [
       "<matplotlib.axes._subplots.AxesSubplot at 0x7f9510106210>"
      ]
     },
     "execution_count": 18,
     "metadata": {},
     "output_type": "execute_result"
    },
    {
     "data": {
      "image/png": "[encoded data removed]",
      "text/plain": [
       "<matplotlib.figure.Figure at 0x7f9546f9e2d0>"
      ]
     },
     "metadata": {},
     "output_type": "display_data"
    }
   ],
   "source": [
    "%matplotlib inline\n",
    "mw.stop_watching_memory()\n",
    "d = sumif_results\n",
    "print d\n",
    "\n",
    "sumif_df = pd.DataFrame({'MiB': d.values()}, index=d.keys())\n",
    "pd.options.display.mpl_style = 'default'\n",
    "sumif_df.plot(kind='barh', figsize=(9,3), fontsize=16, title=\"sum-if RAM memory consumption\")"
   ]
  },
  {
   "cell_type": "markdown",
   "metadata": {},
   "source": [
    "When you iterate `carray` objects, the iterator in this run actually *releases* memory for the in-memory case, whereas the on-disk one does require less than 300 KB, but YMMV.\n",
    "Again, measuring memory consumption is a tricky thing, so the take\n",
    "away message is that you should not be afraid of using iterators because they are 1) memory efficient and 2) they are *fast*."
   ]
  },
  {
   "cell_type": "code",
   "execution_count": null,
   "metadata": {
    "collapsed": true
   },
   "outputs": [],
   "source": []
  }
 ],
 "metadata": {
  "kernelspec": {
   "display_name": "Python 2",
   "language": "python",
   "name": "python2"
  },
  "language_info": {
   "codemirror_mode": {
    "name": "ipython",
    "version": 2
   },
   "file_extension": ".py",
   "mimetype": "text/x-python",
   "name": "python",
   "nbconvert_exporter": "python",
   "pygments_lexer": "ipython2",
   "version": "2.7.10"
  }
 },
 "nbformat": 4,
 "nbformat_minor": 0
}
