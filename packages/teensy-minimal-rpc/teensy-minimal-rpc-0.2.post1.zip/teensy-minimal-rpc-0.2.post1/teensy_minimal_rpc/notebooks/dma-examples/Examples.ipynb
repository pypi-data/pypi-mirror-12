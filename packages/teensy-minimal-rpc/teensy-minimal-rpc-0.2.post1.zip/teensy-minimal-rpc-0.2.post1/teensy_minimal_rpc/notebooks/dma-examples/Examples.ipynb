{
 "cells": [
  {
   "cell_type": "markdown",
   "metadata": {},
   "source": [
    "From page 438 in annotated [K20P64M72SF1RM][1] manual (MK20DX128 processor used on [Teensy 3.1/3.2][2]).\n",
    "\n",
    "\n",
    "> ## 21.5.1 eDMA initialization\n",
    "\n",
    "> To initialize the eDMA:\n",
    ">  1. Write to the `CR` if a configuration other than the default is desired.\n",
    "       - e.g., set arbitration scheme to *round-robin* or *fixed-priority*.\n",
    ">  2. Write the channel priority levels to the `DCHPRIn` registers if a configuration other\n",
    ">     than the default is desired.\n",
    ">  3. Enable error interrupts in the `EEI` register if so desired.\n",
    ">  4. Write the 32-byte TCD for each channel that may request service.\n",
    ">  5. Enable any hardware service requests via the ERQ register.\n",
    ">  6. Request channel service via either:\n",
    ">      - Software: setting the `TCDn_CSR[START]`\n",
    ">      - Hardware: slave device asserting its eDMA peripheral request signal\n",
    ">\n",
    "> After any channel requests service, a channel is selected for execution based on the\n",
    "> arbitration and priority levels written into the programmer's model. The eDMA engine\n",
    "> reads the entire TCD, including the TCD control and status fields, as shown in the\n",
    "> following table, for the selected channel into its internal address path module.\n",
    "> As the TCD is read, the first transfer is initiated on the internal bus, unless a\n",
    "> configuration error is detected. Transfers from the source, as defined by `TCDn_SADDR`,\n",
    "> to the destination, as defined by `TCDn_DADDR`, continue until the number of bytes\n",
    "> specified by `TCDn_NBYTES` are transferred.\n",
    "\n",
    "> When the transfer is complete:\n",
    ">  - The eDMA engine's local `TCDn_SADDR`, `TCDn_DADDR`, and `TCDn_CITER` are written back to the main TCD memory \n",
    ">  - Any minor loop channel linking is performed, if enabled\n",
    ">\n",
    "> If the major loop is exhausted, further post processing executes, such as interrupts,\n",
    "> major loop channel linking, and scatter/gather operations, if enabled.\n",
    "\n",
    "[1]: https://xodo.com/app/d/?/=9efbee54-ee85-4772-8e5c-859fcb213d74\n",
    "[2]: https://www.pjrc.com/teensy/"
   ]
  },
  {
   "cell_type": "markdown",
   "metadata": {},
   "source": [
    "# Enable Request Register (`DMA_ERQ`)\n",
    "\n",
    " - 16-bit register, one bit per DMA channel.\n",
    " - Each bit controls whether or not the hardware request signal is enabled for the corresponding channel.\n",
    " - `SERQ` (Set Enable ReEquest) and `CERQ` (Clear Enable ReEquest) registers provide memory mapped convenience\n",
    "   interfaces for setting a bit for a channel without having to read-modify-write the entire `DMA_ERQ`.\n",
    "     - 8-bit `SERQ` and 8-bit `CERQ` register for each DMA channel.\n",
    "     - Can write up to 4 8-bit registers at once, with `NOP` bit to \"skip\" a spanned register where necessary."
   ]
  },
  {
   "cell_type": "markdown",
   "metadata": {},
   "source": [
    "--------------------------------------------------"
   ]
  },
  {
   "cell_type": "markdown",
   "metadata": {},
   "source": [
    "# Single transfer of 16 bytes #\n",
    "\n",
    "16 bytes from source with byte wide port to destination with 32-bit port (i.e., 4 bytes).\n",
    "\n",
    "See page 441 in annotated [K20P64M72SF1RM][1] manual (MK20DX128 processor used on [Teensy 3.1/3.2][2]).\n",
    "\n",
    "[1]: https://xodo.com/app/d/?/=9efbee54-ee85-4772-8e5c-859fcb213d74\n",
    "[2]: https://www.pjrc.com/teensy/"
   ]
  },
  {
   "cell_type": "markdown",
   "metadata": {},
   "source": [
    "--------------------------------------------------"
   ]
  },
  {
   "cell_type": "markdown",
   "metadata": {},
   "source": [
    "# ADC_SC1A: ADC Status and Control Registers 1\n",
    "\n",
    "Page 653.\n",
    "\n",
    " - `COCO`: Conversion complete flag\n",
    " - `AIEN`: Interrupt enable\n",
    " - `DIFF`: Differential mode enable\n",
    " - `ADCH`: 4 bits, Input channel select"
   ]
  },
  {
   "cell_type": "markdown",
   "metadata": {},
   "source": [
    "# ADC_CFG1: ADC Configuration Register 1\n",
    "\n",
    "Page 656\n",
    "\n",
    " - `ADLPC`: Low-power configuration\n",
    " - `ADIV`: 2 bits, Clock divide select\n",
    "     * 0: /1, 1: /2, 2: /4, 3: /8\n",
    " - `ADLSMP`: Sample time configuration\n",
    "     * 0: Short sample time, 1: Long sample time\n",
    " - `MODE`: 2 bits, Conversion mode selection\n",
    "     * 0: 8-bit, 1: 12-bit, 2: 10-bit, 3: 16-bit\n",
    " - `ADICLK`: 2 bits, Input clock select\n",
    "     * 0: Bus clock, 1: Bus clock/2, 2: Alternate clock (ALTCLK), 2: Asynchronous clock (ADACK)"
   ]
  },
  {
   "cell_type": "markdown",
   "metadata": {},
   "source": [
    "# ADC_CFG2: ADC Configuration Register 2\n",
    "\n",
    "Page 658.\n",
    "\n",
    " - `MUXSEL`: ADC mux select\n",
    "     * 0: ADxxa channels selected, 1: ADxxb channels selected\n",
    " - `ADACKEN`: Asynchronous clock output enable\n",
    " - `ADHSC`: High-speed configuration\n",
    " - `ADLSTS`: Long sample time select"
   ]
  },
  {
   "cell_type": "markdown",
   "metadata": {},
   "source": [
    "# ADC_SC2: Status and Control Register 2\n",
    "\n",
    "Page 661.\n",
    "\n",
    " - `ADACT`: Conversion active\n",
    " - `ADTRG`: Conversion trigger select\n",
    "     * 0: Software trigger, 1: Hardware trigger\n",
    " - `ACFE`: Compare Function Enable\n",
    " - `ACFGT`: Compare function greater than enable\n",
    " - `ACREN`: Compare function range enable\n",
    " - `DMAEN`: DMA enable\n",
    "     * 1: 1 DMA is enabled and will assert the ADC DMA request during an ADC conversion complete\n",
    "      event noted when any of the `SC1n[COCO]` flags is asserted.\n",
    " - `REFSEL`: 2 bits, Voltage reference selection\n",
    "     * 0: Default, 1: Alternate, 2-3: Reserved"
   ]
  },
  {
   "cell_type": "markdown",
   "metadata": {},
   "source": [
    "# ADC_SC3: Status and Control Register 3\n",
    "\n",
    "Page 663.\n",
    "\n",
    " - `CAL`: Calibration\n",
    " - `CALF`: Calibration failed flag\n",
    " - `ADCO`: Continuous conversion enable\n",
    " - `AVGE`: Hardware average enable\n",
    " - `AVGS`: Hardware average select\n",
    "     * Samples averaged - 0: 4, 1: 8, 0: 16, 0: 32"
   ]
  },
  {
   "cell_type": "markdown",
   "metadata": {},
   "source": [
    "# ADC_PGA: ADC PGA Register\n",
    "\n",
    "Page 670.\n",
    "\n",
    " - `PGAEN`: PGA enable\n",
    " - `PGALPb`: PGA low-power mode control\n",
    " - `PGAG`: 19-16, PGA Gain setting, $PGA~gain = 2^{PGAG}$\n",
    "     * 0: 1, 1: 2, 2: 4, 3: 8, 4: 16, 5: 32, 6: 64"
   ]
  }
 ],
 "metadata": {
  "kernelspec": {
   "display_name": "Python 2",
   "language": "python",
   "name": "python2"
  },
  "language_info": {
   "codemirror_mode": {
    "name": "ipython",
    "version": 2
   },
   "file_extension": ".py",
   "mimetype": "text/x-python",
   "name": "python",
   "nbconvert_exporter": "python",
   "pygments_lexer": "ipython2",
   "version": "2.7.9"
  }
 },
 "nbformat": 4,
 "nbformat_minor": 0
}
