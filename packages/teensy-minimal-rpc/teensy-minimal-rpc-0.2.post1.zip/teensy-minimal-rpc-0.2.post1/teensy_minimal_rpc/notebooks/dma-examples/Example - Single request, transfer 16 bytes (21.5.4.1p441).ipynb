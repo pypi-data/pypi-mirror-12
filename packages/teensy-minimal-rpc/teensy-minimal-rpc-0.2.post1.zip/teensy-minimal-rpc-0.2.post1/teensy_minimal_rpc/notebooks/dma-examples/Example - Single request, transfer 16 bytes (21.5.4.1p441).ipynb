{
 "cells": [
  {
   "cell_type": "code",
   "execution_count": 1,
   "metadata": {
    "collapsed": true
   },
   "outputs": [],
   "source": [
    "import numpy as np\n",
    "from teensy_minimal_rpc import SerialProxy\n",
    "import teensy_minimal_rpc.DMA as dma\n",
    "import teensy_minimal_rpc.SIM as sim\n",
    "\n",
    "\n",
    "def init_dma(proxy):\n",
    "    # Enable DMA-related clocks in clock-gating configuration registers.\n",
    "    proxy.update_sim_SCGC6(sim.R_SCGC6(DMAMUX=True)) # SIM_SCGC6 |= SIM_SCGC6_DMAMUX;\n",
    "    proxy.update_sim_SCGC7(sim.R_SCGC7(DMA=True)) # SIM_SCGC7 |= SIM_SCGC7_DMA;\n",
    "    \n",
    "    # Reset all DMA transfer control descriptor registers (i.e., set to 0).\n",
    "    for i in xrange(proxy.dma_channel_count()):\n",
    "        proxy.reset_dma_TCD(i)"
   ]
  },
  {
   "cell_type": "markdown",
   "metadata": {},
   "source": [
    "Example from Section 21.5.4.1 (page 441) in [K20P64M72SF1RM][1] manual\n",
    "(MK20DX128 processor used on [Teensy 3.1/3.2][2]).\n",
    "\n",
    "From the manual:\n",
    "\n",
    "> ...the following TCD entry is configured to transfer 16 bytes of\n",
    "> data. The eDMA is programmed for one iteration of the major loop transferring\n",
    "> 16 bytes per iteration. The source memory has a byte wide memory port located\n",
    "> at `0x1000`. The destination memory has a 32-bit port located at `0x2000`. The\n",
    "> address offsets are programmed in increments to match the transfer size: one\n",
    "> byte for the source and four bytes for the destination. The final source and\n",
    "> destination addresses are adjusted to return to their beginning values.\n",
    ">\n",
    ">     TCDn_CITER = TCDn_BITER = 1\n",
    ">     TCDn_NBYTES = 16\n",
    ">     TCDn_SADDR = 0x1000\n",
    ">     TCDn_SOFF = 1\n",
    ">     TCDn_ATTR[SSIZE] = 0\n",
    ">     TCDn_SLAST = -16\n",
    ">     TCDn_DADDR = 0x2000\n",
    ">     TCDn_DOFF = 4\n",
    ">     TCDn_ATTR[DSIZE] = 2\n",
    ">     TCDn_DLAST_SGA= –16\n",
    ">     TCDn_CSR[INT_MAJ] = 1\n",
    ">     TCDn_CSR[START] = 1 (Should be written last after all other fields have been initialized)\n",
    ">     All other TCDn fields = 0\n",
    ">\n",
    "> This generates the following event sequence:\n",
    ">  1. User write to the `TCDn_CSR[START]` bit requests channel service.\n",
    ">  2. The channel is selected by arbitration for servicing.\n",
    ">  3. eDMA engine writes: `TCDn_CSR[DONE] = 0`, `TCDn_CSR[START] = 0`,\n",
    ">     `TCDn_CSR[ACTIVE] = 1`.\n",
    "\n",
    "[1]: https://xodo.com/app/d/?/=9efbee54-ee85-4772-8e5c-859fcb213d74\n",
    "[2]: https://www.pjrc.com/teensy/"
   ]
  },
  {
   "cell_type": "markdown",
   "metadata": {},
   "source": [
    "### Connect to device"
   ]
  },
  {
   "cell_type": "code",
   "execution_count": 2,
   "metadata": {
    "collapsed": false
   },
   "outputs": [],
   "source": [
    "# Disconnect from existing proxy (if available)\n",
    "try:\n",
    "    del proxy\n",
    "except NameError:\n",
    "    pass\n",
    "\n",
    "proxy = SerialProxy()\n",
    "\n",
    "# Initialize DMA.\n",
    "init_dma(proxy)"
   ]
  },
  {
   "cell_type": "markdown",
   "metadata": {},
   "source": [
    "### Allocate two arrays: source and destination"
   ]
  },
  {
   "cell_type": "code",
   "execution_count": 3,
   "metadata": {
    "collapsed": true
   },
   "outputs": [],
   "source": [
    "N = 512\n",
    "proxy.free_all()\n",
    "\n",
    "# Allocate source array\n",
    "src_addr = proxy.mem_alloc(N)\n",
    "# Allocate destination array\n",
    "dst_addr = proxy.mem_alloc(N)\n",
    "\n",
    "# Fill first 16 bytes of source array with the numbers 1-16\n",
    "proxy.mem_cpy_host_to_device(src_addr, np.arange(1, 17, dtype='uint8'))\n",
    "\n",
    "# Fill the destination array with all zeros\n",
    "proxy.mem_fill_uint32(dst_addr, 0, N / 4)"
   ]
  },
  {
   "cell_type": "markdown",
   "metadata": {},
   "source": [
    "### Create Transfer Control Descriptor (TCD) configuration"
   ]
  },
  {
   "cell_type": "code",
   "execution_count": 4,
   "metadata": {
    "collapsed": true
   },
   "outputs": [],
   "source": [
    "# Create Transfer Control Descriptor configuration to match the settings\n",
    "# shown in the example from the manual.\n",
    "XFER_REQUEST = dma.TCD(\n",
    "    # TCDn_CITER = TCDn_BITER = 1\n",
    "    CITER_ELINKNO=dma.R_TCD_ITER_ELINKNO(ITER=1),\n",
    "    BITER_ELINKNO=dma.R_TCD_ITER_ELINKNO(ITER=1),\n",
    "    # TCDn_NBYTES = 16\n",
    "    NBYTES_MLNO=16,\n",
    "    # TCDn_SADDR = 0x1000\n",
    "    SADDR=int(src_addr),\n",
    "    # TCDn_SOFF = 1\n",
    "    SOFF=1,\n",
    "    # TCDn_ATTR[SSIZE] = 0\n",
    "    # See `TCDn_ATTR[DSIZE]` below.\n",
    "    # TCDn_SLAST = -16\n",
    "    SLAST=-16,\n",
    "    # TCDn_DADDR = 0x2000\n",
    "    DADDR=int(dst_addr),\n",
    "    # TCDn_DOFF = 4\n",
    "    DOFF=4,\n",
    "    # TCDn_ATTR[DSIZE] = 2\n",
    "    ATTR=dma.R_TCD_ATTR(SSIZE=dma.R_TCD_ATTR._8_BIT,\n",
    "                        DSIZE=dma.R_TCD_ATTR._32_BIT),\n",
    "    # TCDn_DLAST_SGA= –16\n",
    "    DLASTSGA=-16,\n",
    "    # TCDn_CSR[INT_MAJ] = 1\n",
    "    # We won't use interrupts here...\n",
    "    # TCDn_CSR[START] = 1 (Should be written last after all other fields have been initialized)\n",
    "    CSR=dma.R_TCD_CSR(START=1)\n",
    "    # All other TCDn fields = 0\n",
    ")"
   ]
  },
  {
   "cell_type": "markdown",
   "metadata": {},
   "source": [
    "### Apply Transfer Control Descriptor configuration to start transfer"
   ]
  },
  {
   "cell_type": "code",
   "execution_count": 5,
   "metadata": {
    "collapsed": false
   },
   "outputs": [
    {
     "name": "stdout",
     "output_type": "stream",
     "text": [
      "SOURCE:   [ 1  2  3  4  5  6  7  8  9 10 11 12 13 14 15 16]\n",
      "TARGET:\n",
      "  Before: [0 0 0 0 0 0 0 0 0 0 0 0 0 0 0 0]\n",
      "   After: [ 1  2  3  4  5  6  7  8  9 10 11 12 13 14 15 16]\n"
     ]
    }
   ],
   "source": [
    "print 'SOURCE:  ', proxy.mem_cpy_device_to_host(src_addr, 16)\n",
    "\n",
    "# Fill the destination array with all zeros\n",
    "proxy.mem_fill_uint32(dst_addr, 0, N / 4)\n",
    "print 'TARGET:'\n",
    "print '  Before:', proxy.mem_cpy_device_to_host(dst_addr, 16)\n",
    "\n",
    "# Apply TCD configuration to DMA channel 0 to conduct transfer.\n",
    "proxy.update_dma_TCD(0, XFER_REQUEST)\n",
    "\n",
    "print '   After:', proxy.mem_cpy_device_to_host(dst_addr, 16)"
   ]
  },
  {
   "cell_type": "markdown",
   "metadata": {},
   "source": [
    "### Confirm transfer completed successfully (i.e., check `DMA_TCD0.CSR[DONE]`)"
   ]
  },
  {
   "cell_type": "code",
   "execution_count": 6,
   "metadata": {
    "collapsed": false
   },
   "outputs": [],
   "source": [
    "# Read serialized TCD protocol buffer message for DMA channel 0 from device.\n",
    "serialized_tcd0 = proxy.read_dma_TCD(0)\n",
    "# Deserialize message into Python Protocol Buffer message.\n",
    "tcd0 = dma.TCD.FromString(serialized_tcd0.tostring())\n",
    "\n",
    "# Verify DMA operation is complete\n",
    "# See TCD Control and Status section for more info (21.3.29/424 in manual).\n",
    "assert(tcd0.CSR.DONE)"
   ]
  }
 ],
 "metadata": {
  "kernelspec": {
   "display_name": "Python 2",
   "language": "python",
   "name": "python2"
  },
  "language_info": {
   "codemirror_mode": {
    "name": "ipython",
    "version": 2
   },
   "file_extension": ".py",
   "mimetype": "text/x-python",
   "name": "python",
   "nbconvert_exporter": "python",
   "pygments_lexer": "ipython2",
   "version": "2.7.9"
  }
 },
 "nbformat": 4,
 "nbformat_minor": 0
}
