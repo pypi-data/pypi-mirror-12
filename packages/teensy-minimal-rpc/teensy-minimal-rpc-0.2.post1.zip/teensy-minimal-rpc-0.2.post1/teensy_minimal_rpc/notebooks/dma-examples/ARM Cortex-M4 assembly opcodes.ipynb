{
 "cells": [
  {
   "cell_type": "code",
   "execution_count": 2,
   "metadata": {
    "collapsed": true
   },
   "outputs": [],
   "source": [
    "import numpy as np\n",
    "import pandas as pd"
   ]
  },
  {
   "cell_type": "code",
   "execution_count": 24,
   "metadata": {
    "collapsed": false
   },
   "outputs": [],
   "source": [
    "!del ..\\..\\Arduino\\teensy_minimal_rpc\\Node.cpp.S"
   ]
  },
  {
   "cell_type": "markdown",
   "metadata": {},
   "source": [
    "See [here][1] for details on ARM instruction set.\n",
    "\n",
    "[1]: ARMv7-M_ARM.pdf"
   ]
  },
  {
   "cell_type": "markdown",
   "metadata": {},
   "source": [
    "C code:\n",
    "\n",
    "    static bool finished = false;\n",
    "    \n",
    "    \n",
    "    void minimal_isr() {\n",
    "        finished = true;\n",
    "    }"
   ]
  },
  {
   "cell_type": "markdown",
   "metadata": {},
   "source": [
    "Assembly listing:\n",
    "\n",
    "     1              \t\t.syntax unified\n",
    "     2              \t\t.cpu cortex-m4\n",
    "     3              \t\t.fpu softvfp\n",
    "     4              \t\t.eabi_attribute 20, 1\n",
    "     5              \t\t.eabi_attribute 21, 1\n",
    "     6              \t\t.eabi_attribute 23, 3\n",
    "     7              \t\t.eabi_attribute 24, 1\n",
    "     8              \t\t.eabi_attribute 25, 1\n",
    "     9              \t\t.eabi_attribute 26, 1\n",
    "    10              \t\t.eabi_attribute 30, 6\n",
    "    11              \t\t.eabi_attribute 34, 1\n",
    "    12              \t\t.eabi_attribute 18, 4\n",
    "    13              \t\t.thumb\n",
    "    14              \t\t.file\t\"minimal_isr.cpp\"\n",
    "    15              \t\t.text\n",
    "    16              \t.Ltext0:\n",
    "    17              \t\t.cfi_sections\t.debug_frame\n",
    "    18              \t\t.section\t.bss._ZL8finished,\"aw\",%nobits\n",
    "    21              \t_ZL8finished:\n",
    "    22 0000 00       \t\t.space\t1\n",
    "    23              \t\t.section\t.text._Z11minimal_isrv,\"ax\",%progbits\n",
    "    24              \t\t.align\t2\n",
    "    25              \t\t.global\t_Z11minimal_isrv\n",
    "    26              \t\t.thumb\n",
    "    27              \t\t.thumb_func\n",
    "    29              \t_Z11minimal_isrv:\n",
    "    30              \t.LFB0:\n",
    "    31              \t\t.file 1 \".\\\\minimal_isr.cpp\"\n",
    "     1:.\\minimal_isr.cpp **** static bool finished = false;\n",
    "     2:.\\minimal_isr.cpp **** \n",
    "     3:.\\minimal_isr.cpp **** \n",
    "     4:.\\minimal_isr.cpp **** void minimal_isr() {\n",
    "    32              \t\t.loc 1 4 0\n",
    "    33              \t\t.cfi_startproc\n",
    "    34              \t\t@ args = 0, pretend = 0, frame = 0\n",
    "    35              \t\t@ frame_needed = 1, uses_anonymous_args = 0\n",
    "    36              \t\t@ link register save eliminated.\n",
    "    37 0000 80B4     \t\tpush\t{r7}\n",
    "    38              \t\t.cfi_def_cfa_offset 4\n",
    "    39              \t\t.cfi_offset 7, -4\n",
    "    40 0002 00AF     \t\tadd\tr7, sp, #0\n",
    "    41              \t\t.cfi_def_cfa_register 7\n",
    "     5:.\\minimal_isr.cpp ****     finished = true;\n",
    "    42              \t\t.loc 1 5 0\n",
    "    43 0004 034B     \t\tldr\tr3, .L2\n",
    "   "
   ]
  },
  {
   "cell_type": "code",
   "execution_count": 18,
   "metadata": {
    "collapsed": false
   },
   "outputs": [
    {
     "data": {
      "text/html": [
       "<div>\n",
       "<table border=\"1\" class=\"dataframe\">\n",
       "  <thead>\n",
       "    <tr style=\"text-align: right;\">\n",
       "      <th></th>\n",
       "      <th>opcode</th>\n",
       "      <th>Rn</th>\n",
       "      <th>imm8</th>\n",
       "    </tr>\n",
       "  </thead>\n",
       "  <tbody>\n",
       "    <tr>\n",
       "      <th>0x034b</th>\n",
       "      <td>9</td>\n",
       "      <td>3</td>\n",
       "      <td>3</td>\n",
       "    </tr>\n",
       "  </tbody>\n",
       "</table>\n",
       "</div>"
      ],
      "text/plain": [
       "        opcode  Rn  imm8\n",
       "0x034b       9   3     3"
      ]
     },
     "execution_count": 18,
     "metadata": {},
     "output_type": "execute_result"
    }
   ],
   "source": [
    "# 89 0004 034B     \t\tldr\tr3, .L2\t@ tmp110,\n",
    "instr = 0x034B\n",
    "instr_swp = np.uint16(instr).byteswap()\n",
    "pd.DataFrame([(instr_swp >> 11) & 0x1F,\n",
    "              (instr_swp >> 8) & 0x7,\n",
    "              (instr_swp >> 0) & 0xFF],\n",
    "             index=['opcode', 'Rn', 'imm8'],\n",
    "             columns=['0x%04x' % instr]).T"
   ]
  },
  {
   "cell_type": "markdown",
   "metadata": {},
   "source": [
    "    44 0006 0122     \t\tmovs\tr2, #1"
   ]
  },
  {
   "cell_type": "code",
   "execution_count": 19,
   "metadata": {
    "collapsed": false
   },
   "outputs": [
    {
     "data": {
      "text/html": [
       "<div>\n",
       "<table border=\"1\" class=\"dataframe\">\n",
       "  <thead>\n",
       "    <tr style=\"text-align: right;\">\n",
       "      <th></th>\n",
       "      <th>opcode</th>\n",
       "      <th>Rn</th>\n",
       "      <th>imm8</th>\n",
       "    </tr>\n",
       "  </thead>\n",
       "  <tbody>\n",
       "    <tr>\n",
       "      <th>0x0122</th>\n",
       "      <td>1</td>\n",
       "      <td>2</td>\n",
       "      <td>1</td>\n",
       "    </tr>\n",
       "  </tbody>\n",
       "</table>\n",
       "</div>"
      ],
      "text/plain": [
       "        opcode  Rn  imm8\n",
       "0x0122       1   2     1"
      ]
     },
     "execution_count": 19,
     "metadata": {},
     "output_type": "execute_result"
    }
   ],
   "source": [
    "# 90 0006 0122     \t\tmovs\tr2, #1\t@ tmp111,\n",
    "instr = 0x0122\n",
    "instr_swp = np.uint16(instr).byteswap()\n",
    "pd.DataFrame([(instr_swp >> 13) & 0x7,\n",
    "              (instr_swp >> 8) & 0x7,\n",
    "              (instr_swp >> 0) & 0xFF],\n",
    "             index=['opcode', 'Rn', 'imm8'],\n",
    "             columns=['0x%04x' % instr]).T"
   ]
  },
  {
   "cell_type": "markdown",
   "metadata": {},
   "source": [
    "    45 0008 1A70     \t\tstrb\tr2, [r3]"
   ]
  },
  {
   "cell_type": "code",
   "execution_count": 20,
   "metadata": {
    "collapsed": false
   },
   "outputs": [
    {
     "data": {
      "text/html": [
       "<div>\n",
       "<table border=\"1\" class=\"dataframe\">\n",
       "  <thead>\n",
       "    <tr style=\"text-align: right;\">\n",
       "      <th></th>\n",
       "      <th>opcode</th>\n",
       "      <th>imm5</th>\n",
       "      <th>Rn</th>\n",
       "      <th>Rt</th>\n",
       "    </tr>\n",
       "  </thead>\n",
       "  <tbody>\n",
       "    <tr>\n",
       "      <th>0x1a70</th>\n",
       "      <td>3</td>\n",
       "      <td>0</td>\n",
       "      <td>3</td>\n",
       "      <td>2</td>\n",
       "    </tr>\n",
       "  </tbody>\n",
       "</table>\n",
       "</div>"
      ],
      "text/plain": [
       "        opcode  imm5  Rn  Rt\n",
       "0x1a70       3     0   3   2"
      ]
     },
     "execution_count": 20,
     "metadata": {},
     "output_type": "execute_result"
    }
   ],
   "source": [
    "# 91 0008 1A70     \t\tstrb\tr2, [r3]\t@ tmp112, finished\n",
    "instr = 0x1A70\n",
    "instr_swp = np.uint16(instr).byteswap()\n",
    "pd.DataFrame([(instr_swp >> 13) & 0x7,\n",
    "              (instr_swp >> 6) & 0x1F,\n",
    "              (instr_swp >> 3) & 0x7,\n",
    "              (instr_swp >> 0) & 0x7],\n",
    "             index=['opcode', 'imm5', 'Rn', 'Rt'],\n",
    "             columns=['0x%04x' % instr]).T"
   ]
  },
  {
   "cell_type": "markdown",
   "metadata": {},
   "source": [
    "    \n",
    "     6:.\\minimal_isr.cpp ****   }\n",
    "    46              \t\t.loc 1 6 0\n",
    "    47 000a BD46     \t\tmov\tsp, r7\n",
    "    48              \t\t@ sp needed\n",
    "    49 000c 5DF8047B \t\tldr\tr7, [sp], #4\n",
    "    50 0010 7047     \t\tbx\tlr\n",
    "    51              \t.L3:\n",
    "    52 0012 00BF     \t\t.align\t2\n",
    "    53              \t.L2:\n",
    "    54 0014 00000000 \t\t.word\t_ZL8finished\n",
    "    55              \t\t.cfi_endproc\n",
    "    56              \t.LFE0:\n",
    "    58              \t\t.text\n",
    "    59              \t.Letext0:"
   ]
  }
 ],
 "metadata": {
  "kernelspec": {
   "display_name": "Python 2",
   "language": "python",
   "name": "python2"
  },
  "language_info": {
   "codemirror_mode": {
    "name": "ipython",
    "version": 2
   },
   "file_extension": ".py",
   "mimetype": "text/x-python",
   "name": "python",
   "nbconvert_exporter": "python",
   "pygments_lexer": "ipython2",
   "version": "2.7.9"
  }
 },
 "nbformat": 4,
 "nbformat_minor": 0
}
