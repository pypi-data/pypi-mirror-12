{
 "cells": [
  {
   "cell_type": "markdown",
   "metadata": {},
   "source": [
    "### Connect to device"
   ]
  },
  {
   "cell_type": "code",
   "execution_count": 3,
   "metadata": {
    "collapsed": false
   },
   "outputs": [],
   "source": [
    "import numpy as np\n",
    "from teensy_minimal_rpc import SerialProxy\n",
    "import teensy_minimal_rpc.DMA as dma\n",
    "\n",
    "# Disconnect from existing proxy (if available)\n",
    "try:\n",
    "    del proxy\n",
    "except NameError:\n",
    "    pass\n",
    "\n",
    "proxy = SerialProxy()"
   ]
  },
  {
   "cell_type": "code",
   "execution_count": 4,
   "metadata": {
    "collapsed": true
   },
   "outputs": [],
   "source": [
    "proxy.pin_mode(13, 1)"
   ]
  },
  {
   "cell_type": "code",
   "execution_count": 6,
   "metadata": {
    "collapsed": true
   },
   "outputs": [],
   "source": [
    "proxy.digital_write(13, 0)"
   ]
  },
  {
   "cell_type": "markdown",
   "metadata": {},
   "source": [
    "### Allocate two arrays: source and destination"
   ]
  },
  {
   "cell_type": "code",
   "execution_count": null,
   "metadata": {
    "collapsed": true
   },
   "outputs": [],
   "source": [
    "N = 512\n",
    "proxy.free_all()\n",
    "\n",
    "# Allocate source array\n",
    "src_addr = proxy.mem_alloc(N)\n",
    "# Allocate destination array\n",
    "dst_addr = proxy.mem_alloc(N)\n",
    "\n",
    "# Fill first 16 bytes of source array with the numbers 1-16\n",
    "proxy.mem_cpy_host_to_device(src_addr, np.arange(1, 17, dtype='uint8'))\n",
    "\n",
    "# Fill the destination array with all zeros\n",
    "proxy.mem_fill_uint32(dst_addr, 0, N / 4)"
   ]
  },
  {
   "cell_type": "markdown",
   "metadata": {},
   "source": [
    "### Create Transfer Control Descriptor (TCD) configuration"
   ]
  },
  {
   "cell_type": "code",
   "execution_count": null,
   "metadata": {
    "collapsed": true
   },
   "outputs": [],
   "source": [
    "# Create Transfer Control Descriptor configuration to match the settings\n",
    "# shown in the example from the manual.\n",
    "XFER_REQUEST = dma.TCD(\n",
    "    # TCDn_CITER = TCDn_BITER = 1\n",
    "    CITER_ELINKNO=dma.R_TCD_ITER_ELINKNO(ITER=1),\n",
    "    BITER_ELINKNO=dma.R_TCD_ITER_ELINKNO(ITER=1),\n",
    "    # TCDn_NBYTES = 16\n",
    "    NBYTES_MLNO=16,\n",
    "    # TCDn_SADDR = 0x1000\n",
    "    SADDR=int(src_addr),\n",
    "    # TCDn_SOFF = 1\n",
    "    SOFF=1,\n",
    "    # TCDn_ATTR[SSIZE] = 0\n",
    "    # See `TCDn_ATTR[DSIZE]` below.\n",
    "    # TCDn_SLAST = -16\n",
    "    SLAST=-16,\n",
    "    # TCDn_DADDR = 0x2000\n",
    "    DADDR=int(dst_addr),\n",
    "    # TCDn_DOFF = 4\n",
    "    DOFF=4,\n",
    "    # TCDn_ATTR[DSIZE] = 2\n",
    "    ATTR=dma.R_TCD_ATTR(SSIZE=dma.R_TCD_ATTR._8_BIT,\n",
    "                        DSIZE=dma.R_TCD_ATTR._32_BIT),\n",
    "    # TCDn_DLAST_SGA= –16\n",
    "    DLASTSGA=-16,\n",
    "    # TCDn_CSR[INT_MAJ] = 1\n",
    "    # We won't use interrupts here...\n",
    "    # TCDn_CSR[START] = 1 (Should be written last after all other fields have been initialized)\n",
    "    CSR=dma.R_TCD_CSR(START=1)\n",
    "    # All other TCDn fields = 0\n",
    ")"
   ]
  },
  {
   "cell_type": "markdown",
   "metadata": {},
   "source": [
    "### Apply Transfer Control Descriptor configuration to start transfer"
   ]
  },
  {
   "cell_type": "code",
   "execution_count": null,
   "metadata": {
    "collapsed": false
   },
   "outputs": [],
   "source": [
    "print 'SOURCE:  ', proxy.mem_cpy_device_to_host(src_addr, 16)\n",
    "\n",
    "# Fill the destination array with all zeros\n",
    "proxy.mem_fill_uint32(dst_addr, 0, N / 4)\n",
    "print 'TARGET:'\n",
    "print '  Before:', proxy.mem_cpy_device_to_host(dst_addr, 16)\n",
    "\n",
    "# Apply TCD configuration to DMA channel 0 to conduct transfer.\n",
    "proxy.update_dma_TCD(0, XFER_REQUEST)\n",
    "\n",
    "print '   After:', proxy.mem_cpy_device_to_host(dst_addr, 16)"
   ]
  },
  {
   "cell_type": "markdown",
   "metadata": {},
   "source": [
    "### Confirm transfer completed successfully (i.e., check `DMA_TCD0.CSR[DONE]`)"
   ]
  },
  {
   "cell_type": "code",
   "execution_count": null,
   "metadata": {
    "collapsed": false
   },
   "outputs": [],
   "source": [
    "# Read serialized TCD protocol buffer message for DMA channel 0 from device.\n",
    "serialized_tcd0 = proxy.read_dma_TCD(0)\n",
    "# Deserialize message into Python Protocol Buffer message.\n",
    "tcd0 = dma.TCD.FromString(serialized_tcd0.tostring())\n",
    "\n",
    "# Verify DMA operation is complete\n",
    "# See TCD Control and Status section for more info (21.3.29/424 in manual).\n",
    "assert(tcd0.CSR.DONE)"
   ]
  }
 ],
 "metadata": {
  "kernelspec": {
   "display_name": "Python 2",
   "language": "python",
   "name": "python2"
  },
  "language_info": {
   "codemirror_mode": {
    "name": "ipython",
    "version": 2
   },
   "file_extension": ".py",
   "mimetype": "text/x-python",
   "name": "python",
   "nbconvert_exporter": "python",
   "pygments_lexer": "ipython2",
   "version": "2.7.9"
  }
 },
 "nbformat": 4,
 "nbformat_minor": 0
}
