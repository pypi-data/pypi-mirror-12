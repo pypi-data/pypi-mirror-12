{
 "cells": [
  {
   "cell_type": "markdown",
   "metadata": {},
   "source": [
    "See annotated [K20P64M72SF1RM][1] manual (MK20DX128 processor used on [Teensy 3.1/3.2][2]).\n",
    "\n",
    "[1]: https://xodo.com/app/d/?/=9efbee54-ee85-4772-8e5c-859fcb213d74\n",
    "[2]: https://www.pjrc.com/teensy/"
   ]
  },
  {
   "cell_type": "markdown",
   "metadata": {},
   "source": [
    "--------------------------------------------------"
   ]
  },
  {
   "cell_type": "code",
   "execution_count": 142,
   "metadata": {
    "collapsed": false
   },
   "outputs": [
    {
     "data": {
      "text/plain": [
       "'0x80000L'"
      ]
     },
     "execution_count": 142,
     "metadata": {},
     "output_type": "execute_result"
    }
   ],
   "source": [
    "import pandas as pd\n",
    "\n",
    "# ADC registers memory map on page 651 in `K20P64M72SF1RM.pdf`.\n",
    "ADC_START_ADDRESS = pd.Series([0x4003B000, 0x400BB000], index=[0, 1])\n",
    "\n",
    "ADC_REGISTER_MAP = (pd.DataFrame([['SC1A', 0x00000000, 0x0000001F],\n",
    "                                  ['SC1B', 0x00000004, 0x0000001F],\n",
    "                                  ['CFG1', 0x00000008, 0x00000000],\n",
    "                                  ['CFG2', 0x0000000C, 0x00000000],\n",
    "                                  ['RA'  , 0x00000010, 0x00000000],\n",
    "                                  ['RB'  , 0x00000014, 0x00000000],\n",
    "                                  ['CV1' , 0x00000018, 0x00000000],\n",
    "                                  ['CV2' , 0x0000001C, 0x00000000],\n",
    "                                  ['SC2' , 0x00000020, 0x00000000],\n",
    "                                  ['SC3' , 0x00000024, 0x00000000],\n",
    "                                  ['OFS' , 0x00000028, 0x00000004],\n",
    "                                  ['PG'  , 0x0000002C, 0x00008200],\n",
    "                                  ['MG'  , 0x00000030, 0x00008200],\n",
    "                                  ['CLPD', 0x00000034, 0x0000000A],\n",
    "                                  ['CLPS', 0x00000038, 0x00000020],\n",
    "                                  ['CLP4', 0x0000003C, 0x00000200],\n",
    "                                  ['CLP3', 0x00000040, 0x00000100],\n",
    "                                  ['CLP2', 0x00000044, 0x00000080],\n",
    "                                  ['CLP1', 0x00000048, 0x00000040],\n",
    "                                  ['CLP0', 0x0000004C, 0x00000020],\n",
    "                                  ['PGA' , 0x00000050, 0x00000000],\n",
    "                                  ['CLMD', 0x00000054, 0x0000000A],\n",
    "                                  ['CLMS', 0x00000058, 0x00000020],\n",
    "                                  ['CLM4', 0x0000005C, 0x00000200],\n",
    "                                  ['CLM3', 0x00000060, 0x00000100],\n",
    "                                  ['CLM2', 0x00000064, 0x00000080],\n",
    "                                  ['CLM1', 0x00000068, 0x00000040],\n",
    "                                  ['CLM0', 0x0000006C, 0x00000020]],\n",
    "                                  columns=['register_name', 'address_offset',\n",
    "                                           'reset_value'])\n",
    "                    .set_index('register_name'))\n",
    "\n",
    "\n",
    "def default_adc_reg(adc_num):\n",
    "    ADC_REG = ADC_REGISTER_MAP.copy()\n",
    "    ADC_REG.address_offset += ADC_START_ADDRESS[adc_num]\n",
    "    ADC_REG.rename(columns={'address_offset': 'address', 'reset_value': 'value'}, inplace=True)\n",
    "    return ADC_REG\n",
    "\n",
    "\n",
    "ADC0_REG = default_adc_reg(0)\n",
    "ADC1_REG = default_adc_reg(1)\n",
    "hex(ADC_START_ADDRESS[1] - ADC_START_ADDRESS[0])"
   ]
  },
  {
   "cell_type": "markdown",
   "metadata": {},
   "source": [
    "# ADC_SC1m: ADC Status and Control Registers 1\n",
    "\n",
    "Page 653.\n",
    "\n",
    " - `COCO`: Conversion complete flag\n",
    " - `AIEN`: Interrupt enable\n",
    " - `DIFF`: Differential mode enable\n",
    " - `ADCH`: 4 bits, Input channel select\n",
    " \n",
    " \n",
    "## Teensy 3.1/3.2 (MK20DX256)\n",
    "\n",
    "The MK20DX256 processor has two ADC status and control registers.\n",
    "Each register is associated with a pre-trigger in the Programmable Delay Block."
   ]
  },
  {
   "cell_type": "markdown",
   "metadata": {},
   "source": [
    "# ADC_CFG1: ADC Configuration Register 1\n",
    "\n",
    "Page 656\n",
    "\n",
    " - `ADLPC`: Low-power configuration\n",
    " - `ADIV`: 2 bits, Clock divide select\n",
    "     * 0: /1, 1: /2, 2: /4, 3: /8\n",
    " - `ADLSMP`: Sample time configuration\n",
    "     * 0: Short sample time, 1: Long sample time\n",
    " - `MODE`: 2 bits, Conversion mode selection\n",
    "     * 0: 8-bit, 1: 12-bit, 2: 10-bit, 3: 16-bit\n",
    " - `ADICLK`: 2 bits, Input clock select\n",
    "     * 0: Bus clock, 1: Bus clock/2, 2: Alternate clock (ALTCLK), 3: Asynchronous clock (ADACK)"
   ]
  },
  {
   "cell_type": "markdown",
   "metadata": {},
   "source": [
    "# ADC_CFG2: ADC Configuration Register 2\n",
    "\n",
    "Page 658.\n",
    "\n",
    " - `MUXSEL`: ADC mux select\n",
    "     * 0: ADxxa channels selected, 1: ADxxb channels selected\n",
    " - `ADACKEN`: Asynchronous clock output enable\n",
    " - `ADHSC`: High-speed configuration\n",
    " - `ADLSTS`: Long sample time select\n",
    "     * 0: 20 extra ADCK cycles (default)\n",
    "     * 1: 12 extra ADCK cycles\n",
    "     * 2: 6 extra ADCK cycles\n",
    "     * 3: 2 extra ADCK cycles"
   ]
  },
  {
   "cell_type": "markdown",
   "metadata": {},
   "source": [
    "# ADC_SC2: Status and Control Register 2\n",
    "\n",
    "Page 661.\n",
    "\n",
    " - `ADACT`: Conversion active\n",
    " - `ADTRG`: Conversion trigger select\n",
    "     * 0: Software trigger, 1: Hardware trigger\n",
    " - `ACFE`: Compare Function Enable\n",
    " - `ACFGT`: Compare function greater than enable\n",
    " - `ACREN`: Compare function range enable\n",
    " - `DMAEN`: DMA enable\n",
    "     * 1: 1 DMA is enabled and will assert the ADC DMA request during an ADC conversion complete\n",
    "      event noted when any of the `SC1n[COCO]` flags is asserted.\n",
    " - `REFSEL`: 2 bits, Voltage reference selection\n",
    "     * 0: Default, 1: Alternate, 2-3: Reserved\n",
    "     \n",
    "     \n",
    "## Teensy ADC_Module ##\n",
    "\n",
    "The `startPDB` method sets `ADTRG=1` to enable trigger of ADC using Programmable Delay Block.\n",
    "See \"Programmable Delay Block notes\" notebook for details.\n",
    "\n",
    "Voltage reference selection; 0: Default, 1: Alternate, 2-3: Reserved"
   ]
  },
  {
   "cell_type": "markdown",
   "metadata": {},
   "source": [
    "# ADC_SC3: Status and Control Register 3\n",
    "\n",
    "Page 663.\n",
    "\n",
    " - `CAL`: Calibration\n",
    " - `CALF`: Calibration failed flag\n",
    " - `ADCO`: Continuous conversion enable\n",
    " - `AVGE`: Hardware average enable\n",
    " - `AVGS`: Hardware average select\n",
    "     * Samples averaged - 0: 4, 1: 8, 0: 16, 0: 32"
   ]
  },
  {
   "cell_type": "markdown",
   "metadata": {},
   "source": [
    "# ADC_PGA: ADC PGA Register\n",
    "\n",
    "Page 670.\n",
    "\n",
    " - `PGAEN`: PGA enable\n",
    " - `PGALPb`: PGA low-power mode control\n",
    " - `PGAG`: 19-16, PGA Gain setting, $PGA~gain = 2^{PGAG}$\n",
    "     * 0: 1, 1: 2, 2: 4, 3: 8, 4: 16, 5: 32, 6: 64"
   ]
  }
 ],
 "metadata": {
  "kernelspec": {
   "display_name": "Python 2",
   "language": "python",
   "name": "python2"
  },
  "language_info": {
   "codemirror_mode": {
    "name": "ipython",
    "version": 2
   },
   "file_extension": ".py",
   "mimetype": "text/x-python",
   "name": "python",
   "nbconvert_exporter": "python",
   "pygments_lexer": "ipython2",
   "version": "2.7.9"
  }
 },
 "nbformat": 4,
 "nbformat_minor": 0
}
