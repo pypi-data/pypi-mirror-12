{
 "cells": [
  {
   "cell_type": "code",
   "execution_count": 1,
   "metadata": {
    "collapsed": true
   },
   "outputs": [],
   "source": [
    "import pandas as pd\n",
    "import numpy as np"
   ]
  },
  {
   "cell_type": "code",
   "execution_count": 2,
   "metadata": {
    "collapsed": false
   },
   "outputs": [],
   "source": [
    "def test_p(nodes, connections):\n",
    "    neighbour_nodes = np.roll(nodes, -1)\n",
    "    return map(lambda v: connections[tuple(v)],\n",
    "               np.column_stack([nodes, neighbour_nodes]))\n",
    "\n",
    "\n",
    "def find_cycle_enumerate(nodes, connections):\n",
    "    solutions = []\n",
    "    for p in itertools.permutations(nodes[1:], 4):\n",
    "        order = (nodes[0], ) + p\n",
    "        if sum(test_p(order, connections)) == nodes.size:\n",
    "            solutions.append(order)\n",
    "    return solutions\n",
    "#     raise ValueError('No cycle exists between nodes.')"
   ]
  },
  {
   "cell_type": "code",
   "execution_count": 3,
   "metadata": {
    "collapsed": false
   },
   "outputs": [],
   "source": [
    "# %timeit find_cycle_enumerate(nodes_i, connections)"
   ]
  },
  {
   "cell_type": "code",
   "execution_count": 4,
   "metadata": {
    "collapsed": false
   },
   "outputs": [],
   "source": [
    "def find_cycle(nodes, connections, starting_temperature=1):\n",
    "    nodes_i = np.array(nodes, dtype=int)\n",
    "    score_i = sum(test_p(nodes_i, connections))\n",
    "    if score_i >= len(nodes_i):\n",
    "        return nodes_i\n",
    "    temperature = starting_temperature\n",
    "    \n",
    "    for i in xrange(100):\n",
    "        swaps_evaluated = 0\n",
    "        swaps_accepted = 0\n",
    "\n",
    "        for j in xrange(100):\n",
    "            source, target = np.random.randint(1, len(nodes_i), size=2)\n",
    "            nodes_j = nodes_i.copy()\n",
    "            nodes_j[[source, target]] = nodes_i[[target, source]]\n",
    "            score_j = sum(test_p(nodes_j, connections))\n",
    "            if score_j >= len(nodes):\n",
    "                return nodes_j\n",
    "\n",
    "            keep_anyway = (np.random.rand() <\n",
    "                           np.e ** (.5 * (score_j - score_i) / temperature))\n",
    "\n",
    "            if score_j >= score_i or keep_anyway:\n",
    "                nodes_i = nodes_j\n",
    "                score_i = score_j\n",
    "                swaps_accepted += 1\n",
    "            swaps_evaluated += 1\n",
    "\n",
    "        success_ratio = swaps_accepted / float(swaps_evaluated)\n",
    "\n",
    "        if success_ratio > .96:\n",
    "            temperature *= .5\n",
    "        elif success_ratio > .8:\n",
    "            temperature *= .9\n",
    "        elif success_ratio > .15:\n",
    "            temperature *= .95\n",
    "        else:\n",
    "            temperature *= .8\n",
    "        if i % 10 == 0:\n",
    "            print 'temperature: %s, success: %.2f' % (temperature,\n",
    "                                                      success_ratio)\n",
    "    raise ValueError('No cycle found (score: %s) %s' %\n",
    "                     (score_i, nodes_i))"
   ]
  },
  {
   "cell_type": "code",
   "execution_count": 5,
   "metadata": {
    "collapsed": false
   },
   "outputs": [],
   "source": [
    "import itertools\n",
    "\n",
    "# N = 15\n",
    "N = 20\n",
    "\n",
    "nodes = np.arange(N, dtype=int)\n",
    "connections = np.zeros((nodes.size, nodes.size), dtype=int)\n",
    "\n",
    "for i in xrange(nodes.size - 1):\n",
    "    connections[i, i + 1] = 1\n",
    "    connections[i + 1, i] = 1\n",
    "connections[0, nodes.size - 1] = 1\n",
    "connections[nodes.size - 1, 0] = 1"
   ]
  },
  {
   "cell_type": "code",
   "execution_count": 6,
   "metadata": {
    "collapsed": false
   },
   "outputs": [
    {
     "name": "stdout",
     "output_type": "stream",
     "text": [
      "temperature: 44.72135955, success: 1.00\n",
      "temperature: 0.871081243772, success: 0.84\n",
      "temperature: 0.443456911411, success: 0.53\n",
      "temperature: 0.265514033822, success: 0.24\n",
      "temperature: 0.133872050472, success: 0.15\n",
      "temperature: 0.0170696023342, success: 0.03\n",
      "temperature: 0.00183283459453, success: 0.09\n",
      "temperature: 0.000196799116062, success: 0.08\n",
      "temperature: 2.11311441842e-05, success: 0.06\n",
      "temperature: 2.26893932995e-06, success: 0.07\n"
     ]
    },
    {
     "ename": "ValueError",
     "evalue": "No cycle found (score: 14) [ 0  1  9  8  7  6  2  3  4  5 10 11 15 16 17 18 14 13 12 19]",
     "output_type": "error",
     "traceback": [
      "\u001b[1;31m---------------------------------------------------------------------------\u001b[0m",
      "\u001b[1;31mValueError\u001b[0m                                Traceback (most recent call last)",
      "\u001b[1;32m<ipython-input-6-6171e48bf4f3>\u001b[0m in \u001b[0;36m<module>\u001b[1;34m()\u001b[0m\n\u001b[0;32m      4\u001b[0m \u001b[1;33m\u001b[0m\u001b[0m\n\u001b[0;32m      5\u001b[0m \u001b[0mstart\u001b[0m \u001b[1;33m=\u001b[0m \u001b[0mdatetime\u001b[0m\u001b[1;33m.\u001b[0m\u001b[0mnow\u001b[0m\u001b[1;33m(\u001b[0m\u001b[1;33m)\u001b[0m\u001b[1;33m\u001b[0m\u001b[0m\n\u001b[1;32m----> 6\u001b[1;33m \u001b[0mresult\u001b[0m \u001b[1;33m=\u001b[0m \u001b[0mfind_cycle\u001b[0m\u001b[1;33m(\u001b[0m\u001b[0mnodes_i\u001b[0m\u001b[1;33m,\u001b[0m \u001b[0mconnections\u001b[0m\u001b[1;33m,\u001b[0m \u001b[0mlen\u001b[0m\u001b[1;33m(\u001b[0m\u001b[0mnodes_i\u001b[0m\u001b[1;33m)\u001b[0m \u001b[1;33m**\u001b[0m \u001b[1;36m1.5\u001b[0m\u001b[1;33m)\u001b[0m\u001b[1;33m\u001b[0m\u001b[0m\n\u001b[0m\u001b[0;32m      7\u001b[0m \u001b[1;32mprint\u001b[0m \u001b[0mnodes_i\u001b[0m\u001b[1;33m\u001b[0m\u001b[0m\n\u001b[0;32m      8\u001b[0m \u001b[1;32mprint\u001b[0m \u001b[0mresult\u001b[0m\u001b[1;33m\u001b[0m\u001b[0m\n",
      "\u001b[1;32m<ipython-input-4-2bdc1a0e8335>\u001b[0m in \u001b[0;36mfind_cycle\u001b[1;34m(nodes, connections, starting_temperature)\u001b[0m\n\u001b[0;32m     41\u001b[0m                                                       success_ratio)\n\u001b[0;32m     42\u001b[0m     raise ValueError('No cycle found (score: %s) %s' %\n\u001b[1;32m---> 43\u001b[1;33m                      (score_i, nodes_i))\n\u001b[0m",
      "\u001b[1;31mValueError\u001b[0m: No cycle found (score: 14) [ 0  1  9  8  7  6  2  3  4  5 10 11 15 16 17 18 14 13 12 19]"
     ]
    }
   ],
   "source": [
    "from datetime import datetime\n",
    "nodes_i = nodes.copy()\n",
    "np.random.shuffle(nodes_i[1:])\n",
    "\n",
    "start = datetime.now()\n",
    "result = find_cycle(nodes_i, connections, len(nodes_i) ** 1.5)\n",
    "print nodes_i\n",
    "print result\n",
    "(datetime.now() - start).total_seconds()"
   ]
  },
  {
   "cell_type": "code",
   "execution_count": null,
   "metadata": {
    "collapsed": true
   },
   "outputs": [],
   "source": []
  }
 ],
 "metadata": {
  "kernelspec": {
   "display_name": "Python 2",
   "language": "python",
   "name": "python2"
  },
  "language_info": {
   "codemirror_mode": {
    "name": "ipython",
    "version": 2
   },
   "file_extension": ".py",
   "mimetype": "text/x-python",
   "name": "python",
   "nbconvert_exporter": "python",
   "pygments_lexer": "ipython2",
   "version": "2.7.9"
  }
 },
 "nbformat": 4,
 "nbformat_minor": 0
}
