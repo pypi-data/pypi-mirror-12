{
 "cells": [
  {
   "cell_type": "markdown",
   "metadata": {},
   "source": [
    "--------------------------------------------------"
   ]
  },
  {
   "cell_type": "markdown",
   "metadata": {},
   "source": [
    "See annotated [K20P64M72SF1RM][1] manual (MK20DX128 processor used on [Teensy 3.1/3.2][2]).\n",
    "\n",
    "Functional description of Programmable Delay Block (PDB) on page 761.\n",
    "\n",
    "[1]: https://xodo.com/app/d/?/=9efbee54-ee85-4772-8e5c-859fcb213d74\n",
    "[2]: https://www.pjrc.com/teensy/"
   ]
  },
  {
   "cell_type": "markdown",
   "metadata": {},
   "source": [
    "--------------------------------------------------"
   ]
  },
  {
   "cell_type": "markdown",
   "metadata": {},
   "source": [
    "# PDBx_SC: Status and Control Register\n",
    "\n",
    "Page 753.\n",
    "\n",
    " - `LDMOD`: Load mode select (2 bits)\n",
    "     * 0: immediate, 1: after counter reaches MOD value, 2: trigger input event, 3: either 1 or 2\n",
    " - `PDBEIE`: PDB Sequence error interrupt enable\n",
    " - `SWTRIG`: Software trigger, reset and restart counter if software trigger set as input\n",
    " - `DMAEN`: DMA enable. 1: `PDBIF` flag generates a DMA request instead of an interrupt.\n",
    " - `PRESCALER`: Prescaler divider select (3 bits)\n",
    "     * 0: /MULT, 1: /2MULT, 2: /4MULT, 3: /8MULT, 4: /16MULT, 5: /32MULT, 6: /64MULT, 7: /128MULT\n",
    " - `TRGSEL`: Trigger input select (4 bits)\n",
    "     * 0-14: trigger-in x, 15: software trigger **(enable `SWTRIG`)**\n",
    " - `PDBEN`: PDB enable\n",
    " - `PDBIF`: PDB interrupt flag, set when counter value is equal to the `IDLY` register. Writing zero clears this bit.\n",
    " - `PDBIE`: PDB interrupt enable, when this bit is set and `DMAEN` is cleared, `PDBIF` generates a PDB interrupt.\n",
    " - `MULT`: Multiplication Factor Select for Prescaler (2 bits), `MULT` for `PRESCALER`\n",
    "     * 0: 1, 1: 10, 2: 20, 3: 40\n",
    " - `CONT`: Continuous mode enable\n",
    " - `LDOK`: Load OK, update internal registers of `MOD`, `IDLY`, `CHnDLYm`, `DACINTx`, and `POyDLY` according to `LDMOD` scheme.\n",
    " \n",
    " \n",
    "## Teensy ADC_Module ##\n",
    "\n",
    " - `TRGSEL` = 15 (Software trigger)\n",
    " - `PDBEN` = 1\n",
    " - `PDBIE` = 1\n",
    " - `CONT` = 1\n",
    " - `LDMOD` = 0\n",
    " - `PRESCALER` = based on frequency\n",
    " - `MULT` = based on frequency\n",
    " \n",
    "Use `SWTRIG` to start first count.  Counter continues to loop due to continuous mode (`CONT=1`)."
   ]
  },
  {
   "cell_type": "markdown",
   "metadata": {},
   "source": [
    "--------------------------------------------------"
   ]
  },
  {
   "cell_type": "markdown",
   "metadata": {},
   "source": [
    "# PDBx_MOD: Modulus Register\n",
    "\n",
    "Page 755.\n",
    "\n",
    " - `MOD`: PDB modulus (16 bits), specifies the period of the counter.\n",
    " \n",
    " \n",
    "## Teensy ADC_Module ##\n",
    "\n",
    " - `MOD` = based on frequency\n",
    " \n",
    "Set to `(F_BUS / frequency) - 1`, unless `(F_BUS / frequency)` cannot fit in 16 bits.\n",
    "In that case, first use `SC[MULT]` and `SC[PRESCALER]` to get close to the requested\n",
    "period, then further divide `(F_BUS / frequency)` accordingly."
   ]
  },
  {
   "cell_type": "markdown",
   "metadata": {},
   "source": [
    "--------------------------------------------------"
   ]
  },
  {
   "cell_type": "markdown",
   "metadata": {},
   "source": [
    "# PDBx_CNT: Counter Register\n",
    "\n",
    "Page 756.\n",
    "\n",
    " - `CNT`: PDB Counter (16 bits), current value of the counter"
   ]
  },
  {
   "cell_type": "markdown",
   "metadata": {},
   "source": [
    "--------------------------------------------------"
   ]
  },
  {
   "cell_type": "markdown",
   "metadata": {},
   "source": [
    "# PDBx_IDLY: Interrupt Delay Register\n",
    "\n",
    "Page 756.\n",
    "\n",
    " - `IDLY`: PDB Interrupt delay (16 bits), delay value to schedule the PDB interrupt.\n",
    "     * Can be used to schedule an independent interrupt at some point in the PDB cycle.\n",
    "     * If enabled, a PDB interrupt is generated when the counter is equal to the `IDLY`\n",
    "     \n",
    "     \n",
    "## Teensy ADC_Module ##\n",
    "\n",
    " - `IDLY = 1`: i.e., the pdb interrupt when `CNT = 1`.\n"
   ]
  },
  {
   "cell_type": "markdown",
   "metadata": {},
   "source": [
    "--------------------------------------------------"
   ]
  },
  {
   "cell_type": "markdown",
   "metadata": {},
   "source": [
    "# PDBx_CHnC1: Channel n Control Register 1\n",
    "\n",
    "Page 757.  One bit per channel.\n",
    "\n",
    "**TODO How manny PDB channels on Teensy 3.1 controller?**\n",
    "\n",
    " - `BB`: PDB Channel Pre-Trigger Back-to-Back Operation Enable (8 bits)\n",
    "     * ??\n",
    " - `TOS`: PDB Channel Pre-Trigger Output Select (8 bits)\n",
    "     * 0: Bypassed mode. Pre-trigger asserts one clock cycle after rising edge on trigger input.\n",
    "     * 1: Pre-trigger asserts when counter reaches delay `IDLY` *and* one clock cycle after\n",
    "       rising edge on trigger input.\n",
    " - `EN`: PDB Channel Pre-Trigger Enable (8 bits)\n",
    "     * **TODO Does each bit correspond to an ADC channel?**\n",
    " \n",
    " \n",
    "## Teensy ADC_Module ##\n",
    "\n",
    "Assert pre-trigger when counter reaches `IDLY` (1) and after trigger (software in this case).\n",
    "\n",
    " - `TOS = 1`\n",
    " - `EN = 1`"
   ]
  },
  {
   "cell_type": "markdown",
   "metadata": {},
   "source": [
    "--------------------------------------------------"
   ]
  },
  {
   "cell_type": "markdown",
   "metadata": {},
   "source": [
    "# PDBx_CHnS: Channel n Status Register\n",
    "\n",
    "Page 758.  One bit per channel.\n",
    "\n",
    " - `CF`: PDB Channel Flags, the `CF[m]` bit is set when the PDB counter matches the `CHnDLYm`\n",
    " - `ERR`: PDB Channel Sequence Error Flags, error bit is set if a new conversion is triggered during a conversion"
   ]
  },
  {
   "cell_type": "markdown",
   "metadata": {},
   "source": [
    "--------------------------------------------------"
   ]
  },
  {
   "cell_type": "markdown",
   "metadata": {},
   "source": [
    "# PDBx_CHnDLY0: Channel n Delay 0 Register\n",
    "\n",
    "Page 758.\n",
    "\n",
    " - `DLY`: PDB Channel delay,  pre-trigger asserts when the counter is equal to `DLY`. (16 bits)"
   ]
  },
  {
   "cell_type": "markdown",
   "metadata": {},
   "source": [
    "--------------------------------------------------"
   ]
  },
  {
   "cell_type": "markdown",
   "metadata": {},
   "source": [
    "# PDBx_CHnDLY1: Channel n Delay 1 Register\n",
    "\n",
    "Page 759.\n",
    "\n",
    " - `DLY`: PDB Channel delay,  pre-trigger asserts when the counter is equal to `DLY`. (16 bits)"
   ]
  },
  {
   "cell_type": "markdown",
   "metadata": {},
   "source": [
    "--------------------------------------------------"
   ]
  },
  {
   "cell_type": "markdown",
   "metadata": {},
   "source": [
    "# PDBx_DACINTCn: DAC Interval Trigger n Control Register\n",
    "\n",
    "Page 759.\n",
    "\n",
    " - `EXT`: DAC External Trigger Input Enable\n",
    "     * 0: DAC interval counter reset and started after rising edge on trigger input.\n",
    "     * 1: DAC interval counter is bypassed, DAC external trigger input triggers the DAC interval trigger.\n",
    " - `TOE`: DAC Interval Trigger Enable"
   ]
  },
  {
   "cell_type": "markdown",
   "metadata": {},
   "source": [
    "--------------------------------------------------"
   ]
  },
  {
   "cell_type": "markdown",
   "metadata": {},
   "source": [
    "# PDBx_DACINTn: DAC Interval n Register\n",
    "\n",
    "Page 760.\n",
    "\n",
    " - `INT`: DAC interval, triggers `DAC[1:0]` update when the DAC interval counter is equal to the `DACINT`."
   ]
  },
  {
   "cell_type": "markdown",
   "metadata": {},
   "source": [
    "--------------------------------------------------"
   ]
  },
  {
   "cell_type": "markdown",
   "metadata": {},
   "source": [
    "# PDBx_POEN: Pulse-Out n Enable Register (Page 760)\n",
    "\n",
    " - `POEN`: PDB Pulse-out enable"
   ]
  },
  {
   "cell_type": "markdown",
   "metadata": {},
   "source": [
    "--------------------------------------------------"
   ]
  },
  {
   "cell_type": "markdown",
   "metadata": {},
   "source": [
    "# PDBx_POnDLY: Pulse-Out n Delay Register (Page 761)\n",
    "\n",
    " - `DLY1`: Pulse-out delay 1, pulse-out goes high when the PDB counter is equal to the `DLY1`.\n",
    " - `DLY2`: Pulse-out delay 2, pulse-out goes low when the PDB counter is equal to the `DLY2`."
   ]
  }
 ],
 "metadata": {
  "kernelspec": {
   "display_name": "Python 2",
   "language": "python",
   "name": "python2"
  },
  "language_info": {
   "codemirror_mode": {
    "name": "ipython",
    "version": 2
   },
   "file_extension": ".py",
   "mimetype": "text/x-python",
   "name": "python",
   "nbconvert_exporter": "python",
   "pygments_lexer": "ipython2",
   "version": "2.7.9"
  }
 },
 "nbformat": 4,
 "nbformat_minor": 0
}
