{
 "cells": [
  {
   "cell_type": "markdown",
   "metadata": {},
   "source": [
    "# __NB__ Cannot use PIT to trigger periodic DMA due to hardware bug\n",
    "\n",
    "See [here][1].\n",
    "\n",
    "Try using PDB instead??\n",
    "\n",
    "[1]: https://community.freescale.com/thread/102320#112176"
   ]
  },
  {
   "cell_type": "code",
   "execution_count": 289,
   "metadata": {
    "collapsed": false
   },
   "outputs": [],
   "source": [
    "import pandas as pd\n",
    "\n",
    "def get_pdb_divide_params(frequency, F_BUS=int(48e6)):\n",
    "    mult_factor = np.array([1, 10, 20, 40])\n",
    "    prescaler = np.arange(8)\n",
    "\n",
    "    clock_divide = (pd.DataFrame([[i, m, p, m * (1 << p)]\n",
    "                                  for i, m in enumerate(mult_factor) for p in prescaler],\n",
    "                                 columns=['mult_', 'mult_factor', 'prescaler', 'combined'])\n",
    "                    .drop_duplicates(subset=['combined'])\n",
    "                    .sort_values('combined', ascending=True))\n",
    "    clock_divide['clock_mod'] = (F_BUS / frequency / clock_divide.combined).astype(int)\n",
    "    return clock_divide.loc[clock_divide.clock_mod <= 0xffff]\n"
   ]
  },
  {
   "cell_type": "code",
   "execution_count": 304,
   "metadata": {
    "collapsed": true
   },
   "outputs": [],
   "source": [
    "PDB0_IDLY = 0x4003600C  # Interrupt Delay Register\n",
    "PDB0_SC = 0x40036000  # Status and Control Register\n",
    "PDB0_MOD = 0x40036004  # Modulus Register\n",
    "\n",
    "PDB_SC_PDBEIE = 0x00020000  # Sequence Error Interrupt Enable\n",
    "PDB_SC_SWTRIG = 0x00010000  # Software Trigger\n",
    "PDB_SC_DMAEN = 0x00008000  # DMA Enable\n",
    "PDB_SC_PDBEN = 0x00000080  # PDB Enable\n",
    "PDB_SC_PDBIF = 0x00000040  # PDB Interrupt Flag\n",
    "PDB_SC_PDBIE = 0x00000020  # PDB Interrupt Enable.\n",
    "PDB_SC_CONT = 0x00000002  # Continuous Mode Enable\n",
    "PDB_SC_LDOK = 0x00000001  # Load OK\n",
    "\n",
    "\n",
    "def PDB_SC_TRGSEL(n): return (((n) & 15) << 8)  # Trigger Input Source Select\n",
    "def PDB_SC_PRESCALER(n): return (((n) & 7) << 12)  # Prescaler Divider Select\n",
    "def PDB_SC_MULT(n): return (((n) & 3) << 2)  # Multiplication Factor\n",
    "def PDB_SC_LDMOD(n): return (((n) & 3) << 18)  # Load Mode Select\n",
    "\n",
    "\n",
    "# PDB0_IDLY = 1; // the pdb interrupt happens when IDLY is equal to CNT+1\n",
    "proxy.mem_cpy_host_to_device(PDB0_IDLY, np.uint32(1).tostring())\n",
    "\n",
    "#             software trigger    enable PDB     continuous\n",
    "PDB_CONFIG = (PDB_SC_TRGSEL(15) | PDB_SC_PDBEN | PDB_SC_CONT |  PDB_SC_LDMOD(0))\n",
    "\n",
    "PDB0_SC_ = (PDB_CONFIG | PDB_SC_PRESCALER(clock_divide.prescaler) |\n",
    "            PDB_SC_MULT(clock_divide.mult_) | \n",
    "            PDB_SC_DMAEN | PDB_SC_LDOK)  # load all new values\n",
    "proxy.mem_cpy_host_to_device(PDB0_SC, np.uint32(PDB0_SC_).tostring())"
   ]
  },
  {
   "cell_type": "code",
   "execution_count": 310,
   "metadata": {
    "collapsed": true
   },
   "outputs": [],
   "source": [
    "clock_divide = get_pdb_divide_params(25).iloc[0]\n",
    "# PDB0_MOD = (uint16_t)(mod-1);\n",
    "proxy.mem_cpy_host_to_device(PDB0_MOD, np.uint32(clock_divide.clock_mod).tostring())\n",
    "\n",
    "PDB0_SC_ = (PDB_CONFIG | PDB_SC_PRESCALER(clock_divide.prescaler) |\n",
    "            PDB_SC_DMAEN | PDB_SC_MULT(clock_divide.mult_) |\n",
    "            PDB_SC_SWTRIG)  # start the counter!\n",
    "proxy.mem_cpy_host_to_device(PDB0_SC, np.uint32(PDB0_SC_).tostring())"
   ]
  },
  {
   "cell_type": "code",
   "execution_count": 311,
   "metadata": {
    "collapsed": true
   },
   "outputs": [],
   "source": [
    "PDB0_SC_ = 0\n",
    "proxy.mem_cpy_host_to_device(PDB0_SC, np.uint32(PDB0_SC_).tostring())"
   ]
  },
  {
   "cell_type": "markdown",
   "metadata": {},
   "source": [
    "# Overview #\n",
    "\n",
    "Use linked DMA channels to perform \"scan\" across multiple ADC input channels.\n",
    "\n",
    "After each scan, use DMA scatter chain to write the converted ADC values to a\n",
    "separate output array for each ADC channel.  The length of the output array to\n",
    "allocate for each ADC channel is determined by the `sample_count` in the\n",
    "example below.\n",
    "\n",
    "See diagram below.\n",
    "     \n",
    "     \n",
    "## Channel configuration ## \n",
    "\n",
    " - DMA channel $i$ copies conesecutive `SC1A` configurations to the ADC `SC1A`\n",
    "   register.  Each `SC1A` configuration selects an analog input channel.\n",
    "     * Channel $i$ is initially triggered by software trigger\n",
    "       (i.e., `DMA_SSRT = i`), starting the ADC conversion for the first ADC\n",
    "       channel configuration.\n",
    "     * Loading of subsequent ADC channel configurations is triggered through\n",
    "       minor loop linking of DMA channel $ii$ to DMA channel $i$.\n",
    " - DMA channel $ii$ is triggered by ADC conversion complete (i.e., `COCO`), and\n",
    "   copies the output result of the ADC to consecutive locations in the result\n",
    "   array.\n",
    "     * Channel $ii$ has minor loop link set to channel $i$, which triggers the\n",
    "       loading of the next channel `SC1A` configuration to be loaded immediately\n",
    "       after the current ADC result has been copied to the result array.\n",
    " - After $n$ triggers of channel $i$, the result array contains $n$ ADC results,\n",
    "   one result per channel in the `SC1A` table.\n",
    "     * **N.B.,** Only the trigger for the *first* ADC channel is an explicit\n",
    "       software trigger.  All remaining triggers occur through minor-loop DMA\n",
    "       channel linking from channel $ii$ to channel $i$.\n",
    " - After each scan through all ADC channels is complete, the ADC readings are\n",
    "   scattered using the selected \"scatter\" DMA channel through a major-loop link\n",
    "   between DMA channel $ii$ and the \"scatter\" channel.\n",
    "\n",
    "<img src=\"multi-channel_ADC_multi-samples_using_DMA.jpg\" style=\"max-height: 600px\" />"
   ]
  },
  {
   "cell_type": "markdown",
   "metadata": {},
   "source": [
    "# Device"
   ]
  },
  {
   "cell_type": "markdown",
   "metadata": {},
   "source": [
    "### Connect to device"
   ]
  },
  {
   "cell_type": "code",
   "execution_count": 260,
   "metadata": {
    "collapsed": false
   },
   "outputs": [],
   "source": [
    "import arduino_helpers.hardware.teensy as teensy\n",
    "from arduino_rpc.protobuf import resolve_field_values\n",
    "from teensy_minimal_rpc import SerialProxy\n",
    "import teensy_minimal_rpc.DMA as DMA\n",
    "import teensy_minimal_rpc.ADC as ADC\n",
    "import teensy_minimal_rpc.SIM as SIM\n",
    "import teensy_minimal_rpc.PIT as PIT\n",
    "\n",
    "\n",
    "# Disconnect from existing proxy (if available)\n",
    "try:\n",
    "    del proxy\n",
    "except NameError:\n",
    "    pass\n",
    "\n",
    "proxy = SerialProxy()\n",
    "proxy.pin_mode(teensy.LED_BUILTIN, 1)"
   ]
  },
  {
   "cell_type": "code",
   "execution_count": 261,
   "metadata": {
    "collapsed": false
   },
   "outputs": [
    {
     "data": {
      "text/html": [
       "<div>\n",
       "<table border=\"1\" class=\"dataframe\">\n",
       "  <thead>\n",
       "    <tr style=\"text-align: right;\">\n",
       "      <th>parent_name</th>\n",
       "      <th></th>\n",
       "      <th></th>\n",
       "      <th></th>\n",
       "      <th></th>\n",
       "      <th></th>\n",
       "      <th></th>\n",
       "      <th></th>\n",
       "      <th></th>\n",
       "      <th></th>\n",
       "      <th></th>\n",
       "      <th></th>\n",
       "      <th></th>\n",
       "      <th></th>\n",
       "      <th></th>\n",
       "    </tr>\n",
       "  </thead>\n",
       "  <tbody>\n",
       "    <tr>\n",
       "      <th>full_name</th>\n",
       "      <td>USBDCD</td>\n",
       "      <td>SPI0</td>\n",
       "      <td>SPI1</td>\n",
       "      <td>RTC</td>\n",
       "      <td>FTM1</td>\n",
       "      <td>FTM0</td>\n",
       "      <td>I2S</td>\n",
       "      <td>DMAMUX</td>\n",
       "      <td>CRC</td>\n",
       "      <td>FTFL</td>\n",
       "      <td>ADC0</td>\n",
       "      <td>FLEXCAN0</td>\n",
       "      <td>PIT</td>\n",
       "      <td>PDB</td>\n",
       "    </tr>\n",
       "    <tr>\n",
       "      <th>value</th>\n",
       "      <td>False</td>\n",
       "      <td>False</td>\n",
       "      <td>False</td>\n",
       "      <td>True</td>\n",
       "      <td>True</td>\n",
       "      <td>True</td>\n",
       "      <td>False</td>\n",
       "      <td>True</td>\n",
       "      <td>False</td>\n",
       "      <td>True</td>\n",
       "      <td>True</td>\n",
       "      <td>False</td>\n",
       "      <td>False</td>\n",
       "      <td>True</td>\n",
       "    </tr>\n",
       "  </tbody>\n",
       "</table>\n",
       "</div>"
      ],
      "text/plain": [
       "parent_name                                                                \\\n",
       "full_name    USBDCD   SPI0   SPI1   RTC  FTM1  FTM0    I2S  DMAMUX    CRC   \n",
       "value         False  False  False  True  True  True  False    True  False   \n",
       "\n",
       "parent_name                                     \n",
       "full_name    FTFL  ADC0  FLEXCAN0    PIT   PDB  \n",
       "value        True  True     False  False  True  "
      ]
     },
     "metadata": {},
     "output_type": "display_data"
    }
   ],
   "source": [
    "from IPython.display import display\n",
    "\n",
    "proxy.update_sim_SCGC6(SIM.R_SCGC6(PDB=True))\n",
    "sim_scgc6 = SIM.R_SCGC6.FromString(proxy.read_sim_SCGC6().tostring())\n",
    "display(resolve_field_values(sim_scgc6)[['full_name', 'value']].T)\n",
    "\n",
    "# proxy.update_pit_registers(PIT.Registers(MCR=PIT.R_MCR(MDIS=False)))\n",
    "# pit_registers = PIT.Registers.FromString(proxy.read_pit_registers().tostring())\n",
    "# display(resolve_field_values(pit_registers)[['full_name', 'value']].T)"
   ]
  },
  {
   "cell_type": "code",
   "execution_count": 266,
   "metadata": {
    "collapsed": false
   },
   "outputs": [],
   "source": [
    "import numpy as np\n",
    "\n",
    "# CORE_PIN13_PORTSET = CORE_PIN13_BITMASK;\n",
    "# CORE_PIN13_PORTCLEAR = CORE_PIN13_BITMASK;\n",
    "\n",
    "#define CORE_PIN13_PORTCLEAR\tGPIOC_PCOR\n",
    "#define CORE_PIN13_PORTSET\tGPIOC_PSOR\n",
    "#define GPIOC_PCOR\t\t(*(volatile uint32_t *)0x400FF088) // Port Clear Output Register\n",
    "#define GPIOC_PSOR\t\t(*(volatile uint32_t *)0x400FF084) // Port Set Output Register\n",
    "\n",
    "CORE_PIN13_BIT = 5\n",
    "GPIOC_PCOR = 0x400FF088  # Port Clear Output Register\n",
    "GPIOC_PSOR = 0x400FF084  # Port Set Output Register\n",
    "\n",
    "proxy.mem_cpy_host_to_device(GPIOC_PSOR, np.uint32(1 << CORE_PIN13_BIT).tostring())"
   ]
  },
  {
   "cell_type": "code",
   "execution_count": 299,
   "metadata": {
    "collapsed": false
   },
   "outputs": [
    {
     "data": {
      "text/plain": [
       "0"
      ]
     },
     "execution_count": 299,
     "metadata": {},
     "output_type": "execute_result"
    }
   ],
   "source": [
    "proxy.update_dma_mux_chcfg(0, DMA.MUX_CHCFG(ENBL=1, TRIG=0, SOURCE=48))\n",
    "proxy.update_dma_registers(DMA.Registers(SERQ=0))"
   ]
  },
  {
   "cell_type": "code",
   "execution_count": 298,
   "metadata": {
    "collapsed": false
   },
   "outputs": [
    {
     "data": {
      "text/plain": [
       "0"
      ]
     },
     "execution_count": 298,
     "metadata": {},
     "output_type": "execute_result"
    }
   ],
   "source": [
    "proxy.update_dma_registers(DMA.Registers(CERQ=0))"
   ]
  },
  {
   "cell_type": "code",
   "execution_count": 117,
   "metadata": {
    "collapsed": false
   },
   "outputs": [
    {
     "data": {
      "text/html": [
       "<div>\n",
       "<table border=\"1\" class=\"dataframe\">\n",
       "  <thead>\n",
       "    <tr style=\"text-align: right;\">\n",
       "      <th></th>\n",
       "      <th>full_name</th>\n",
       "      <th>value</th>\n",
       "    </tr>\n",
       "    <tr>\n",
       "      <th>parent_name</th>\n",
       "      <th></th>\n",
       "      <th></th>\n",
       "    </tr>\n",
       "  </thead>\n",
       "  <tbody>\n",
       "    <tr>\n",
       "      <th></th>\n",
       "      <td>SOURCE</td>\n",
       "      <td>54</td>\n",
       "    </tr>\n",
       "    <tr>\n",
       "      <th></th>\n",
       "      <td>TRIG</td>\n",
       "      <td>True</td>\n",
       "    </tr>\n",
       "    <tr>\n",
       "      <th></th>\n",
       "      <td>ENBL</td>\n",
       "      <td>True</td>\n",
       "    </tr>\n",
       "  </tbody>\n",
       "</table>\n",
       "</div>"
      ],
      "text/plain": [
       "            full_name value\n",
       "parent_name                \n",
       "               SOURCE    54\n",
       "                 TRIG  True\n",
       "                 ENBL  True"
      ]
     },
     "execution_count": 117,
     "metadata": {},
     "output_type": "execute_result"
    }
   ],
   "source": [
    "resolve_field_values(DMA.MUX_CHCFG.FromString(proxy.read_dma_mux_chcfg(0).tostring()))[['full_name', 'value']]"
   ]
  },
  {
   "cell_type": "code",
   "execution_count": 114,
   "metadata": {
    "collapsed": false
   },
   "outputs": [
    {
     "name": "stdout",
     "output_type": "stream",
     "text": [
      "0\n",
      "0\n"
     ]
    },
    {
     "data": {
      "text/html": [
       "<div>\n",
       "<table border=\"1\" class=\"dataframe\">\n",
       "  <thead>\n",
       "    <tr style=\"text-align: right;\">\n",
       "      <th>parent_name</th>\n",
       "      <th></th>\n",
       "      <th></th>\n",
       "      <th>TCTRL</th>\n",
       "      <th>TCTRL</th>\n",
       "      <th>TCTRL</th>\n",
       "      <th>TFLG</th>\n",
       "    </tr>\n",
       "  </thead>\n",
       "  <tbody>\n",
       "    <tr>\n",
       "      <th>full_name</th>\n",
       "      <td>LDVAL</td>\n",
       "      <td>CVAL</td>\n",
       "      <td>TCTRL.TIE</td>\n",
       "      <td>TCTRL.TEN</td>\n",
       "      <td>TCTRL.CHN</td>\n",
       "      <td>TFLG.TIF</td>\n",
       "    </tr>\n",
       "    <tr>\n",
       "      <th>value</th>\n",
       "      <td>48000000</td>\n",
       "      <td>39153688</td>\n",
       "      <td>False</td>\n",
       "      <td>True</td>\n",
       "      <td>False</td>\n",
       "      <td>True</td>\n",
       "    </tr>\n",
       "  </tbody>\n",
       "</table>\n",
       "</div>"
      ],
      "text/plain": [
       "parent_name                          TCTRL      TCTRL      TCTRL      TFLG\n",
       "full_name       LDVAL      CVAL  TCTRL.TIE  TCTRL.TEN  TCTRL.CHN  TFLG.TIF\n",
       "value        48000000  39153688      False       True      False      True"
      ]
     },
     "metadata": {},
     "output_type": "display_data"
    }
   ],
   "source": [
    "print proxy.update_pit_timer_config(0, PIT.TimerConfig(LDVAL=int(48e6)))\n",
    "print proxy.update_pit_timer_config(0, PIT.TimerConfig(TCTRL=PIT.R_TCTRL(TEN=True)))\n",
    "\n",
    "pit0 = PIT.TimerConfig.FromString(proxy.read_pit_timer_config(0).tostring())\n",
    "display(resolve_field_values(pit0)[['full_name', 'value']].T)"
   ]
  },
  {
   "cell_type": "code",
   "execution_count": 4,
   "metadata": {
    "collapsed": false
   },
   "outputs": [
    {
     "data": {
      "text/plain": [
       "1"
      ]
     },
     "execution_count": 4,
     "metadata": {},
     "output_type": "execute_result"
    }
   ],
   "source": [
    "PIT_LDVAL0 = 0x40037100  # Timer Load Value Register\n",
    "PIT_CVAL0  = 0x40037104  # Current Timer Value Register\n",
    "PIT_TCTRL0 = 0x40037108  # Timer Control Register\n",
    "proxy.mem_cpy_host_to_device(PIT_TCTRL0, np.uint32(1).tostring())\n",
    "proxy.mem_cpy_device_to_host(PIT_TCTRL0, 4).view('uint32')[0]"
   ]
  },
  {
   "cell_type": "code",
   "execution_count": 287,
   "metadata": {
    "collapsed": true
   },
   "outputs": [],
   "source": [
    "proxy.digital_write(teensy.LED_BUILTIN, 0)"
   ]
  },
  {
   "cell_type": "code",
   "execution_count": 273,
   "metadata": {
    "collapsed": false
   },
   "outputs": [
    {
     "data": {
      "text/plain": [
       "0"
      ]
     },
     "execution_count": 273,
     "metadata": {},
     "output_type": "execute_result"
    }
   ],
   "source": [
    "proxy.update_dma_registers(DMA.Registers(SSRT=0))"
   ]
  },
  {
   "cell_type": "code",
   "execution_count": 288,
   "metadata": {
    "collapsed": false
   },
   "outputs": [],
   "source": [
    "proxy.free_all()\n",
    "\n",
    "toggle_pin_addr = proxy.mem_alloc(4)\n",
    "proxy.mem_cpy_host_to_device(toggle_pin_addr, np.uint32(1 << CORE_PIN13_BIT).tostring())\n",
    "\n",
    "tcds_addr = proxy.mem_aligned_alloc(32, 2 * 32)\n",
    "hw_tcds_addr = 0x40009000\n",
    "tcd_addrs = [tcds_addr + 32 * i for i in xrange(2)]\n",
    "\n",
    "# Create Transfer Control Descriptor configuration for first chunk, encoded\n",
    "# as a Protocol Buffer message.\n",
    "tcd0_msg = DMA.TCD(CITER_ELINKNO=DMA.R_TCD_ITER_ELINKNO(ITER=1),\n",
    "                   BITER_ELINKNO=DMA.R_TCD_ITER_ELINKNO(ITER=1),\n",
    "                   ATTR=DMA.R_TCD_ATTR(SSIZE=DMA.R_TCD_ATTR._32_BIT,\n",
    "                                       DSIZE=DMA.R_TCD_ATTR._32_BIT),\n",
    "                   NBYTES_MLNO=4,\n",
    "                   SADDR=int(toggle_pin_addr),\n",
    "                   SOFF=0,\n",
    "                   SLAST=0,\n",
    "                   DADDR=int(GPIOC_PSOR),\n",
    "                   DOFF=0,\n",
    "#                    DLASTSGA=0,\n",
    "#                    CSR=DMA.R_TCD_CSR(START=0, DONE=False, ESG=False))\n",
    "# proxy.update_dma_TCD(0, tcd0_msg)\n",
    "                   DLASTSGA=int(tcd_addrs[1]),\n",
    "                   CSR=DMA.R_TCD_CSR(START=0, DONE=False, ESG=True))\n",
    "\n",
    "# # Convert Protocol Buffer encoded TCD to bytes structure.\n",
    "tcd0 = proxy.tcd_msg_to_struct(tcd0_msg)\n",
    "\n",
    "# Create binary TCD struct for each TCD protobuf message and copy to device\n",
    "# memory.\n",
    "for i in xrange(2):\n",
    "    tcd_i = tcd0.copy()\n",
    "    tcd_i['DADDR'] = [GPIOC_PSOR, GPIOC_PCOR][i]\n",
    "    tcd_i['DLASTSGA'] = tcd_addrs[(i + 1) % len(tcd_addrs)]\n",
    "    tcd_i['CSR'] |= (1 << 4)\n",
    "    proxy.mem_cpy_host_to_device(tcd_addrs[i], tcd_i.tostring())\n",
    "\n",
    "# Load initial TCD in scatter chain to DMA channel chosen to handle scattering.\n",
    "proxy.mem_cpy_host_to_device(hw_tcds_addr, tcd0.tostring())"
   ]
  },
  {
   "cell_type": "code",
   "execution_count": 61,
   "metadata": {
    "collapsed": false
   },
   "outputs": [
    {
     "data": {
      "text/plain": [
       "0"
      ]
     },
     "execution_count": 61,
     "metadata": {},
     "output_type": "execute_result"
    }
   ],
   "source": [
    "proxy.update_dma_registers(DMA.Registers(SSRT=0))"
   ]
  },
  {
   "cell_type": "code",
   "execution_count": null,
   "metadata": {
    "collapsed": true
   },
   "outputs": [],
   "source": [
    "dma_channel_scatter = 0\n",
    "dma_channel_i = 1\n",
    "dma_channel_ii = 2"
   ]
  },
  {
   "cell_type": "markdown",
   "metadata": {},
   "source": [
    "### Configure ADC sample rate, etc. ###"
   ]
  },
  {
   "cell_type": "code",
   "execution_count": null,
   "metadata": {
    "collapsed": false
   },
   "outputs": [],
   "source": [
    "\n",
    "# Set ADC parameters\n",
    "proxy.setAveraging(16, teensy.ADC_0)\n",
    "proxy.setResolution(16, teensy.ADC_0)\n",
    "proxy.setConversionSpeed(teensy.ADC_MED_SPEED, teensy.ADC_0)\n",
    "proxy.setSamplingSpeed(teensy.ADC_MED_SPEED, teensy.ADC_0)\n",
    "proxy.update_adc_registers(\n",
    "    teensy.ADC_0,\n",
    "    ADC.Registers(CFG2=ADC.R_CFG2(MUXSEL=ADC.R_CFG2.B)))"
   ]
  },
  {
   "cell_type": "markdown",
   "metadata": {},
   "source": [
    "Pseudo-code to set DMA channel $i$ to be triggered by ADC0 conversion complete.\n",
    "\n",
    "    DMAMUX0_CFGi[SOURCE] = DMAMUX_SOURCE_ADC0  // Route ADC0 as DMA channel source.\n",
    "    DMAMUX0_CFGi[TRIG] = 0  // Disable periodic trigger.\n",
    "    DMAMUX0_CFGi[ENBL] = 1  // Enable the DMAMUX configuration for channel.\n",
    "    \n",
    "    DMA_ERQ[i] = 1  // DMA request input signals and this enable request flag\n",
    "                    // must be asserted before a channel’s hardware service\n",
    "                    // request is accepted (21.3.3/394).\n",
    "    DMA_SERQ = i  // Can use memory mapped convenience register to set instead.\n",
    "\n"
   ]
  },
  {
   "cell_type": "markdown",
   "metadata": {},
   "source": [
    "### Set DMA mux source for channel 0 to ADC0 ###"
   ]
  },
  {
   "cell_type": "code",
   "execution_count": null,
   "metadata": {
    "collapsed": false
   },
   "outputs": [],
   "source": [
    "DMAMUX_SOURCE_ADC0 = 40  # from `kinetis.h`\n",
    "DMAMUX_SOURCE_ADC1 = 41  # from `kinetis.h`\n",
    "\n",
    "#    DMAMUX0_CFGi[SOURCE] = DMAMUX_SOURCE_ADC0  // Route ADC0 as DMA channel source.\n",
    "#    DMAMUX0_CFGi[TRIG] = 0  // Disable periodic trigger.\n",
    "#    DMAMUX0_CFGi[ENBL] = 1  // Enable the DMAMUX configuration for channel.\n",
    "proxy.update_dma_mux_chcfg(dma_channel_ii,\n",
    "                           DMA.MUX_CHCFG(SOURCE=DMAMUX_SOURCE_ADC0,\n",
    "                                         TRIG=False,\n",
    "                                         ENBL=True))\n",
    "\n",
    "# DMA request input signals and this enable request flag\n",
    "# must be asserted before a channel’s hardware service\n",
    "# request is accepted (21.3.3/394).\n",
    "#    DMA_SERQ = i\n",
    "proxy.update_dma_registers(DMA.Registers(SERQ=dma_channel_ii))\n",
    "proxy.enableDMA(teensy.ADC_0)"
   ]
  },
  {
   "cell_type": "code",
   "execution_count": null,
   "metadata": {
    "collapsed": false
   },
   "outputs": [],
   "source": [
    "proxy.DMA_registers().loc['']"
   ]
  },
  {
   "cell_type": "code",
   "execution_count": null,
   "metadata": {
    "collapsed": false,
    "scrolled": true
   },
   "outputs": [],
   "source": [
    "dmamux = DMA.MUX_CHCFG.FromString(proxy.read_dma_mux_chcfg(dma_channel_ii).tostring())\n",
    "resolve_field_values(dmamux)[['full_name', 'value']]"
   ]
  },
  {
   "cell_type": "code",
   "execution_count": null,
   "metadata": {
    "collapsed": false
   },
   "outputs": [],
   "source": [
    "adc0 = ADC.Registers.FromString(proxy.read_adc_registers(teensy.ADC_0).tostring())\n",
    "resolve_field_values(adc0)[['full_name', 'value']].loc[['CFG2', 'SC1A', 'SC3']]"
   ]
  },
  {
   "cell_type": "markdown",
   "metadata": {},
   "source": [
    "### Analog channel list ###\n",
    "\n",
    " - List of channels to sample.\n",
    " - Map channels from Teensy references (e.g., `A0`, `A1`, etc.) to the Kinetis analog\n",
    "   pin numbers using the `adc.CHANNEL_TO_SC1A_ADC0` mapping."
   ]
  },
  {
   "cell_type": "code",
   "execution_count": null,
   "metadata": {
    "collapsed": false
   },
   "outputs": [],
   "source": [
    "import re\n",
    "\n",
    "import numpy as np\n",
    "import pandas as pd\n",
    "import arduino_helpers.hardware.teensy.adc as adc\n",
    "\n",
    "# The number of samples to record for each ADC channel.\n",
    "sample_count = 10\n",
    "\n",
    "teensy_analog_channels = ['A0', 'A1', 'A0', 'A3', 'A0']\n",
    "sc1a_pins = pd.Series(dict([(v, adc.CHANNEL_TO_SC1A_ADC0[getattr(teensy, v)])\n",
    "                            for v in dir(teensy) if re.search(r'^A\\d+', v)]))\n",
    "channel_sc1as = np.array(sc1a_pins[teensy_analog_channels].tolist(), dtype='uint32')"
   ]
  },
  {
   "cell_type": "markdown",
   "metadata": {},
   "source": [
    "### Allocate and initialize device arrays ###\n",
    "\n",
    " - `SD1A` register configuration for each ADC channel in the `channel_sc1as` list.\n",
    "     * Copy `channel_sc1as` list to device.\n",
    " - ADC result array\n",
    "     * Initialize to zero."
   ]
  },
  {
   "cell_type": "code",
   "execution_count": null,
   "metadata": {
    "collapsed": false
   },
   "outputs": [],
   "source": [
    "proxy.free_all()\n",
    "\n",
    "N = np.dtype('uint16').itemsize * channel_sc1as.size\n",
    "\n",
    "# Allocate source array\n",
    "adc_result_addr = proxy.mem_alloc(N)\n",
    "\n",
    "# Fill result array with zeros\n",
    "proxy.mem_fill_uint8(adc_result_addr, 0, N)\n",
    "\n",
    "# Copy channel SC1A configurations to device memory\n",
    "adc_sda1s_addr = proxy.mem_aligned_alloc_and_set(4, channel_sc1as.view('uint8'))\n",
    "\n",
    "# Allocate source array\n",
    "samples_addr = proxy.mem_alloc(sample_count * N)\n",
    "\n",
    "tcds_addr = proxy.mem_aligned_alloc(32, sample_count * 32)\n",
    "hw_tcds_addr = 0x40009000\n",
    "tcd_addrs = [tcds_addr + 32 * i for i in xrange(sample_count)]\n",
    "hw_tcd_addrs = [hw_tcds_addr + 32 * i for i in xrange(sample_count)]\n",
    "\n",
    "# Fill result array with zeros\n",
    "proxy.mem_fill_uint8(samples_addr, 0, sample_count * N)\n",
    "\n",
    "# Create Transfer Control Descriptor configuration for first chunk, encoded\n",
    "# as a Protocol Buffer message.\n",
    "tcd0_msg = DMA.TCD(CITER_ELINKNO=DMA.R_TCD_ITER_ELINKNO(ITER=1),\n",
    "                   BITER_ELINKNO=DMA.R_TCD_ITER_ELINKNO(ITER=1),\n",
    "                   ATTR=DMA.R_TCD_ATTR(SSIZE=DMA.R_TCD_ATTR._16_BIT,\n",
    "                                       DSIZE=DMA.R_TCD_ATTR._16_BIT),\n",
    "                   NBYTES_MLNO=channel_sc1as.size * 2,\n",
    "                   SADDR=int(adc_result_addr),\n",
    "                   SOFF=2,\n",
    "                   SLAST=-channel_sc1as.size * 2,\n",
    "                   DADDR=int(samples_addr),\n",
    "                   DOFF=2 * sample_count,\n",
    "                   DLASTSGA=int(tcd_addrs[1]),\n",
    "                   CSR=DMA.R_TCD_CSR(START=0, DONE=False, ESG=True))\n",
    "\n",
    "# Convert Protocol Buffer encoded TCD to bytes structure.\n",
    "tcd0 = proxy.tcd_msg_to_struct(tcd0_msg)\n",
    "\n",
    "# Create binary TCD struct for each TCD protobuf message and copy to device\n",
    "# memory.\n",
    "for i in xrange(sample_count):\n",
    "    tcd_i = tcd0.copy()\n",
    "    tcd_i['SADDR'] = adc_result_addr\n",
    "    tcd_i['DADDR'] = samples_addr + 2 * i\n",
    "    tcd_i['DLASTSGA'] = tcd_addrs[(i + 1) % len(tcd_addrs)]\n",
    "    tcd_i['CSR'] |= (1 << 4)\n",
    "    proxy.mem_cpy_host_to_device(tcd_addrs[i], tcd_i.tostring())\n",
    "\n",
    "# Load initial TCD in scatter chain to DMA channel chosen to handle scattering.\n",
    "proxy.mem_cpy_host_to_device(hw_tcd_addrs[dma_channel_scatter],\n",
    "                             tcd0.tostring())\n",
    "\n",
    "print 'ADC results:', proxy.mem_cpy_device_to_host(adc_result_addr, N).view('uint16')\n",
    "print 'Analog pins:', proxy.mem_cpy_device_to_host(adc_sda1s_addr, len(channel_sc1as) *\n",
    "                                                   channel_sc1as.dtype.itemsize).view('uint32')"
   ]
  },
  {
   "cell_type": "markdown",
   "metadata": {},
   "source": [
    "### Configure DMA channel $i$ ###"
   ]
  },
  {
   "cell_type": "code",
   "execution_count": null,
   "metadata": {
    "collapsed": false
   },
   "outputs": [],
   "source": [
    "ADC0_SC1A = 0x4003B000  # ADC status and control registers 1\n",
    "\n",
    "sda1_tcd_msg = DMA.TCD(CITER_ELINKNO=DMA.R_TCD_ITER_ELINKNO(ELINK=False, ITER=channel_sc1as.size),\n",
    "                       BITER_ELINKNO=DMA.R_TCD_ITER_ELINKNO(ELINK=False, ITER=channel_sc1as.size),\n",
    "                       ATTR=DMA.R_TCD_ATTR(SSIZE=DMA.R_TCD_ATTR._32_BIT,\n",
    "                                           DSIZE=DMA.R_TCD_ATTR._32_BIT),\n",
    "                       NBYTES_MLNO=4,\n",
    "                       SADDR=int(adc_sda1s_addr),\n",
    "                       SOFF=4,\n",
    "                       SLAST=-channel_sc1as.size * 4,\n",
    "                       DADDR=int(ADC0_SC1A),\n",
    "                       DOFF=0,\n",
    "                       DLASTSGA=0,\n",
    "                       CSR=DMA.R_TCD_CSR(START=0, DONE=False))\n",
    "\n",
    "proxy.update_dma_TCD(dma_channel_i, sda1_tcd_msg)"
   ]
  },
  {
   "cell_type": "markdown",
   "metadata": {},
   "source": [
    "### Configure DMA channel $ii$ ###"
   ]
  },
  {
   "cell_type": "code",
   "execution_count": null,
   "metadata": {
    "collapsed": false
   },
   "outputs": [],
   "source": [
    "ADC0_RA = 0x4003B010  # ADC data result register\n",
    "ADC0_RB = 0x4003B014  # ADC data result register\n",
    "\n",
    "\n",
    "tcd_msg = DMA.TCD(CITER_ELINKYES=DMA.R_TCD_ITER_ELINKYES(ELINK=True, LINKCH=1, ITER=channel_sc1as.size),\n",
    "                  BITER_ELINKYES=DMA.R_TCD_ITER_ELINKYES(ELINK=True, LINKCH=1, ITER=channel_sc1as.size),\n",
    "                  ATTR=DMA.R_TCD_ATTR(SSIZE=DMA.R_TCD_ATTR._16_BIT,\n",
    "                                      DSIZE=DMA.R_TCD_ATTR._16_BIT),\n",
    "                  NBYTES_MLNO=2,\n",
    "                  SADDR=ADC0_RA,\n",
    "                  SOFF=0,\n",
    "                  SLAST=0,\n",
    "                  DADDR=int(adc_result_addr),\n",
    "                  DOFF=2,\n",
    "                  DLASTSGA=-channel_sc1as.size * 2,\n",
    "                  CSR=DMA.R_TCD_CSR(START=0, DONE=False,\n",
    "                                    MAJORELINK=True,\n",
    "                                    MAJORLINKCH=dma_channel_scatter))\n",
    "\n",
    "proxy.update_dma_TCD(dma_channel_ii, tcd_msg)"
   ]
  },
  {
   "cell_type": "markdown",
   "metadata": {},
   "source": [
    "### Trigger sample scan across selected ADC channels ###"
   ]
  },
  {
   "cell_type": "code",
   "execution_count": null,
   "metadata": {
    "collapsed": false
   },
   "outputs": [],
   "source": [
    "# Clear output array to zero.\n",
    "proxy.mem_fill_uint8(adc_result_addr, 0, N)\n",
    "proxy.mem_fill_uint8(samples_addr, 0, sample_count * N)\n",
    "\n",
    "# Software trigger channel $i$ to copy *first* SC1A configuration, which\n",
    "# starts ADC conversion for the first channel.\n",
    "#\n",
    "# Conversions for subsequent ADC channels are triggered through minor-loop\n",
    "# linking from DMA channel $ii$ to DMA channel $i$ (*not* through explicit\n",
    "# software trigger).\n",
    "print 'ADC results:'\n",
    "for i in xrange(sample_count):\n",
    "    proxy.update_dma_registers(DMA.Registers(SSRT=dma_channel_i))\n",
    "\n",
    "    # Display converted ADC values (one value per channel in `channel_sd1as` list).\n",
    "    print '  Iteration %s:' % i, proxy.mem_cpy_device_to_host(adc_result_addr, N).view('uint16')\n",
    "\n",
    "print ''\n",
    "print 'Samples by channel:'\n",
    "# Trigger once per chunk\n",
    "# for i in xrange(sample_count):\n",
    "# proxy.update_dma_registers(DMA.Registers(SSRT=0))\n",
    "device_dst_data = proxy.mem_cpy_device_to_host(samples_addr, sample_count * N)\n",
    "pd.DataFrame(device_dst_data.view('uint16').reshape(-1, sample_count).T,\n",
    "             columns=teensy_analog_channels)"
   ]
  },
  {
   "cell_type": "code",
   "execution_count": null,
   "metadata": {
    "collapsed": true
   },
   "outputs": [],
   "source": [
    "\n",
    "\n",
    "\n",
    "\n",
    "\n",
    "\n",
    "\n",
    "\n",
    "\n",
    "\n",
    "\n",
    "\n",
    "\n",
    "\n",
    "\n",
    "\n",
    "\n",
    "\n",
    "\n",
    "\n",
    "\n",
    "\n",
    "\n",
    "\n",
    "\n",
    "\n",
    "\n",
    "\n",
    "\n",
    "\n",
    "\n"
   ]
  }
 ],
 "metadata": {
  "kernelspec": {
   "display_name": "Python 2",
   "language": "python",
   "name": "python2"
  },
  "language_info": {
   "codemirror_mode": {
    "name": "ipython",
    "version": 2
   },
   "file_extension": ".py",
   "mimetype": "text/x-python",
   "name": "python",
   "nbconvert_exporter": "python",
   "pygments_lexer": "ipython2",
   "version": "2.7.9"
  }
 },
 "nbformat": 4,
 "nbformat_minor": 0
}
